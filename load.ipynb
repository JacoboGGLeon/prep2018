{
 "cells": [
  {
   "cell_type": "code",
   "execution_count": 281,
   "metadata": {},
   "outputs": [],
   "source": [
    "import pandas as pd"
   ]
  },
  {
   "cell_type": "code",
   "execution_count": 282,
   "metadata": {},
   "outputs": [],
   "source": [
    "path = 'presidencia.csv'"
   ]
  },
  {
   "cell_type": "code",
   "execution_count": 283,
   "metadata": {},
   "outputs": [
    {
     "data": {
      "text/html": [
       "<div>\n",
       "<style scoped>\n",
       "    .dataframe tbody tr th:only-of-type {\n",
       "        vertical-align: middle;\n",
       "    }\n",
       "\n",
       "    .dataframe tbody tr th {\n",
       "        vertical-align: top;\n",
       "    }\n",
       "\n",
       "    .dataframe thead th {\n",
       "        text-align: right;\n",
       "    }\n",
       "</style>\n",
       "<table border=\"1\" class=\"dataframe\">\n",
       "  <thead>\n",
       "    <tr style=\"text-align: right;\">\n",
       "      <th></th>\n",
       "      <th>CLAVE_CASILLA</th>\n",
       "      <th>CLAVE_ACTA</th>\n",
       "      <th>ID_ESTADO</th>\n",
       "      <th>ESTADO</th>\n",
       "      <th>ID_DISTRITO_FEDERAL</th>\n",
       "      <th>DISTRITO_FEDERAL</th>\n",
       "      <th>SECCION</th>\n",
       "      <th>ID_CASILLA</th>\n",
       "      <th>TIPO_CASILLA</th>\n",
       "      <th>EXT_CONTIGUA</th>\n",
       "      <th>...</th>\n",
       "      <th>CONTABILIZADA</th>\n",
       "      <th>MECANISMOS_TRASLADO</th>\n",
       "      <th>SHA</th>\n",
       "      <th>FECHA_HORA_ACOPIO</th>\n",
       "      <th>FECHA_HORA_CAPTURA</th>\n",
       "      <th>FECHA_HORA_VERIFICACION</th>\n",
       "      <th>ORIGEN</th>\n",
       "      <th>DIGITALIZACION</th>\n",
       "      <th>TIPO_DOCUMENTO</th>\n",
       "      <th>COTEJADA</th>\n",
       "    </tr>\n",
       "  </thead>\n",
       "  <tbody>\n",
       "    <tr>\n",
       "      <th>0</th>\n",
       "      <td>'010000M0100'</td>\n",
       "      <td>'010000M010001'</td>\n",
       "      <td>1</td>\n",
       "      <td>AGUASCALIENTES</td>\n",
       "      <td>0</td>\n",
       "      <td></td>\n",
       "      <td></td>\n",
       "      <td>1</td>\n",
       "      <td>M</td>\n",
       "      <td>0</td>\n",
       "      <td>...</td>\n",
       "      <td>1</td>\n",
       "      <td>-</td>\n",
       "      <td>a17d856a260b001c68b498781c1ca71ef9e0bfbc7cb98e...</td>\n",
       "      <td>7/1/18 07:25</td>\n",
       "      <td>7/2/18 07:46</td>\n",
       "      <td>7/2/18 07:46</td>\n",
       "      <td>CATD</td>\n",
       "      <td>ESCÁNER</td>\n",
       "      <td>-</td>\n",
       "      <td>1</td>\n",
       "    </tr>\n",
       "    <tr>\n",
       "      <th>1</th>\n",
       "      <td>'010338B0100'</td>\n",
       "      <td>'010338B010002'</td>\n",
       "      <td>1</td>\n",
       "      <td>AGUASCALIENTES</td>\n",
       "      <td>1</td>\n",
       "      <td>Jesús María</td>\n",
       "      <td>338</td>\n",
       "      <td>1</td>\n",
       "      <td>B</td>\n",
       "      <td>0</td>\n",
       "      <td>...</td>\n",
       "      <td>1</td>\n",
       "      <td>F</td>\n",
       "      <td>25af5bfa78cd2bf74f9377e4a266605eea6e478fe27ae8...</td>\n",
       "      <td>7/2/18 07:11</td>\n",
       "      <td>7/2/18 11:33</td>\n",
       "      <td>7/2/18 11:34</td>\n",
       "      <td>CATD</td>\n",
       "      <td>ESCÁNER</td>\n",
       "      <td>Acta PREP</td>\n",
       "      <td>1</td>\n",
       "    </tr>\n",
       "    <tr>\n",
       "      <th>2</th>\n",
       "      <td>'010338C0100'</td>\n",
       "      <td>'010338C010002'</td>\n",
       "      <td>1</td>\n",
       "      <td>AGUASCALIENTES</td>\n",
       "      <td>1</td>\n",
       "      <td>Jesús María</td>\n",
       "      <td>338</td>\n",
       "      <td>1</td>\n",
       "      <td>C</td>\n",
       "      <td>0</td>\n",
       "      <td>...</td>\n",
       "      <td>1</td>\n",
       "      <td>F</td>\n",
       "      <td>b8f3fb89dda14167b6cb4f2f4d24a8b205446ac9035311...</td>\n",
       "      <td>7/2/18 07:08</td>\n",
       "      <td>7/2/18 11:23</td>\n",
       "      <td>7/2/18 11:26</td>\n",
       "      <td>CATD</td>\n",
       "      <td>ESCÁNER</td>\n",
       "      <td>Acta PREP</td>\n",
       "      <td>1</td>\n",
       "    </tr>\n",
       "    <tr>\n",
       "      <th>3</th>\n",
       "      <td>'010338C0200'</td>\n",
       "      <td>'010338C020002'</td>\n",
       "      <td>1</td>\n",
       "      <td>AGUASCALIENTES</td>\n",
       "      <td>1</td>\n",
       "      <td>Jesús María</td>\n",
       "      <td>338</td>\n",
       "      <td>2</td>\n",
       "      <td>C</td>\n",
       "      <td>0</td>\n",
       "      <td>...</td>\n",
       "      <td>1</td>\n",
       "      <td>F</td>\n",
       "      <td>75562582dc5be7bf9177dfc1458df9a60b9aba746e2225...</td>\n",
       "      <td>7/2/18 06:55</td>\n",
       "      <td>7/2/18 10:43</td>\n",
       "      <td>7/2/18 10:44</td>\n",
       "      <td>CATD</td>\n",
       "      <td>ESCÁNER</td>\n",
       "      <td>Acta PREP</td>\n",
       "      <td>1</td>\n",
       "    </tr>\n",
       "    <tr>\n",
       "      <th>4</th>\n",
       "      <td>'010339B0100'</td>\n",
       "      <td>'010339B010002'</td>\n",
       "      <td>1</td>\n",
       "      <td>AGUASCALIENTES</td>\n",
       "      <td>1</td>\n",
       "      <td>Jesús María</td>\n",
       "      <td>339</td>\n",
       "      <td>1</td>\n",
       "      <td>B</td>\n",
       "      <td>0</td>\n",
       "      <td>...</td>\n",
       "      <td>1</td>\n",
       "      <td>F-D</td>\n",
       "      <td>15fd04a75d46e0027204d72f0e8486262e09ff7f7b34b6...</td>\n",
       "      <td>7/2/18 07:12</td>\n",
       "      <td>7/2/18 11:09</td>\n",
       "      <td>7/2/18 11:10</td>\n",
       "      <td>CATD</td>\n",
       "      <td>ESCÁNER</td>\n",
       "      <td>Acta PREP</td>\n",
       "      <td>1</td>\n",
       "    </tr>\n",
       "  </tbody>\n",
       "</table>\n",
       "<p>5 rows × 56 columns</p>\n",
       "</div>"
      ],
      "text/plain": [
       "   CLAVE_CASILLA       CLAVE_ACTA  ID_ESTADO          ESTADO  \\\n",
       "0  '010000M0100'  '010000M010001'          1  AGUASCALIENTES   \n",
       "1  '010338B0100'  '010338B010002'          1  AGUASCALIENTES   \n",
       "2  '010338C0100'  '010338C010002'          1  AGUASCALIENTES   \n",
       "3  '010338C0200'  '010338C020002'          1  AGUASCALIENTES   \n",
       "4  '010339B0100'  '010339B010002'          1  AGUASCALIENTES   \n",
       "\n",
       "   ID_DISTRITO_FEDERAL DISTRITO_FEDERAL SECCION  ID_CASILLA TIPO_CASILLA  \\\n",
       "0                    0                                    1            M   \n",
       "1                    1      Jesús María     338           1            B   \n",
       "2                    1      Jesús María     338           1            C   \n",
       "3                    1      Jesús María     338           2            C   \n",
       "4                    1      Jesús María     339           1            B   \n",
       "\n",
       "   EXT_CONTIGUA   ...     CONTABILIZADA  MECANISMOS_TRASLADO  \\\n",
       "0             0   ...                 1                    -   \n",
       "1             0   ...                 1                    F   \n",
       "2             0   ...                 1                    F   \n",
       "3             0   ...                 1                    F   \n",
       "4             0   ...                 1                  F-D   \n",
       "\n",
       "                                                 SHA FECHA_HORA_ACOPIO  \\\n",
       "0  a17d856a260b001c68b498781c1ca71ef9e0bfbc7cb98e...      7/1/18 07:25   \n",
       "1  25af5bfa78cd2bf74f9377e4a266605eea6e478fe27ae8...      7/2/18 07:11   \n",
       "2  b8f3fb89dda14167b6cb4f2f4d24a8b205446ac9035311...      7/2/18 07:08   \n",
       "3  75562582dc5be7bf9177dfc1458df9a60b9aba746e2225...      7/2/18 06:55   \n",
       "4  15fd04a75d46e0027204d72f0e8486262e09ff7f7b34b6...      7/2/18 07:12   \n",
       "\n",
       "  FECHA_HORA_CAPTURA FECHA_HORA_VERIFICACION ORIGEN DIGITALIZACION  \\\n",
       "0       7/2/18 07:46            7/2/18 07:46   CATD        ESCÁNER   \n",
       "1       7/2/18 11:33            7/2/18 11:34   CATD        ESCÁNER   \n",
       "2       7/2/18 11:23            7/2/18 11:26   CATD        ESCÁNER   \n",
       "3       7/2/18 10:43            7/2/18 10:44   CATD        ESCÁNER   \n",
       "4       7/2/18 11:09            7/2/18 11:10   CATD        ESCÁNER   \n",
       "\n",
       "  TIPO_DOCUMENTO COTEJADA  \n",
       "0              -        1  \n",
       "1      Acta PREP        1  \n",
       "2      Acta PREP        1  \n",
       "3      Acta PREP        1  \n",
       "4      Acta PREP        1  \n",
       "\n",
       "[5 rows x 56 columns]"
      ]
     },
     "execution_count": 283,
     "metadata": {},
     "output_type": "execute_result"
    }
   ],
   "source": [
    "df = pd.read_csv(path, encoding='latin1', low_memory=False)\n",
    "df.head()"
   ]
  },
  {
   "cell_type": "code",
   "execution_count": 284,
   "metadata": {},
   "outputs": [
    {
     "data": {
      "text/plain": [
       "(158846, 56)"
      ]
     },
     "execution_count": 284,
     "metadata": {},
     "output_type": "execute_result"
    }
   ],
   "source": [
    "df.shape"
   ]
  },
  {
   "cell_type": "code",
   "execution_count": 285,
   "metadata": {},
   "outputs": [
    {
     "name": "stdout",
     "output_type": "stream",
     "text": [
      "<class 'pandas.core.frame.DataFrame'>\n",
      "RangeIndex: 158846 entries, 0 to 158845\n",
      "Data columns (total 56 columns):\n",
      "CLAVE_CASILLA                   158846 non-null object\n",
      "CLAVE_ACTA                      158846 non-null object\n",
      "ID_ESTADO                       158846 non-null int64\n",
      "ESTADO                          158846 non-null object\n",
      "ID_DISTRITO_FEDERAL             158846 non-null int64\n",
      "DISTRITO_FEDERAL                158842 non-null object\n",
      "SECCION                         158846 non-null object\n",
      "ID_CASILLA                      158846 non-null int64\n",
      "TIPO_CASILLA                    158846 non-null object\n",
      "EXT_CONTIGUA                    158846 non-null int64\n",
      "UBICACION_CASILLA               158846 non-null int64\n",
      "TIPO_ACTA                       158846 non-null int64\n",
      "TOTAL_BOLETAS_SOBRANTES         158846 non-null object\n",
      "TOTAL_PERSONAS_VOTARON          158846 non-null object\n",
      "TOTAL_REP_PARTIDO_CI_VOTARON    158846 non-null object\n",
      "TOTAL_VOTOS_SACADOS             158846 non-null object\n",
      "PAN                             158846 non-null object\n",
      "PRI                             158846 non-null object\n",
      "PRD                             158846 non-null object\n",
      "PVEM                            158846 non-null object\n",
      "PT                              158846 non-null object\n",
      "MC                              158846 non-null object\n",
      "PANAL                           158846 non-null object\n",
      "MORENA                          158846 non-null object\n",
      "PES                             158846 non-null object\n",
      "C_PAN_PRD_MC                    158846 non-null object\n",
      "C_PAN_PRD                       158846 non-null object\n",
      "C_PAN_MC                        158846 non-null object\n",
      "C_PRD_MC                        158846 non-null object\n",
      "C_PRI_PVEM_PANAL                158846 non-null object\n",
      "C_PRI_PVEM                      158846 non-null object\n",
      "C_PRI_PANAL                     158846 non-null object\n",
      "C_PVEM_PANAL                    158846 non-null object\n",
      "C_PT_MORENA_PES                 158846 non-null object\n",
      "C_PT_MORENA                     158846 non-null object\n",
      "C_PT_PES                        158846 non-null object\n",
      "C_MORENA_PES                    158846 non-null object\n",
      "CAND_IND_01                     158846 non-null object\n",
      "CAND_IND_02                     158846 non-null object\n",
      "NO_REGISTRADOS                  158846 non-null object\n",
      "NULOS                           158846 non-null object\n",
      "TOTAL_VOTOS_ASENTADO            158846 non-null object\n",
      "TOTAL_VOTOS_CALCULADO           158846 non-null object\n",
      "LISTA_NOMINAL                   158846 non-null object\n",
      "REPRESENTANTES_PP_CI            158846 non-null object\n",
      "OBSERVACIONES                   158846 non-null object\n",
      "CONTABILIZADA                   158846 non-null object\n",
      "MECANISMOS_TRASLADO             158846 non-null object\n",
      "SHA                             158846 non-null object\n",
      "FECHA_HORA_ACOPIO               158846 non-null object\n",
      "FECHA_HORA_CAPTURA              158846 non-null object\n",
      "FECHA_HORA_VERIFICACION         158846 non-null object\n",
      "ORIGEN                          158846 non-null object\n",
      "DIGITALIZACION                  158846 non-null object\n",
      "TIPO_DOCUMENTO                  158846 non-null object\n",
      "COTEJADA                        158846 non-null object\n",
      "dtypes: int64(6), object(50)\n",
      "memory usage: 67.9+ MB\n"
     ]
    }
   ],
   "source": [
    "df.info()"
   ]
  },
  {
   "cell_type": "code",
   "execution_count": 286,
   "metadata": {},
   "outputs": [
    {
     "data": {
      "text/plain": [
       "True"
      ]
     },
     "execution_count": 286,
     "metadata": {},
     "output_type": "execute_result"
    }
   ],
   "source": [
    "df.isnull().any().any()"
   ]
  },
  {
   "cell_type": "code",
   "execution_count": 287,
   "metadata": {},
   "outputs": [
    {
     "data": {
      "text/plain": [
       "['DISTRITO_FEDERAL']"
      ]
     },
     "execution_count": 287,
     "metadata": {},
     "output_type": "execute_result"
    }
   ],
   "source": [
    "df.columns[df.isnull().any()].tolist()"
   ]
  },
  {
   "cell_type": "code",
   "execution_count": 288,
   "metadata": {},
   "outputs": [
    {
     "data": {
      "text/plain": [
       "4"
      ]
     },
     "execution_count": 288,
     "metadata": {},
     "output_type": "execute_result"
    }
   ],
   "source": [
    "len(pd.isnull(df).any(1).nonzero()[0].tolist())"
   ]
  },
  {
   "cell_type": "code",
   "execution_count": 289,
   "metadata": {},
   "outputs": [
    {
     "data": {
      "text/plain": [
       "[157060, 157217, 157934, 157935]"
      ]
     },
     "execution_count": 289,
     "metadata": {},
     "output_type": "execute_result"
    }
   ],
   "source": [
    "pd.isnull(df).any(1).nonzero()[0].tolist()"
   ]
  },
  {
   "cell_type": "code",
   "execution_count": 290,
   "metadata": {},
   "outputs": [],
   "source": [
    "df.dropna(axis=0, inplace=True)"
   ]
  },
  {
   "cell_type": "code",
   "execution_count": 291,
   "metadata": {},
   "outputs": [
    {
     "data": {
      "text/plain": [
       "(158842, 56)"
      ]
     },
     "execution_count": 291,
     "metadata": {},
     "output_type": "execute_result"
    }
   ],
   "source": [
    "df.shape"
   ]
  },
  {
   "cell_type": "code",
   "execution_count": 292,
   "metadata": {},
   "outputs": [
    {
     "data": {
      "text/plain": [
       "False"
      ]
     },
     "execution_count": 292,
     "metadata": {},
     "output_type": "execute_result"
    }
   ],
   "source": [
    "df.isnull().any().any()"
   ]
  },
  {
   "cell_type": "code",
   "execution_count": 293,
   "metadata": {},
   "outputs": [],
   "source": [
    "df_copy = df.copy()"
   ]
  },
  {
   "cell_type": "markdown",
   "metadata": {},
   "source": [
    "`ESTADO` - Indica el nombre de la Entidad Federativa a la que corresponde el Acta."
   ]
  },
  {
   "cell_type": "code",
   "execution_count": 294,
   "metadata": {},
   "outputs": [
    {
     "data": {
      "text/plain": [
       "array(['AGUASCALIENTES', 'BAJA CALIFORNIA', 'BAJA CALIFORNIA SUR',\n",
       "       'CAMPECHE', 'COAHUILA', 'COLIMA', 'CHIAPAS', 'CHIHUAHUA',\n",
       "       'CIUDAD DE MÉXICO', 'DURANGO', 'GUANAJUATO', 'GUERRERO', 'HIDALGO',\n",
       "       'JALISCO', 'MÉXICO', 'MICHOACÁN', 'MORELOS', 'NAYARIT',\n",
       "       'NUEVO LEÓN', 'OAXACA', 'PUEBLA', 'QUERÉTARO', 'QUINTANA ROO',\n",
       "       'SAN LUIS POTOSÍ', 'SINALOA', 'SONORA', 'TABASCO', 'TAMAULIPAS',\n",
       "       'TLAXCALA', 'VERACRUZ', 'YUCATÁN', 'ZACATECAS'], dtype=object)"
      ]
     },
     "execution_count": 294,
     "metadata": {},
     "output_type": "execute_result"
    }
   ],
   "source": [
    "df_copy.ESTADO.unique()"
   ]
  },
  {
   "cell_type": "markdown",
   "metadata": {},
   "source": [
    "`DISTRITO_FEDERAL` - Nombre del distrito electoral de la entidad acorde al tipo de elección."
   ]
  },
  {
   "cell_type": "code",
   "execution_count": 295,
   "metadata": {},
   "outputs": [
    {
     "data": {
      "text/plain": [
       "Iztapalapa             2485\n",
       "Tijuana                2453\n",
       "Juárez                 2284\n",
       "Ecatepec de Morelos    2220\n",
       "Guadalajara            2195\n",
       "Name: DISTRITO_FEDERAL, dtype: int64"
      ]
     },
     "execution_count": 295,
     "metadata": {},
     "output_type": "execute_result"
    }
   ],
   "source": [
    "df_copy.DISTRITO_FEDERAL.value_counts().head()"
   ]
  },
  {
   "cell_type": "markdown",
   "metadata": {},
   "source": [
    "`TIPO_CASILLA` - Se refiere al tipo de casilla; \n",
    "* `B`: Básica\n",
    "* `C`: Contigua\n",
    "* `E`: Extraordinaria\n",
    "* `S`: Especial\n",
    "* `M`: Mesa de escrutinio, contiene información de voto en el extranjero."
   ]
  },
  {
   "cell_type": "code",
   "execution_count": 296,
   "metadata": {},
   "outputs": [
    {
     "data": {
      "text/plain": [
       "C    80214\n",
       "B    68285\n",
       "E     9105\n",
       "S     1206\n",
       "M       32\n",
       "Name: TIPO_CASILLA, dtype: int64"
      ]
     },
     "execution_count": 296,
     "metadata": {},
     "output_type": "execute_result"
    }
   ],
   "source": [
    "df_copy.TIPO_CASILLA.value_counts()"
   ]
  },
  {
   "cell_type": "code",
   "execution_count": 297,
   "metadata": {},
   "outputs": [
    {
     "data": {
      "text/html": [
       "<div>\n",
       "<style scoped>\n",
       "    .dataframe tbody tr th:only-of-type {\n",
       "        vertical-align: middle;\n",
       "    }\n",
       "\n",
       "    .dataframe tbody tr th {\n",
       "        vertical-align: top;\n",
       "    }\n",
       "\n",
       "    .dataframe thead th {\n",
       "        text-align: right;\n",
       "    }\n",
       "</style>\n",
       "<table border=\"1\" class=\"dataframe\">\n",
       "  <thead>\n",
       "    <tr style=\"text-align: right;\">\n",
       "      <th></th>\n",
       "      <th>0</th>\n",
       "    </tr>\n",
       "  </thead>\n",
       "  <tbody>\n",
       "    <tr>\n",
       "      <th>0</th>\n",
       "      <td>M</td>\n",
       "    </tr>\n",
       "    <tr>\n",
       "      <th>1</th>\n",
       "      <td>B</td>\n",
       "    </tr>\n",
       "    <tr>\n",
       "      <th>2</th>\n",
       "      <td>C</td>\n",
       "    </tr>\n",
       "    <tr>\n",
       "      <th>3</th>\n",
       "      <td>S</td>\n",
       "    </tr>\n",
       "    <tr>\n",
       "      <th>4</th>\n",
       "      <td>E</td>\n",
       "    </tr>\n",
       "  </tbody>\n",
       "</table>\n",
       "</div>"
      ],
      "text/plain": [
       "   0\n",
       "0  M\n",
       "1  B\n",
       "2  C\n",
       "3  S\n",
       "4  E"
      ]
     },
     "execution_count": 297,
     "metadata": {},
     "output_type": "execute_result"
    }
   ],
   "source": [
    "TIPO_CASILLA = pd.DataFrame(df_copy.TIPO_CASILLA.unique())\n",
    "TIPO_CASILLA.head()"
   ]
  },
  {
   "cell_type": "code",
   "execution_count": 298,
   "metadata": {},
   "outputs": [
    {
     "data": {
      "text/plain": [
       "Index(['index', 0], dtype='object')"
      ]
     },
     "execution_count": 298,
     "metadata": {},
     "output_type": "execute_result"
    }
   ],
   "source": [
    "TIPO_CASILLA.reset_index(inplace=True)\n",
    "TIPO_CASILLA.columns"
   ]
  },
  {
   "cell_type": "code",
   "execution_count": 299,
   "metadata": {},
   "outputs": [
    {
     "data": {
      "text/plain": [
       "Index(['index', 'TIPO_CASILLA'], dtype='object')"
      ]
     },
     "execution_count": 299,
     "metadata": {},
     "output_type": "execute_result"
    }
   ],
   "source": [
    "TIPO_CASILLA.rename(columns={0: 'TIPO_CASILLA'}, inplace=True)\n",
    "TIPO_CASILLA.columns"
   ]
  },
  {
   "cell_type": "code",
   "execution_count": 300,
   "metadata": {},
   "outputs": [
    {
     "data": {
      "text/html": [
       "<div>\n",
       "<style scoped>\n",
       "    .dataframe tbody tr th:only-of-type {\n",
       "        vertical-align: middle;\n",
       "    }\n",
       "\n",
       "    .dataframe tbody tr th {\n",
       "        vertical-align: top;\n",
       "    }\n",
       "\n",
       "    .dataframe thead th {\n",
       "        text-align: right;\n",
       "    }\n",
       "</style>\n",
       "<table border=\"1\" class=\"dataframe\">\n",
       "  <thead>\n",
       "    <tr style=\"text-align: right;\">\n",
       "      <th></th>\n",
       "      <th>index</th>\n",
       "      <th>TIPO_CASILLA</th>\n",
       "    </tr>\n",
       "  </thead>\n",
       "  <tbody>\n",
       "    <tr>\n",
       "      <th>0</th>\n",
       "      <td>1</td>\n",
       "      <td>M</td>\n",
       "    </tr>\n",
       "    <tr>\n",
       "      <th>1</th>\n",
       "      <td>2</td>\n",
       "      <td>B</td>\n",
       "    </tr>\n",
       "    <tr>\n",
       "      <th>2</th>\n",
       "      <td>3</td>\n",
       "      <td>C</td>\n",
       "    </tr>\n",
       "    <tr>\n",
       "      <th>3</th>\n",
       "      <td>4</td>\n",
       "      <td>S</td>\n",
       "    </tr>\n",
       "    <tr>\n",
       "      <th>4</th>\n",
       "      <td>5</td>\n",
       "      <td>E</td>\n",
       "    </tr>\n",
       "  </tbody>\n",
       "</table>\n",
       "</div>"
      ],
      "text/plain": [
       "   index TIPO_CASILLA\n",
       "0      1            M\n",
       "1      2            B\n",
       "2      3            C\n",
       "3      4            S\n",
       "4      5            E"
      ]
     },
     "execution_count": 300,
     "metadata": {},
     "output_type": "execute_result"
    }
   ],
   "source": [
    "TIPO_CASILLA['index'] = TIPO_CASILLA['index'] + 1\n",
    "TIPO_CASILLA"
   ]
  },
  {
   "cell_type": "code",
   "execution_count": 301,
   "metadata": {},
   "outputs": [
    {
     "data": {
      "text/plain": [
       "dict_keys(['index', 'columns', 'data'])"
      ]
     },
     "execution_count": 301,
     "metadata": {},
     "output_type": "execute_result"
    }
   ],
   "source": [
    "dict_T = TIPO_CASILLA.to_dict(orient='split')\n",
    "dict_T.keys()"
   ]
  },
  {
   "cell_type": "code",
   "execution_count": 302,
   "metadata": {},
   "outputs": [
    {
     "data": {
      "text/plain": [
       "{'data': [[1, 'M'], [2, 'B'], [3, 'C'], [4, 'S'], [5, 'E']]}"
      ]
     },
     "execution_count": 302,
     "metadata": {},
     "output_type": "execute_result"
    }
   ],
   "source": [
    "dict_T.pop('index')\n",
    "dict_T.pop('columns')\n",
    "dict_T"
   ]
  },
  {
   "cell_type": "code",
   "execution_count": 303,
   "metadata": {},
   "outputs": [
    {
     "data": {
      "text/plain": [
       "[1, 'M']"
      ]
     },
     "execution_count": 303,
     "metadata": {},
     "output_type": "execute_result"
    }
   ],
   "source": [
    "dict_T['data'][0]"
   ]
  },
  {
   "cell_type": "code",
   "execution_count": 304,
   "metadata": {},
   "outputs": [
    {
     "data": {
      "text/plain": [
       "'M'"
      ]
     },
     "execution_count": 304,
     "metadata": {},
     "output_type": "execute_result"
    }
   ],
   "source": [
    "dict_T['data'][0][1]"
   ]
  },
  {
   "cell_type": "code",
   "execution_count": 305,
   "metadata": {},
   "outputs": [
    {
     "data": {
      "text/plain": [
       "1"
      ]
     },
     "execution_count": 305,
     "metadata": {},
     "output_type": "execute_result"
    }
   ],
   "source": [
    "dict_T['data'][0][0]"
   ]
  },
  {
   "cell_type": "code",
   "execution_count": 306,
   "metadata": {},
   "outputs": [
    {
     "data": {
      "text/plain": [
       "{'B': 2, 'C': 3, 'E': 5, 'M': 1, 'S': 4}"
      ]
     },
     "execution_count": 306,
     "metadata": {},
     "output_type": "execute_result"
    }
   ],
   "source": [
    "dict_TIPO_CASILLA = {}\n",
    "\n",
    "for line in dict_T['data']:\n",
    "    #print(line[1], ' : ', line[0])\n",
    "    dict_TIPO_CASILLA[line[1]] = line[0]\n",
    "\n",
    "dict_TIPO_CASILLA"
   ]
  },
  {
   "cell_type": "code",
   "execution_count": 307,
   "metadata": {},
   "outputs": [],
   "source": [
    "df_copy.TIPO_CASILLA.replace(dict_TIPO_CASILLA, inplace=True)\n"
   ]
  },
  {
   "cell_type": "code",
   "execution_count": 308,
   "metadata": {},
   "outputs": [
    {
     "data": {
      "text/plain": [
       "3    80214\n",
       "2    68285\n",
       "5     9105\n",
       "4     1206\n",
       "1       32\n",
       "Name: TIPO_CASILLA, dtype: int64"
      ]
     },
     "execution_count": 308,
     "metadata": {},
     "output_type": "execute_result"
    }
   ],
   "source": [
    "df_copy.TIPO_CASILLA.value_counts()"
   ]
  },
  {
   "cell_type": "markdown",
   "metadata": {},
   "source": [
    "`UBICACION_CASILLA` - Identifica el tipo de casilla y toma los siguientes valores:\n",
    "* `1`: Urbana\n",
    "* `2`: No Urbana"
   ]
  },
  {
   "cell_type": "code",
   "execution_count": 309,
   "metadata": {},
   "outputs": [
    {
     "data": {
      "text/plain": [
       "1    104334\n",
       "2     52506\n",
       "0      2002\n",
       "Name: UBICACION_CASILLA, dtype: int64"
      ]
     },
     "execution_count": 309,
     "metadata": {},
     "output_type": "execute_result"
    }
   ],
   "source": [
    "df_copy.UBICACION_CASILLA.value_counts()"
   ]
  },
  {
   "cell_type": "markdown",
   "metadata": {},
   "source": [
    "`LISTA_NOMINAL` - Número de ciudadanos con derecho a votar que integran la lista nominal de las Actas PREP contabilizadas."
   ]
  },
  {
   "cell_type": "code",
   "execution_count": 310,
   "metadata": {},
   "outputs": [
    {
     "data": {
      "text/plain": [
       "-      2002\n",
       "0      1051\n",
       "719     625\n",
       "677     625\n",
       "721     605\n",
       "Name: LISTA_NOMINAL, dtype: int64"
      ]
     },
     "execution_count": 310,
     "metadata": {},
     "output_type": "execute_result"
    }
   ],
   "source": [
    "df_copy.LISTA_NOMINAL.value_counts().head()"
   ]
  },
  {
   "cell_type": "code",
   "execution_count": 312,
   "metadata": {},
   "outputs": [
    {
     "data": {
      "text/plain": [
       "-1     2002\n",
       "0      1051\n",
       "719     625\n",
       "677     625\n",
       "721     605\n",
       "Name: LISTA_NOMINAL, dtype: int64"
      ]
     },
     "execution_count": 312,
     "metadata": {},
     "output_type": "execute_result"
    }
   ],
   "source": [
    "df_copy.LISTA_NOMINAL.replace({'Sin dato': -1,\n",
    "                               'Ilegible': -1,\n",
    "                               '-':-1}, inplace=True)\n",
    "df_copy.LISTA_NOMINAL.value_counts().head()"
   ]
  },
  {
   "cell_type": "code",
   "execution_count": null,
   "metadata": {},
   "outputs": [],
   "source": [
    "# se encuentra el promedio de los valores mayores a -1\n",
    "df_copy.LISTA_NOMINAL = df_copy.LISTA_NOMINAL.astype('int64')\n",
    "LISTA_NOMINAL_mean = df_copy.LISTA_NOMINAL[df_copy.LISTA_NOMINAL > -1].mean()\n",
    "LISTA_NOMINAL_mean = round(TOTAL_BOLETAS_SOBRANTES_mean)\n",
    "TOTAL_BOLETAS_SOBRANTES_mean"
   ]
  },
  {
   "cell_type": "code",
   "execution_count": null,
   "metadata": {},
   "outputs": [],
   "source": [
    "df_copy.TOTAL_BOLETAS_SOBRANTES.replace({-1: TOTAL_BOLETAS_SOBRANTES_mean}, inplace=True)\n",
    "df_copy.TOTAL_BOLETAS_SOBRANTES = df_copy.TOTAL_BOLETAS_SOBRANTES.astype('int64')\n",
    "df_copy.TOTAL_BOLETAS_SOBRANTES.value_counts().head()"
   ]
  },
  {
   "cell_type": "code",
   "execution_count": null,
   "metadata": {},
   "outputs": [],
   "source": [
    "df_copy.LISTA_NOMINAL.replace({0: LISTA_NOMINAL_mean}, inplace=True)\n",
    "df_copy.LISTA_NOMINAL = df_copy.LISTA_NOMINAL.astype('int64')\n",
    "df_copy.LISTA_NOMINAL.value_counts().head()"
   ]
  },
  {
   "cell_type": "markdown",
   "metadata": {},
   "source": [
    "TOTAL_BOLETAS_SOBRANTES` - Total de boletas no usadas y canceladas."
   ]
  },
  {
   "cell_type": "code",
   "execution_count": null,
   "metadata": {},
   "outputs": [],
   "source": [
    "df_copy.TOTAL_BOLETAS_SOBRANTES.value_counts().head()"
   ]
  },
  {
   "cell_type": "code",
   "execution_count": null,
   "metadata": {},
   "outputs": [],
   "source": [
    "df_copy.TOTAL_BOLETAS_SOBRANTES.replace({'Sin dato': -1,\n",
    "                                        'Ilegible': -1,\n",
    "                                        '-':-1}, inplace=True)\n",
    "df_copy.TOTAL_BOLETAS_SOBRANTES.value_counts().head()"
   ]
  },
  {
   "cell_type": "code",
   "execution_count": null,
   "metadata": {},
   "outputs": [],
   "source": [
    "# se encuentra el promedio de los valores mayores a -1\n",
    "df_copy.TOTAL_BOLETAS_SOBRANTES = df_copy.TOTAL_BOLETAS_SOBRANTES.astype('int64')\n",
    "TOTAL_BOLETAS_SOBRANTES_mean = df_copy.TOTAL_BOLETAS_SOBRANTES[df_copy.TOTAL_BOLETAS_SOBRANTES > -1].mean()\n",
    "TOTAL_BOLETAS_SOBRANTES_mean = round(TOTAL_BOLETAS_SOBRANTES_mean)\n",
    "TOTAL_BOLETAS_SOBRANTES_mean"
   ]
  },
  {
   "cell_type": "code",
   "execution_count": null,
   "metadata": {},
   "outputs": [],
   "source": [
    "df_copy.TOTAL_BOLETAS_SOBRANTES.replace({-1: TOTAL_BOLETAS_SOBRANTES_mean}, inplace=True)\n",
    "df_copy.TOTAL_BOLETAS_SOBRANTES = df_copy.TOTAL_BOLETAS_SOBRANTES.astype('int64')\n",
    "df_copy.TOTAL_BOLETAS_SOBRANTES.value_counts().head()"
   ]
  },
  {
   "cell_type": "markdown",
   "metadata": {},
   "source": [
    "`TOTAL_VOTOS_SACADOS` - Tota de votos sacados de la urna"
   ]
  },
  {
   "cell_type": "code",
   "execution_count": null,
   "metadata": {},
   "outputs": [],
   "source": [
    "df_copy.TOTAL_VOTOS_SACADOS.value_counts().head()"
   ]
  },
  {
   "cell_type": "code",
   "execution_count": null,
   "metadata": {},
   "outputs": [],
   "source": [
    "df_copy.TOTAL_VOTOS_SACADOS.replace({'Sin dato': -1,\n",
    "                                        'Ilegible': -1,\n",
    "                                        '-':-1}, inplace=True)\n",
    "df_copy.TOTAL_VOTOS_SACADOS.value_counts().head()"
   ]
  },
  {
   "cell_type": "code",
   "execution_count": null,
   "metadata": {},
   "outputs": [],
   "source": [
    "# se encuentra el promedio de los valores mayores a -1\n",
    "df_copy.TOTAL_VOTOS_SACADOS = df_copy.TOTAL_VOTOS_SACADOS.astype('int64')\n",
    "TOTAL_VOTOS_SACADOS_mean = df_copy.TOTAL_VOTOS_SACADOS[df_copy.TOTAL_VOTOS_SACADOS > -1].mean()\n",
    "TOTAL_VOTOS_SACADOS_mean = round(TOTAL_VOTOS_SACADOS_mean)\n",
    "TOTAL_VOTOS_SACADOS_mean"
   ]
  },
  {
   "cell_type": "code",
   "execution_count": null,
   "metadata": {},
   "outputs": [],
   "source": [
    "df_copy.TOTAL_VOTOS_SACADOS.replace({-1: TOTAL_VOTOS_SACADOS_mean}, inplace=True)\n",
    "df_copy.TOTAL_VOTOS_SACADOS = df_copy.TOTAL_VOTOS_SACADOS.astype('int64')\n",
    "df_copy.TOTAL_VOTOS_SACADOS.value_counts().head()"
   ]
  },
  {
   "cell_type": "markdown",
   "metadata": {},
   "source": [
    "`TOTAL_PERSONAS_VOTARON` - Total de personas que votaron"
   ]
  },
  {
   "cell_type": "code",
   "execution_count": null,
   "metadata": {},
   "outputs": [],
   "source": [
    "df_copy.TOTAL_PERSONAS_VOTARON.value_counts().head()"
   ]
  },
  {
   "cell_type": "code",
   "execution_count": null,
   "metadata": {},
   "outputs": [],
   "source": [
    "df_copy.TOTAL_PERSONAS_VOTARON.replace({'Sin dato': -1,\n",
    "                                        'Ilegible': -1,\n",
    "                                        '-':-1}, inplace=True)\n",
    "df_copy.TOTAL_PERSONAS_VOTARON.value_counts().head()"
   ]
  },
  {
   "cell_type": "code",
   "execution_count": null,
   "metadata": {},
   "outputs": [],
   "source": [
    "# se encuentra el promedio de los valores mayores a -1\n",
    "df_copy.TOTAL_PERSONAS_VOTARON = df_copy.TOTAL_PERSONAS_VOTARON.astype('int64')\n",
    "TOTAL_PERSONAS_VOTARON_mean = df_copy.TOTAL_PERSONAS_VOTARON[df_copy.TOTAL_PERSONAS_VOTARON > -1].mean()\n",
    "TOTAL_PERSONAS_VOTARON_mean = round(TOTAL_PERSONAS_VOTARON_mean)\n",
    "TOTAL_PERSONAS_VOTARON_mean"
   ]
  },
  {
   "cell_type": "code",
   "execution_count": null,
   "metadata": {},
   "outputs": [],
   "source": [
    "df_copy.TOTAL_PERSONAS_VOTARON.replace({-1: TOTAL_PERSONAS_VOTARON_mean}, inplace=True)\n",
    "df_copy.TOTAL_PERSONAS_VOTARON = df_copy.TOTAL_PERSONAS_VOTARON.astype('int64')\n",
    "df_copy.TOTAL_PERSONAS_VOTARON.value_counts().head()"
   ]
  },
  {
   "cell_type": "markdown",
   "metadata": {},
   "source": [
    "`NO_REGISTRADOS` - Número de votos para candidatos no registrados"
   ]
  },
  {
   "cell_type": "code",
   "execution_count": null,
   "metadata": {},
   "outputs": [],
   "source": [
    "df_copy.NO_REGISTRADOS.value_counts().head()"
   ]
  },
  {
   "cell_type": "code",
   "execution_count": null,
   "metadata": {},
   "outputs": [],
   "source": [
    "df_copy.NO_REGISTRADOS.replace({'Sin dato': -1,\n",
    "                                        'Ilegible': -1,\n",
    "                                        '-':-1}, inplace=True)\n",
    "df_copy.NO_REGISTRADOS.value_counts().head()"
   ]
  },
  {
   "cell_type": "code",
   "execution_count": null,
   "metadata": {},
   "outputs": [],
   "source": [
    "# se encuentra el promedio de los valores mayores a -1\n",
    "df_copy.NO_REGISTRADOS = df_copy.NO_REGISTRADOS.astype('int64')\n",
    "NO_REGISTRADOS_mean = df_copy.NO_REGISTRADOS[df_copy.NO_REGISTRADOS > -1].mean()\n",
    "NO_REGISTRADOS_mean = round(NO_REGISTRADOS_mean)\n",
    "NO_REGISTRADOS_mean"
   ]
  },
  {
   "cell_type": "code",
   "execution_count": null,
   "metadata": {},
   "outputs": [],
   "source": [
    "df_copy.NO_REGISTRADOS.replace({-1: NO_REGISTRADOS_mean}, inplace=True)\n",
    "df_copy.NO_REGISTRADOS = df_copy.NO_REGISTRADOS.astype('int64')\n",
    "df_copy.NO_REGISTRADOS.value_counts().head()"
   ]
  },
  {
   "cell_type": "markdown",
   "metadata": {},
   "source": [
    "`NULOS` - Número de votos nulos"
   ]
  },
  {
   "cell_type": "code",
   "execution_count": null,
   "metadata": {},
   "outputs": [],
   "source": [
    "df_copy.NULOS.value_counts().head()"
   ]
  },
  {
   "cell_type": "code",
   "execution_count": null,
   "metadata": {},
   "outputs": [],
   "source": [
    "df_copy.NULOS.replace({'Sin dato': -1,\n",
    "                                        'Ilegible': -1,\n",
    "                                        '-':-1}, inplace=True)\n",
    "df_copy.NULOS.value_counts().head()"
   ]
  },
  {
   "cell_type": "code",
   "execution_count": null,
   "metadata": {},
   "outputs": [],
   "source": [
    "# se encuentra el promedio de los valores mayores a -1\n",
    "df_copy.NULOS = df_copy.NULOS.astype('int64')\n",
    "NULOS_mean = df_copy.NULOS[df_copy.NULOS > -1].mean()\n",
    "NULOS_mean = round(NULOS_mean)\n",
    "NULOS_mean"
   ]
  },
  {
   "cell_type": "code",
   "execution_count": null,
   "metadata": {},
   "outputs": [],
   "source": [
    "df_copy.NULOS.replace({-1: NULOS_mean}, inplace=True)\n",
    "df_copy.NULOS = df_copy.NULOS.astype('int64')\n",
    "df_copy.NULOS.value_counts().head()"
   ]
  },
  {
   "cell_type": "markdown",
   "metadata": {},
   "source": [
    "`TOTAL_VOTOS_ASENTADO` - Se refiere al total de votos asentado en el Acta PREP."
   ]
  },
  {
   "cell_type": "code",
   "execution_count": null,
   "metadata": {},
   "outputs": [],
   "source": [
    "df_copy.TOTAL_VOTOS_ASENTADO.value_counts().head()"
   ]
  },
  {
   "cell_type": "code",
   "execution_count": null,
   "metadata": {},
   "outputs": [],
   "source": [
    "df_copy.TOTAL_VOTOS_ASENTADO.replace({'Sin dato': -1,\n",
    "                                        'Ilegible': -1,\n",
    "                                        '-':-1}, inplace=True)\n",
    "df_copy.TOTAL_VOTOS_ASENTADO.value_counts().head()"
   ]
  },
  {
   "cell_type": "code",
   "execution_count": null,
   "metadata": {},
   "outputs": [],
   "source": [
    "# se encuentra el promedio de los valores mayores a -1\n",
    "df_copy.TOTAL_VOTOS_ASENTADO = df_copy.TOTAL_VOTOS_ASENTADO.astype('int64')\n",
    "TOTAL_VOTOS_ASENTADO_mean = df_copy.TOTAL_VOTOS_ASENTADO[df_copy.TOTAL_VOTOS_ASENTADO > -1].mean()\n",
    "TOTAL_VOTOS_ASENTADO_mean = round(TOTAL_VOTOS_ASENTADO_mean)\n",
    "TOTAL_VOTOS_ASENTADO_mean"
   ]
  },
  {
   "cell_type": "code",
   "execution_count": null,
   "metadata": {},
   "outputs": [],
   "source": [
    "df_copy.TOTAL_VOTOS_ASENTADO.replace({-1: TOTAL_VOTOS_ASENTADO_mean}, inplace=True)\n",
    "df_copy.TOTAL_VOTOS_ASENTADO = df_copy.TOTAL_VOTOS_ASENTADO.astype('int64')\n",
    "df_copy.TOTAL_VOTOS_ASENTADO.value_counts().head()"
   ]
  },
  {
   "cell_type": "markdown",
   "metadata": {},
   "source": [
    "`TOTAL_VOTOS_CALCULADO` - Suma de los votos asentados en las actas PREP, para: los partidos políticos, combinaciones de estos, candidatos independientes, votos para candidatos no registrados y votos nulos. El total de votos se calcula mediante la suma que realiza automáticamente el sistema informático del PREP."
   ]
  },
  {
   "cell_type": "code",
   "execution_count": null,
   "metadata": {},
   "outputs": [],
   "source": [
    "df_copy.TOTAL_VOTOS_CALCULADO.value_counts().head()"
   ]
  },
  {
   "cell_type": "code",
   "execution_count": null,
   "metadata": {},
   "outputs": [],
   "source": [
    "df_copy.TOTAL_VOTOS_CALCULADO.replace({'Sin dato': -1,\n",
    "                                        'Ilegible': -1,\n",
    "                                        '-':-1}, inplace=True)\n",
    "df_copy.TOTAL_VOTOS_CALCULADO.value_counts().head()"
   ]
  },
  {
   "cell_type": "code",
   "execution_count": null,
   "metadata": {},
   "outputs": [],
   "source": [
    "# se encuentra el promedio de los valores mayores a -1\n",
    "df_copy.TOTAL_VOTOS_CALCULADO = df_copy.TOTAL_VOTOS_CALCULADO.astype('int64')\n",
    "TOTAL_VOTOS_CALCULADO_mean = df_copy.TOTAL_VOTOS_CALCULADO[df_copy.TOTAL_VOTOS_CALCULADO > -1].mean()\n",
    "TOTAL_VOTOS_CALCULADO_mean = round(TOTAL_VOTOS_CALCULADO_mean)\n",
    "TOTAL_VOTOS_CALCULADO_mean"
   ]
  },
  {
   "cell_type": "code",
   "execution_count": null,
   "metadata": {},
   "outputs": [],
   "source": [
    "df_copy.TOTAL_VOTOS_CALCULADO.replace({-1: TOTAL_VOTOS_CALCULADO_mean}, inplace=True)\n",
    "df_copy.TOTAL_VOTOS_CALCULADO = df_copy.TOTAL_VOTOS_CALCULADO.astype('int64')\n",
    "df_copy.TOTAL_VOTOS_CALCULADO.value_counts().head()"
   ]
  },
  {
   "cell_type": "markdown",
   "metadata": {},
   "source": [
    "## Número de votos por partido político\n",
    "* `PAN` - Número de votos para el Partido Acción Nacional\n",
    "* `PRI` - Número de votos para el Partido Revolucionario Institucional\n",
    "* `PRD` - Número de votos para el Partido de la Revolución Democrática\n",
    "* `PVEM` - Número de votos para el Partido Verde Ecologista de México\n",
    "* `PT` - Número de votos para el Partido del Trabajo\n",
    "* `MC` - Número de votos para Partido Movimiento Ciudadano\n",
    "* `PANAL` - Número de votos para Partido Nueva Alianza\n",
    "* `MORENA` - Número de votos para Partido Morena\n",
    "* `PES` - Número de votos para Partido Encuentro Social"
   ]
  },
  {
   "cell_type": "markdown",
   "metadata": {},
   "source": [
    "`PAN` - Número de votos para el Partido Acción Nacional"
   ]
  },
  {
   "cell_type": "code",
   "execution_count": null,
   "metadata": {},
   "outputs": [],
   "source": [
    "df_copy.PAN.value_counts().head()"
   ]
  },
  {
   "cell_type": "code",
   "execution_count": null,
   "metadata": {},
   "outputs": [],
   "source": [
    "df_copy.PAN.replace({'Sin dato': -1,\n",
    "                     'Ilegible': -1,\n",
    "                     '-':-1}, inplace=True)\n",
    "df_copy.PAN.value_counts().head()"
   ]
  },
  {
   "cell_type": "code",
   "execution_count": null,
   "metadata": {},
   "outputs": [],
   "source": [
    "# se encuentra el promedio de los valores mayores a -1\n",
    "df_copy.PAN = df_copy.PAN.astype('int64')\n",
    "PAN_mean = df_copy.PAN[df_copy.PAN > -1].mean()\n",
    "PAN_mean = round(PAN_mean)\n",
    "PAN_mean"
   ]
  },
  {
   "cell_type": "code",
   "execution_count": null,
   "metadata": {},
   "outputs": [],
   "source": [
    "df_copy.PAN.replace({-1: PAN_mean}, inplace=True)\n",
    "df_copy.PAN = df_copy.PAN.astype('int64')\n",
    "df_copy.PAN.value_counts().head()"
   ]
  },
  {
   "cell_type": "markdown",
   "metadata": {},
   "source": [
    "`PRI` - Número de votos para el Partido Revolucionario Institucional"
   ]
  },
  {
   "cell_type": "code",
   "execution_count": null,
   "metadata": {},
   "outputs": [],
   "source": [
    "df_copy.PRI.value_counts().head()"
   ]
  },
  {
   "cell_type": "code",
   "execution_count": null,
   "metadata": {},
   "outputs": [],
   "source": [
    "df_copy.PRI.replace({'Sin dato': -1,\n",
    "                     'Ilegible': -1,\n",
    "                     '-':-1}, inplace=True)\n",
    "df_copy.PRI.value_counts().head()"
   ]
  },
  {
   "cell_type": "code",
   "execution_count": null,
   "metadata": {},
   "outputs": [],
   "source": [
    "# se encuentra el promedio de los valores mayores a -1\n",
    "df_copy.PRI = df_copy.PRI.astype('int64')\n",
    "PRI_mean = df_copy.PRI[df_copy.PRI > -1].mean()\n",
    "PRI_mean = round(PRI_mean)\n",
    "PRI_mean"
   ]
  },
  {
   "cell_type": "code",
   "execution_count": null,
   "metadata": {},
   "outputs": [],
   "source": [
    "df_copy.PRI.replace({-1: PRI_mean}, inplace=True)\n",
    "df_copy.PRI = df_copy.PRI.astype('int64')\n",
    "df_copy.PRI.value_counts().head()"
   ]
  },
  {
   "cell_type": "markdown",
   "metadata": {},
   "source": [
    "`PRD` - Número de votos para el Partido de la Revolución Democrática"
   ]
  },
  {
   "cell_type": "code",
   "execution_count": null,
   "metadata": {},
   "outputs": [],
   "source": [
    "df_copy.PRD.value_counts().head()"
   ]
  },
  {
   "cell_type": "code",
   "execution_count": null,
   "metadata": {},
   "outputs": [],
   "source": [
    "df_copy.PRD.replace({'Sin dato': -1,\n",
    "                     'Ilegible': -1,\n",
    "                     '-':-1}, inplace=True)\n",
    "df_copy.PRD.value_counts().head()"
   ]
  },
  {
   "cell_type": "code",
   "execution_count": null,
   "metadata": {},
   "outputs": [],
   "source": [
    "# se encuentra el promedio de los valores mayores a -1\n",
    "df_copy.PRD = df_copy.PRD.astype('int64')\n",
    "PRD_mean = df_copy.PRD[df_copy.PRD > -1].mean()\n",
    "PRD_mean = round(PRD_mean)\n",
    "PRD_mean"
   ]
  },
  {
   "cell_type": "code",
   "execution_count": null,
   "metadata": {},
   "outputs": [],
   "source": [
    "df_copy.PRD.replace({-1: PRD_mean}, inplace=True)\n",
    "df_copy.PRD = df_copy.PRD.astype('int64')\n",
    "df_copy.PRD.value_counts().head()"
   ]
  },
  {
   "cell_type": "markdown",
   "metadata": {},
   "source": [
    "`PVEM` - Número de votos para el Partido Verde Ecologista de México"
   ]
  },
  {
   "cell_type": "code",
   "execution_count": null,
   "metadata": {},
   "outputs": [],
   "source": [
    "df_copy.PVEM.value_counts().head()"
   ]
  },
  {
   "cell_type": "code",
   "execution_count": null,
   "metadata": {},
   "outputs": [],
   "source": [
    "df_copy.PVEM.replace({'Sin dato': -1,\n",
    "                      'Ilegible': -1,\n",
    "                      '-':-1}, inplace=True)\n",
    "df_copy.PVEM.value_counts().head()"
   ]
  },
  {
   "cell_type": "code",
   "execution_count": null,
   "metadata": {},
   "outputs": [],
   "source": [
    "# se encuentra el promedio de los valores mayores a -1\n",
    "df_copy.PVEM = df_copy.PVEM.astype('int64')\n",
    "PVEM_mean = df_copy.PVEM[df_copy.PVEM > -1].mean()\n",
    "PVEM_mean = round(PVEM_mean)\n",
    "PVEM_mean"
   ]
  },
  {
   "cell_type": "code",
   "execution_count": null,
   "metadata": {},
   "outputs": [],
   "source": [
    "df_copy.PVEM.replace({-1: PVEM_mean}, inplace=True)\n",
    "df_copy.PVEM = df_copy.PVEM.astype('int64')\n",
    "df_copy.PVEM.value_counts().head()"
   ]
  },
  {
   "cell_type": "markdown",
   "metadata": {},
   "source": [
    "`PT` - Número de votos para el Partido del Trabajo"
   ]
  },
  {
   "cell_type": "code",
   "execution_count": null,
   "metadata": {},
   "outputs": [],
   "source": [
    "df_copy.PT.value_counts().head()"
   ]
  },
  {
   "cell_type": "code",
   "execution_count": null,
   "metadata": {},
   "outputs": [],
   "source": [
    "df_copy.PT.replace({'Sin dato': -1,\n",
    "                    'Ilegible': -1,\n",
    "                    '-':-1}, inplace=True)\n",
    "df_copy.PT.value_counts().head()"
   ]
  },
  {
   "cell_type": "code",
   "execution_count": null,
   "metadata": {},
   "outputs": [],
   "source": [
    "# se encuentra el promedio de los valores mayores a -1\n",
    "df_copy.PT = df_copy.PT.astype('int64')\n",
    "PT_mean = df_copy.PT[df_copy.PT > -1].mean()\n",
    "PT_mean = round(PT_mean)\n",
    "PT_mean"
   ]
  },
  {
   "cell_type": "code",
   "execution_count": null,
   "metadata": {},
   "outputs": [],
   "source": [
    "df_copy.PT.replace({-1: PT_mean}, inplace=True)\n",
    "df_copy.PT = df_copy.PT.astype('int64')\n",
    "df_copy.PT.value_counts().head()"
   ]
  },
  {
   "cell_type": "markdown",
   "metadata": {},
   "source": [
    "`MC` - Número de votos para Partido Movimiento Ciudadano"
   ]
  },
  {
   "cell_type": "code",
   "execution_count": null,
   "metadata": {},
   "outputs": [],
   "source": [
    "df_copy.MC.value_counts().head()"
   ]
  },
  {
   "cell_type": "code",
   "execution_count": null,
   "metadata": {},
   "outputs": [],
   "source": [
    "df_copy.MC.replace({'Sin dato': -1,\n",
    "                    'Ilegible': -1,\n",
    "                    '-':-1}, inplace=True)\n",
    "df_copy.MC.value_counts().head()"
   ]
  },
  {
   "cell_type": "code",
   "execution_count": null,
   "metadata": {},
   "outputs": [],
   "source": [
    "# se encuentra el promedio de los valores mayores a -1\n",
    "df_copy.MC = df_copy.MC.astype('int64')\n",
    "MC_mean = df_copy.MC[df_copy.MC > -1].mean()\n",
    "MC_mean = round(MC_mean)\n",
    "MC_mean"
   ]
  },
  {
   "cell_type": "code",
   "execution_count": null,
   "metadata": {},
   "outputs": [],
   "source": [
    "df_copy.MC.replace({-1: MC_mean}, inplace=True)\n",
    "df_copy.MC = df_copy.MC.astype('int64')\n",
    "df_copy.MC.value_counts().head()"
   ]
  },
  {
   "cell_type": "markdown",
   "metadata": {},
   "source": [
    "`PANAL` - Número de votos para Partido Nueva Alianza"
   ]
  },
  {
   "cell_type": "code",
   "execution_count": null,
   "metadata": {},
   "outputs": [],
   "source": [
    "df_copy.PANAL.value_counts().head()"
   ]
  },
  {
   "cell_type": "code",
   "execution_count": null,
   "metadata": {},
   "outputs": [],
   "source": [
    "df_copy.PANAL.replace({'Sin dato': -1,\n",
    "                       'Ilegible': -1,\n",
    "                       '-':-1}, inplace=True)\n",
    "df_copy.PANAL.value_counts().head()"
   ]
  },
  {
   "cell_type": "code",
   "execution_count": null,
   "metadata": {},
   "outputs": [],
   "source": [
    "# se encuentra el promedio de los valores mayores a -1\n",
    "df_copy.PANAL = df_copy.PANAL.astype('int64')\n",
    "PANAL_mean = df_copy.PANAL[df_copy.PANAL > -1].mean()\n",
    "PANAL_mean = round(PANAL_mean)\n",
    "PANAL_mean"
   ]
  },
  {
   "cell_type": "code",
   "execution_count": null,
   "metadata": {},
   "outputs": [],
   "source": [
    "df_copy.PANAL.replace({-1: PANAL_mean}, inplace=True)\n",
    "df_copy.PANAL = df_copy.PANAL.astype('int64')\n",
    "df_copy.PANAL.value_counts().head()"
   ]
  },
  {
   "cell_type": "markdown",
   "metadata": {},
   "source": [
    "`MORENA` - Número de votos para Partido Morena"
   ]
  },
  {
   "cell_type": "code",
   "execution_count": null,
   "metadata": {},
   "outputs": [],
   "source": [
    "df_copy.MORENA.value_counts().head()"
   ]
  },
  {
   "cell_type": "code",
   "execution_count": null,
   "metadata": {},
   "outputs": [],
   "source": [
    "df_copy.MORENA.replace({'Sin dato': -1,\n",
    "                        'Ilegible': -1,\n",
    "                        '-':-1}, inplace=True)\n",
    "df_copy.MORENA.value_counts().head()"
   ]
  },
  {
   "cell_type": "code",
   "execution_count": null,
   "metadata": {},
   "outputs": [],
   "source": [
    "# se encuentra el promedio de los valores mayores a -1\n",
    "df_copy.MORENA = df_copy.MORENA.astype('int64')\n",
    "MORENA_mean = df_copy.MORENA[df_copy.MORENA > -1].mean()\n",
    "MORENA_mean = round(MORENA_mean)\n",
    "MORENA_mean"
   ]
  },
  {
   "cell_type": "code",
   "execution_count": null,
   "metadata": {},
   "outputs": [],
   "source": [
    "df_copy.MORENA.replace({-1: MORENA_mean}, inplace=True)\n",
    "df_copy.MORENA = df_copy.MORENA.astype('int64')\n",
    "df_copy.MORENA.value_counts().head()"
   ]
  },
  {
   "cell_type": "markdown",
   "metadata": {},
   "source": [
    "`PES` - Número de votos para Partido Encuentro Social"
   ]
  },
  {
   "cell_type": "code",
   "execution_count": null,
   "metadata": {},
   "outputs": [],
   "source": [
    "df_copy.MORENA.value_counts().head()"
   ]
  },
  {
   "cell_type": "code",
   "execution_count": null,
   "metadata": {},
   "outputs": [],
   "source": [
    "list_selec_00 = ['ESTADO', 'DISTRITO_FEDERAL', 'TIPO_CASILLA', 'UBICACION_CASILLA']\n",
    "list_selec_01 = ['LISTA_NOMINAL', 'TOTAL_BOLETAS_SOBRANTES', 'TOTAL_VOTOS_SACADOS', 'TOTAL_PERSONAS_VOTARON', 'NO_REGISTRADOS', 'NULOS', 'TOTAL_VOTOS_ASENTADO', 'TOTAL_VOTOS_CALCULADO']\n",
    "list_select_02 = ['PAN', 'PRI', 'PRD', 'PVEM', 'PT', 'MC', 'PANAL', 'MORENA', 'PES','TOTAL_PERSONAS_VOTARON', 'TOTAL_VOTOS_ASENTADO', 'TOTAL_VOTOS_CALCULADO']"
   ]
  },
  {
   "cell_type": "code",
   "execution_count": null,
   "metadata": {},
   "outputs": [],
   "source": [
    "df_votos = df_copy.groupby(['ESTADO', 'DISTRITO_FEDERAL'])[list_select_02].mean()\n",
    "df_votos = df_votos.astype('int64')\n",
    "df_votos"
   ]
  },
  {
   "cell_type": "code",
   "execution_count": null,
   "metadata": {},
   "outputs": [],
   "source": [
    "['ESTADO', 'DISTRITO_FEDERAL']"
   ]
  }
 ],
 "metadata": {
  "kernelspec": {
   "display_name": "Python 3",
   "language": "python",
   "name": "python3"
  },
  "language_info": {
   "codemirror_mode": {
    "name": "ipython",
    "version": 3
   },
   "file_extension": ".py",
   "mimetype": "text/x-python",
   "name": "python",
   "nbconvert_exporter": "python",
   "pygments_lexer": "ipython3",
   "version": "3.6.4"
  }
 },
 "nbformat": 4,
 "nbformat_minor": 2
}
