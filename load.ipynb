{
 "cells": [
  {
   "cell_type": "code",
   "execution_count": 281,
   "metadata": {},
   "outputs": [],
   "source": [
    "import pandas as pd"
   ]
  },
  {
   "cell_type": "code",
   "execution_count": 282,
   "metadata": {},
   "outputs": [],
   "source": [
    "path = 'presidencia.csv'"
   ]
  },
  {
   "cell_type": "code",
   "execution_count": 283,
   "metadata": {},
   "outputs": [
    {
     "data": {
      "text/html": [
       "<div>\n",
       "<style scoped>\n",
       "    .dataframe tbody tr th:only-of-type {\n",
       "        vertical-align: middle;\n",
       "    }\n",
       "\n",
       "    .dataframe tbody tr th {\n",
       "        vertical-align: top;\n",
       "    }\n",
       "\n",
       "    .dataframe thead th {\n",
       "        text-align: right;\n",
       "    }\n",
       "</style>\n",
       "<table border=\"1\" class=\"dataframe\">\n",
       "  <thead>\n",
       "    <tr style=\"text-align: right;\">\n",
       "      <th></th>\n",
       "      <th>CLAVE_CASILLA</th>\n",
       "      <th>CLAVE_ACTA</th>\n",
       "      <th>ID_ESTADO</th>\n",
       "      <th>ESTADO</th>\n",
       "      <th>ID_DISTRITO_FEDERAL</th>\n",
       "      <th>DISTRITO_FEDERAL</th>\n",
       "      <th>SECCION</th>\n",
       "      <th>ID_CASILLA</th>\n",
       "      <th>TIPO_CASILLA</th>\n",
       "      <th>EXT_CONTIGUA</th>\n",
       "      <th>...</th>\n",
       "      <th>CONTABILIZADA</th>\n",
       "      <th>MECANISMOS_TRASLADO</th>\n",
       "      <th>SHA</th>\n",
       "      <th>FECHA_HORA_ACOPIO</th>\n",
       "      <th>FECHA_HORA_CAPTURA</th>\n",
       "      <th>FECHA_HORA_VERIFICACION</th>\n",
       "      <th>ORIGEN</th>\n",
       "      <th>DIGITALIZACION</th>\n",
       "      <th>TIPO_DOCUMENTO</th>\n",
       "      <th>COTEJADA</th>\n",
       "    </tr>\n",
       "  </thead>\n",
       "  <tbody>\n",
       "    <tr>\n",
       "      <th>0</th>\n",
       "      <td>'010000M0100'</td>\n",
       "      <td>'010000M010001'</td>\n",
       "      <td>1</td>\n",
       "      <td>AGUASCALIENTES</td>\n",
       "      <td>0</td>\n",
       "      <td></td>\n",
       "      <td></td>\n",
       "      <td>1</td>\n",
       "      <td>M</td>\n",
       "      <td>0</td>\n",
       "      <td>...</td>\n",
       "      <td>1</td>\n",
       "      <td>-</td>\n",
       "      <td>a17d856a260b001c68b498781c1ca71ef9e0bfbc7cb98e...</td>\n",
       "      <td>7/1/18 07:25</td>\n",
       "      <td>7/2/18 07:46</td>\n",
       "      <td>7/2/18 07:46</td>\n",
       "      <td>CATD</td>\n",
       "      <td>ESCÁNER</td>\n",
       "      <td>-</td>\n",
       "      <td>1</td>\n",
       "    </tr>\n",
       "    <tr>\n",
       "      <th>1</th>\n",
       "      <td>'010338B0100'</td>\n",
       "      <td>'010338B010002'</td>\n",
       "      <td>1</td>\n",
       "      <td>AGUASCALIENTES</td>\n",
       "      <td>1</td>\n",
       "      <td>Jesús María</td>\n",
       "      <td>338</td>\n",
       "      <td>1</td>\n",
       "      <td>B</td>\n",
       "      <td>0</td>\n",
       "      <td>...</td>\n",
       "      <td>1</td>\n",
       "      <td>F</td>\n",
       "      <td>25af5bfa78cd2bf74f9377e4a266605eea6e478fe27ae8...</td>\n",
       "      <td>7/2/18 07:11</td>\n",
       "      <td>7/2/18 11:33</td>\n",
       "      <td>7/2/18 11:34</td>\n",
       "      <td>CATD</td>\n",
       "      <td>ESCÁNER</td>\n",
       "      <td>Acta PREP</td>\n",
       "      <td>1</td>\n",
       "    </tr>\n",
       "    <tr>\n",
       "      <th>2</th>\n",
       "      <td>'010338C0100'</td>\n",
       "      <td>'010338C010002'</td>\n",
       "      <td>1</td>\n",
       "      <td>AGUASCALIENTES</td>\n",
       "      <td>1</td>\n",
       "      <td>Jesús María</td>\n",
       "      <td>338</td>\n",
       "      <td>1</td>\n",
       "      <td>C</td>\n",
       "      <td>0</td>\n",
       "      <td>...</td>\n",
       "      <td>1</td>\n",
       "      <td>F</td>\n",
       "      <td>b8f3fb89dda14167b6cb4f2f4d24a8b205446ac9035311...</td>\n",
       "      <td>7/2/18 07:08</td>\n",
       "      <td>7/2/18 11:23</td>\n",
       "      <td>7/2/18 11:26</td>\n",
       "      <td>CATD</td>\n",
       "      <td>ESCÁNER</td>\n",
       "      <td>Acta PREP</td>\n",
       "      <td>1</td>\n",
       "    </tr>\n",
       "    <tr>\n",
       "      <th>3</th>\n",
       "      <td>'010338C0200'</td>\n",
       "      <td>'010338C020002'</td>\n",
       "      <td>1</td>\n",
       "      <td>AGUASCALIENTES</td>\n",
       "      <td>1</td>\n",
       "      <td>Jesús María</td>\n",
       "      <td>338</td>\n",
       "      <td>2</td>\n",
       "      <td>C</td>\n",
       "      <td>0</td>\n",
       "      <td>...</td>\n",
       "      <td>1</td>\n",
       "      <td>F</td>\n",
       "      <td>75562582dc5be7bf9177dfc1458df9a60b9aba746e2225...</td>\n",
       "      <td>7/2/18 06:55</td>\n",
       "      <td>7/2/18 10:43</td>\n",
       "      <td>7/2/18 10:44</td>\n",
       "      <td>CATD</td>\n",
       "      <td>ESCÁNER</td>\n",
       "      <td>Acta PREP</td>\n",
       "      <td>1</td>\n",
       "    </tr>\n",
       "    <tr>\n",
       "      <th>4</th>\n",
       "      <td>'010339B0100'</td>\n",
       "      <td>'010339B010002'</td>\n",
       "      <td>1</td>\n",
       "      <td>AGUASCALIENTES</td>\n",
       "      <td>1</td>\n",
       "      <td>Jesús María</td>\n",
       "      <td>339</td>\n",
       "      <td>1</td>\n",
       "      <td>B</td>\n",
       "      <td>0</td>\n",
       "      <td>...</td>\n",
       "      <td>1</td>\n",
       "      <td>F-D</td>\n",
       "      <td>15fd04a75d46e0027204d72f0e8486262e09ff7f7b34b6...</td>\n",
       "      <td>7/2/18 07:12</td>\n",
       "      <td>7/2/18 11:09</td>\n",
       "      <td>7/2/18 11:10</td>\n",
       "      <td>CATD</td>\n",
       "      <td>ESCÁNER</td>\n",
       "      <td>Acta PREP</td>\n",
       "      <td>1</td>\n",
       "    </tr>\n",
       "  </tbody>\n",
       "</table>\n",
       "<p>5 rows × 56 columns</p>\n",
       "</div>"
      ],
      "text/plain": [
       "   CLAVE_CASILLA       CLAVE_ACTA  ID_ESTADO          ESTADO  \\\n",
       "0  '010000M0100'  '010000M010001'          1  AGUASCALIENTES   \n",
       "1  '010338B0100'  '010338B010002'          1  AGUASCALIENTES   \n",
       "2  '010338C0100'  '010338C010002'          1  AGUASCALIENTES   \n",
       "3  '010338C0200'  '010338C020002'          1  AGUASCALIENTES   \n",
       "4  '010339B0100'  '010339B010002'          1  AGUASCALIENTES   \n",
       "\n",
       "   ID_DISTRITO_FEDERAL DISTRITO_FEDERAL SECCION  ID_CASILLA TIPO_CASILLA  \\\n",
       "0                    0                                    1            M   \n",
       "1                    1      Jesús María     338           1            B   \n",
       "2                    1      Jesús María     338           1            C   \n",
       "3                    1      Jesús María     338           2            C   \n",
       "4                    1      Jesús María     339           1            B   \n",
       "\n",
       "   EXT_CONTIGUA   ...     CONTABILIZADA  MECANISMOS_TRASLADO  \\\n",
       "0             0   ...                 1                    -   \n",
       "1             0   ...                 1                    F   \n",
       "2             0   ...                 1                    F   \n",
       "3             0   ...                 1                    F   \n",
       "4             0   ...                 1                  F-D   \n",
       "\n",
       "                                                 SHA FECHA_HORA_ACOPIO  \\\n",
       "0  a17d856a260b001c68b498781c1ca71ef9e0bfbc7cb98e...      7/1/18 07:25   \n",
       "1  25af5bfa78cd2bf74f9377e4a266605eea6e478fe27ae8...      7/2/18 07:11   \n",
       "2  b8f3fb89dda14167b6cb4f2f4d24a8b205446ac9035311...      7/2/18 07:08   \n",
       "3  75562582dc5be7bf9177dfc1458df9a60b9aba746e2225...      7/2/18 06:55   \n",
       "4  15fd04a75d46e0027204d72f0e8486262e09ff7f7b34b6...      7/2/18 07:12   \n",
       "\n",
       "  FECHA_HORA_CAPTURA FECHA_HORA_VERIFICACION ORIGEN DIGITALIZACION  \\\n",
       "0       7/2/18 07:46            7/2/18 07:46   CATD        ESCÁNER   \n",
       "1       7/2/18 11:33            7/2/18 11:34   CATD        ESCÁNER   \n",
       "2       7/2/18 11:23            7/2/18 11:26   CATD        ESCÁNER   \n",
       "3       7/2/18 10:43            7/2/18 10:44   CATD        ESCÁNER   \n",
       "4       7/2/18 11:09            7/2/18 11:10   CATD        ESCÁNER   \n",
       "\n",
       "  TIPO_DOCUMENTO COTEJADA  \n",
       "0              -        1  \n",
       "1      Acta PREP        1  \n",
       "2      Acta PREP        1  \n",
       "3      Acta PREP        1  \n",
       "4      Acta PREP        1  \n",
       "\n",
       "[5 rows x 56 columns]"
      ]
     },
     "execution_count": 283,
     "metadata": {},
     "output_type": "execute_result"
    }
   ],
   "source": [
    "df = pd.read_csv(path, encoding='latin1', low_memory=False)\n",
    "df.head()"
   ]
  },
  {
   "cell_type": "code",
   "execution_count": 284,
   "metadata": {},
   "outputs": [
    {
     "data": {
      "text/plain": [
       "(158846, 56)"
      ]
     },
     "execution_count": 284,
     "metadata": {},
     "output_type": "execute_result"
    }
   ],
   "source": [
    "df.shape"
   ]
  },
  {
   "cell_type": "code",
   "execution_count": 285,
   "metadata": {},
   "outputs": [
    {
     "name": "stdout",
     "output_type": "stream",
     "text": [
      "<class 'pandas.core.frame.DataFrame'>\n",
      "RangeIndex: 158846 entries, 0 to 158845\n",
      "Data columns (total 56 columns):\n",
      "CLAVE_CASILLA                   158846 non-null object\n",
      "CLAVE_ACTA                      158846 non-null object\n",
      "ID_ESTADO                       158846 non-null int64\n",
      "ESTADO                          158846 non-null object\n",
      "ID_DISTRITO_FEDERAL             158846 non-null int64\n",
      "DISTRITO_FEDERAL                158842 non-null object\n",
      "SECCION                         158846 non-null object\n",
      "ID_CASILLA                      158846 non-null int64\n",
      "TIPO_CASILLA                    158846 non-null object\n",
      "EXT_CONTIGUA                    158846 non-null int64\n",
      "UBICACION_CASILLA               158846 non-null int64\n",
      "TIPO_ACTA                       158846 non-null int64\n",
      "TOTAL_BOLETAS_SOBRANTES         158846 non-null object\n",
      "TOTAL_PERSONAS_VOTARON          158846 non-null object\n",
      "TOTAL_REP_PARTIDO_CI_VOTARON    158846 non-null object\n",
      "TOTAL_VOTOS_SACADOS             158846 non-null object\n",
      "PAN                             158846 non-null object\n",
      "PRI                             158846 non-null object\n",
      "PRD                             158846 non-null object\n",
      "PVEM                            158846 non-null object\n",
      "PT                              158846 non-null object\n",
      "MC                              158846 non-null object\n",
      "PANAL                           158846 non-null object\n",
      "MORENA                          158846 non-null object\n",
      "PES                             158846 non-null object\n",
      "C_PAN_PRD_MC                    158846 non-null object\n",
      "C_PAN_PRD                       158846 non-null object\n",
      "C_PAN_MC                        158846 non-null object\n",
      "C_PRD_MC                        158846 non-null object\n",
      "C_PRI_PVEM_PANAL                158846 non-null object\n",
      "C_PRI_PVEM                      158846 non-null object\n",
      "C_PRI_PANAL                     158846 non-null object\n",
      "C_PVEM_PANAL                    158846 non-null object\n",
      "C_PT_MORENA_PES                 158846 non-null object\n",
      "C_PT_MORENA                     158846 non-null object\n",
      "C_PT_PES                        158846 non-null object\n",
      "C_MORENA_PES                    158846 non-null object\n",
      "CAND_IND_01                     158846 non-null object\n",
      "CAND_IND_02                     158846 non-null object\n",
      "NO_REGISTRADOS                  158846 non-null object\n",
      "NULOS                           158846 non-null object\n",
      "TOTAL_VOTOS_ASENTADO            158846 non-null object\n",
      "TOTAL_VOTOS_CALCULADO           158846 non-null object\n",
      "LISTA_NOMINAL                   158846 non-null object\n",
      "REPRESENTANTES_PP_CI            158846 non-null object\n",
      "OBSERVACIONES                   158846 non-null object\n",
      "CONTABILIZADA                   158846 non-null object\n",
      "MECANISMOS_TRASLADO             158846 non-null object\n",
      "SHA                             158846 non-null object\n",
      "FECHA_HORA_ACOPIO               158846 non-null object\n",
      "FECHA_HORA_CAPTURA              158846 non-null object\n",
      "FECHA_HORA_VERIFICACION         158846 non-null object\n",
      "ORIGEN                          158846 non-null object\n",
      "DIGITALIZACION                  158846 non-null object\n",
      "TIPO_DOCUMENTO                  158846 non-null object\n",
      "COTEJADA                        158846 non-null object\n",
      "dtypes: int64(6), object(50)\n",
      "memory usage: 67.9+ MB\n"
     ]
    }
   ],
   "source": [
    "df.info()"
   ]
  },
  {
   "cell_type": "code",
   "execution_count": 286,
   "metadata": {},
   "outputs": [
    {
     "data": {
      "text/plain": [
       "True"
      ]
     },
     "execution_count": 286,
     "metadata": {},
     "output_type": "execute_result"
    }
   ],
   "source": [
    "df.isnull().any().any()"
   ]
  },
  {
   "cell_type": "code",
   "execution_count": 287,
   "metadata": {},
   "outputs": [
    {
     "data": {
      "text/plain": [
       "['DISTRITO_FEDERAL']"
      ]
     },
     "execution_count": 287,
     "metadata": {},
     "output_type": "execute_result"
    }
   ],
   "source": [
    "df.columns[df.isnull().any()].tolist()"
   ]
  },
  {
   "cell_type": "code",
   "execution_count": 288,
   "metadata": {},
   "outputs": [
    {
     "data": {
      "text/plain": [
       "4"
      ]
     },
     "execution_count": 288,
     "metadata": {},
     "output_type": "execute_result"
    }
   ],
   "source": [
    "len(pd.isnull(df).any(1).nonzero()[0].tolist())"
   ]
  },
  {
   "cell_type": "code",
   "execution_count": 289,
   "metadata": {},
   "outputs": [
    {
     "data": {
      "text/plain": [
       "[157060, 157217, 157934, 157935]"
      ]
     },
     "execution_count": 289,
     "metadata": {},
     "output_type": "execute_result"
    }
   ],
   "source": [
    "pd.isnull(df).any(1).nonzero()[0].tolist()"
   ]
  },
  {
   "cell_type": "code",
   "execution_count": 290,
   "metadata": {},
   "outputs": [],
   "source": [
    "df.dropna(axis=0, inplace=True)"
   ]
  },
  {
   "cell_type": "code",
   "execution_count": 291,
   "metadata": {},
   "outputs": [
    {
     "data": {
      "text/plain": [
       "(158842, 56)"
      ]
     },
     "execution_count": 291,
     "metadata": {},
     "output_type": "execute_result"
    }
   ],
   "source": [
    "df.shape"
   ]
  },
  {
   "cell_type": "code",
   "execution_count": 292,
   "metadata": {},
   "outputs": [
    {
     "data": {
      "text/plain": [
       "False"
      ]
     },
     "execution_count": 292,
     "metadata": {},
     "output_type": "execute_result"
    }
   ],
   "source": [
    "df.isnull().any().any()"
   ]
  },
  {
   "cell_type": "code",
   "execution_count": 433,
   "metadata": {},
   "outputs": [],
   "source": [
    "df_copy = df.copy()"
   ]
  },
  {
   "cell_type": "markdown",
   "metadata": {},
   "source": [
    "`ESTADO` - Indica el nombre de la Entidad Federativa a la que corresponde el Acta."
   ]
  },
  {
   "cell_type": "code",
   "execution_count": 434,
   "metadata": {},
   "outputs": [
    {
     "data": {
      "text/plain": [
       "array(['AGUASCALIENTES', 'BAJA CALIFORNIA', 'BAJA CALIFORNIA SUR',\n",
       "       'CAMPECHE', 'COAHUILA', 'COLIMA', 'CHIAPAS', 'CHIHUAHUA',\n",
       "       'CIUDAD DE MÉXICO', 'DURANGO', 'GUANAJUATO', 'GUERRERO', 'HIDALGO',\n",
       "       'JALISCO', 'MÉXICO', 'MICHOACÁN', 'MORELOS', 'NAYARIT',\n",
       "       'NUEVO LEÓN', 'OAXACA', 'PUEBLA', 'QUERÉTARO', 'QUINTANA ROO',\n",
       "       'SAN LUIS POTOSÍ', 'SINALOA', 'SONORA', 'TABASCO', 'TAMAULIPAS',\n",
       "       'TLAXCALA', 'VERACRUZ', 'YUCATÁN', 'ZACATECAS'], dtype=object)"
      ]
     },
     "execution_count": 434,
     "metadata": {},
     "output_type": "execute_result"
    }
   ],
   "source": [
    "df_copy.ESTADO.unique()"
   ]
  },
  {
   "cell_type": "markdown",
   "metadata": {},
   "source": [
    "`DISTRITO_FEDERAL` - Nombre del distrito electoral de la entidad acorde al tipo de elección."
   ]
  },
  {
   "cell_type": "code",
   "execution_count": 435,
   "metadata": {},
   "outputs": [
    {
     "data": {
      "text/plain": [
       "Iztapalapa             2485\n",
       "Tijuana                2453\n",
       "Juárez                 2284\n",
       "Ecatepec de Morelos    2220\n",
       "Guadalajara            2195\n",
       "Name: DISTRITO_FEDERAL, dtype: int64"
      ]
     },
     "execution_count": 435,
     "metadata": {},
     "output_type": "execute_result"
    }
   ],
   "source": [
    "df_copy.DISTRITO_FEDERAL.value_counts().head()"
   ]
  },
  {
   "cell_type": "code",
   "execution_count": 436,
   "metadata": {},
   "outputs": [
    {
     "name": "stderr",
     "output_type": "stream",
     "text": [
      "/Users/jacoboleon/.pyenv/versions/anaconda3-5.1.0/lib/python3.6/site-packages/ipykernel_launcher.py:2: UserWarning: Boolean Series key will be reindexed to match DataFrame index.\n",
      "  \n"
     ]
    },
    {
     "data": {
      "text/html": [
       "<div>\n",
       "<style scoped>\n",
       "    .dataframe tbody tr th:only-of-type {\n",
       "        vertical-align: middle;\n",
       "    }\n",
       "\n",
       "    .dataframe tbody tr th {\n",
       "        vertical-align: top;\n",
       "    }\n",
       "\n",
       "    .dataframe thead th {\n",
       "        text-align: right;\n",
       "    }\n",
       "</style>\n",
       "<table border=\"1\" class=\"dataframe\">\n",
       "  <thead>\n",
       "    <tr style=\"text-align: right;\">\n",
       "      <th></th>\n",
       "      <th>CLAVE_CASILLA</th>\n",
       "      <th>CLAVE_ACTA</th>\n",
       "      <th>ID_ESTADO</th>\n",
       "      <th>ESTADO</th>\n",
       "      <th>ID_DISTRITO_FEDERAL</th>\n",
       "      <th>DISTRITO_FEDERAL</th>\n",
       "      <th>SECCION</th>\n",
       "      <th>ID_CASILLA</th>\n",
       "      <th>TIPO_CASILLA</th>\n",
       "      <th>EXT_CONTIGUA</th>\n",
       "      <th>...</th>\n",
       "      <th>CONTABILIZADA</th>\n",
       "      <th>MECANISMOS_TRASLADO</th>\n",
       "      <th>SHA</th>\n",
       "      <th>FECHA_HORA_ACOPIO</th>\n",
       "      <th>FECHA_HORA_CAPTURA</th>\n",
       "      <th>FECHA_HORA_VERIFICACION</th>\n",
       "      <th>ORIGEN</th>\n",
       "      <th>DIGITALIZACION</th>\n",
       "      <th>TIPO_DOCUMENTO</th>\n",
       "      <th>COTEJADA</th>\n",
       "    </tr>\n",
       "  </thead>\n",
       "  <tbody>\n",
       "  </tbody>\n",
       "</table>\n",
       "<p>0 rows × 56 columns</p>\n",
       "</div>"
      ],
      "text/plain": [
       "Empty DataFrame\n",
       "Columns: [CLAVE_CASILLA, CLAVE_ACTA, ID_ESTADO, ESTADO, ID_DISTRITO_FEDERAL, DISTRITO_FEDERAL, SECCION, ID_CASILLA, TIPO_CASILLA, EXT_CONTIGUA, UBICACION_CASILLA, TIPO_ACTA, TOTAL_BOLETAS_SOBRANTES, TOTAL_PERSONAS_VOTARON, TOTAL_REP_PARTIDO_CI_VOTARON, TOTAL_VOTOS_SACADOS, PAN, PRI, PRD, PVEM, PT, MC, PANAL, MORENA, PES, C_PAN_PRD_MC, C_PAN_PRD, C_PAN_MC, C_PRD_MC, C_PRI_PVEM_PANAL, C_PRI_PVEM, C_PRI_PANAL, C_PVEM_PANAL, C_PT_MORENA_PES, C_PT_MORENA, C_PT_PES, C_MORENA_PES, CAND_IND_01, CAND_IND_02, NO_REGISTRADOS, NULOS, TOTAL_VOTOS_ASENTADO, TOTAL_VOTOS_CALCULADO, LISTA_NOMINAL, REPRESENTANTES_PP_CI, OBSERVACIONES, CONTABILIZADA, MECANISMOS_TRASLADO, SHA, FECHA_HORA_ACOPIO, FECHA_HORA_CAPTURA, FECHA_HORA_VERIFICACION, ORIGEN, DIGITALIZACION, TIPO_DOCUMENTO, COTEJADA]\n",
       "Index: []\n",
       "\n",
       "[0 rows x 56 columns]"
      ]
     },
     "execution_count": 436,
     "metadata": {},
     "output_type": "execute_result"
    }
   ],
   "source": [
    "df_copy.drop(df_copy[df.DISTRITO_FEDERAL == ' '].index, inplace=True)\n",
    "df_copy[df.DISTRITO_FEDERAL == ' ']"
   ]
  },
  {
   "cell_type": "markdown",
   "metadata": {},
   "source": [
    "`TIPO_CASILLA` - Se refiere al tipo de casilla; \n",
    "* `B`: Básica\n",
    "* `C`: Contigua\n",
    "* `E`: Extraordinaria\n",
    "* `S`: Especial\n",
    "* `M`: Mesa de escrutinio, contiene información de voto en el extranjero."
   ]
  },
  {
   "cell_type": "code",
   "execution_count": 437,
   "metadata": {},
   "outputs": [
    {
     "data": {
      "text/plain": [
       "C    80211\n",
       "B    68280\n",
       "E     9105\n",
       "S     1206\n",
       "Name: TIPO_CASILLA, dtype: int64"
      ]
     },
     "execution_count": 437,
     "metadata": {},
     "output_type": "execute_result"
    }
   ],
   "source": [
    "df_copy.TIPO_CASILLA.value_counts()"
   ]
  },
  {
   "cell_type": "code",
   "execution_count": 438,
   "metadata": {},
   "outputs": [
    {
     "data": {
      "text/html": [
       "<div>\n",
       "<style scoped>\n",
       "    .dataframe tbody tr th:only-of-type {\n",
       "        vertical-align: middle;\n",
       "    }\n",
       "\n",
       "    .dataframe tbody tr th {\n",
       "        vertical-align: top;\n",
       "    }\n",
       "\n",
       "    .dataframe thead th {\n",
       "        text-align: right;\n",
       "    }\n",
       "</style>\n",
       "<table border=\"1\" class=\"dataframe\">\n",
       "  <thead>\n",
       "    <tr style=\"text-align: right;\">\n",
       "      <th></th>\n",
       "      <th>0</th>\n",
       "    </tr>\n",
       "  </thead>\n",
       "  <tbody>\n",
       "    <tr>\n",
       "      <th>0</th>\n",
       "      <td>B</td>\n",
       "    </tr>\n",
       "    <tr>\n",
       "      <th>1</th>\n",
       "      <td>C</td>\n",
       "    </tr>\n",
       "    <tr>\n",
       "      <th>2</th>\n",
       "      <td>S</td>\n",
       "    </tr>\n",
       "    <tr>\n",
       "      <th>3</th>\n",
       "      <td>E</td>\n",
       "    </tr>\n",
       "  </tbody>\n",
       "</table>\n",
       "</div>"
      ],
      "text/plain": [
       "   0\n",
       "0  B\n",
       "1  C\n",
       "2  S\n",
       "3  E"
      ]
     },
     "execution_count": 438,
     "metadata": {},
     "output_type": "execute_result"
    }
   ],
   "source": [
    "TIPO_CASILLA = pd.DataFrame(df_copy.TIPO_CASILLA.unique())\n",
    "TIPO_CASILLA.head()"
   ]
  },
  {
   "cell_type": "code",
   "execution_count": 439,
   "metadata": {},
   "outputs": [
    {
     "data": {
      "text/plain": [
       "Index(['index', 0], dtype='object')"
      ]
     },
     "execution_count": 439,
     "metadata": {},
     "output_type": "execute_result"
    }
   ],
   "source": [
    "TIPO_CASILLA.reset_index(inplace=True)\n",
    "TIPO_CASILLA.columns"
   ]
  },
  {
   "cell_type": "code",
   "execution_count": 440,
   "metadata": {},
   "outputs": [
    {
     "data": {
      "text/plain": [
       "Index(['index', 'TIPO_CASILLA'], dtype='object')"
      ]
     },
     "execution_count": 440,
     "metadata": {},
     "output_type": "execute_result"
    }
   ],
   "source": [
    "TIPO_CASILLA.rename(columns={0: 'TIPO_CASILLA'}, inplace=True)\n",
    "TIPO_CASILLA.columns"
   ]
  },
  {
   "cell_type": "code",
   "execution_count": 441,
   "metadata": {},
   "outputs": [
    {
     "data": {
      "text/html": [
       "<div>\n",
       "<style scoped>\n",
       "    .dataframe tbody tr th:only-of-type {\n",
       "        vertical-align: middle;\n",
       "    }\n",
       "\n",
       "    .dataframe tbody tr th {\n",
       "        vertical-align: top;\n",
       "    }\n",
       "\n",
       "    .dataframe thead th {\n",
       "        text-align: right;\n",
       "    }\n",
       "</style>\n",
       "<table border=\"1\" class=\"dataframe\">\n",
       "  <thead>\n",
       "    <tr style=\"text-align: right;\">\n",
       "      <th></th>\n",
       "      <th>index</th>\n",
       "      <th>TIPO_CASILLA</th>\n",
       "    </tr>\n",
       "  </thead>\n",
       "  <tbody>\n",
       "    <tr>\n",
       "      <th>0</th>\n",
       "      <td>1</td>\n",
       "      <td>B</td>\n",
       "    </tr>\n",
       "    <tr>\n",
       "      <th>1</th>\n",
       "      <td>2</td>\n",
       "      <td>C</td>\n",
       "    </tr>\n",
       "    <tr>\n",
       "      <th>2</th>\n",
       "      <td>3</td>\n",
       "      <td>S</td>\n",
       "    </tr>\n",
       "    <tr>\n",
       "      <th>3</th>\n",
       "      <td>4</td>\n",
       "      <td>E</td>\n",
       "    </tr>\n",
       "  </tbody>\n",
       "</table>\n",
       "</div>"
      ],
      "text/plain": [
       "   index TIPO_CASILLA\n",
       "0      1            B\n",
       "1      2            C\n",
       "2      3            S\n",
       "3      4            E"
      ]
     },
     "execution_count": 441,
     "metadata": {},
     "output_type": "execute_result"
    }
   ],
   "source": [
    "TIPO_CASILLA['index'] = TIPO_CASILLA['index'] + 1\n",
    "TIPO_CASILLA"
   ]
  },
  {
   "cell_type": "code",
   "execution_count": 442,
   "metadata": {},
   "outputs": [
    {
     "data": {
      "text/plain": [
       "dict_keys(['index', 'columns', 'data'])"
      ]
     },
     "execution_count": 442,
     "metadata": {},
     "output_type": "execute_result"
    }
   ],
   "source": [
    "dict_T = TIPO_CASILLA.to_dict(orient='split')\n",
    "dict_T.keys()"
   ]
  },
  {
   "cell_type": "code",
   "execution_count": 443,
   "metadata": {},
   "outputs": [
    {
     "data": {
      "text/plain": [
       "{'data': [[1, 'B'], [2, 'C'], [3, 'S'], [4, 'E']]}"
      ]
     },
     "execution_count": 443,
     "metadata": {},
     "output_type": "execute_result"
    }
   ],
   "source": [
    "dict_T.pop('index')\n",
    "dict_T.pop('columns')\n",
    "dict_T"
   ]
  },
  {
   "cell_type": "code",
   "execution_count": 444,
   "metadata": {},
   "outputs": [
    {
     "data": {
      "text/plain": [
       "[1, 'B']"
      ]
     },
     "execution_count": 444,
     "metadata": {},
     "output_type": "execute_result"
    }
   ],
   "source": [
    "dict_T['data'][0]"
   ]
  },
  {
   "cell_type": "code",
   "execution_count": 445,
   "metadata": {},
   "outputs": [
    {
     "data": {
      "text/plain": [
       "'B'"
      ]
     },
     "execution_count": 445,
     "metadata": {},
     "output_type": "execute_result"
    }
   ],
   "source": [
    "dict_T['data'][0][1]"
   ]
  },
  {
   "cell_type": "code",
   "execution_count": 446,
   "metadata": {},
   "outputs": [
    {
     "data": {
      "text/plain": [
       "1"
      ]
     },
     "execution_count": 446,
     "metadata": {},
     "output_type": "execute_result"
    }
   ],
   "source": [
    "dict_T['data'][0][0]"
   ]
  },
  {
   "cell_type": "code",
   "execution_count": 447,
   "metadata": {},
   "outputs": [
    {
     "data": {
      "text/plain": [
       "{'B': 1, 'C': 2, 'E': 4, 'S': 3}"
      ]
     },
     "execution_count": 447,
     "metadata": {},
     "output_type": "execute_result"
    }
   ],
   "source": [
    "dict_TIPO_CASILLA = {}\n",
    "\n",
    "for line in dict_T['data']:\n",
    "    #print(line[1], ' : ', line[0])\n",
    "    dict_TIPO_CASILLA[line[1]] = line[0]\n",
    "\n",
    "dict_TIPO_CASILLA"
   ]
  },
  {
   "cell_type": "code",
   "execution_count": 448,
   "metadata": {},
   "outputs": [],
   "source": [
    "df_copy.TIPO_CASILLA.replace(dict_TIPO_CASILLA, inplace=True)\n"
   ]
  },
  {
   "cell_type": "code",
   "execution_count": 449,
   "metadata": {},
   "outputs": [
    {
     "data": {
      "text/plain": [
       "2    80211\n",
       "1    68280\n",
       "4     9105\n",
       "3     1206\n",
       "Name: TIPO_CASILLA, dtype: int64"
      ]
     },
     "execution_count": 449,
     "metadata": {},
     "output_type": "execute_result"
    }
   ],
   "source": [
    "df_copy.TIPO_CASILLA.value_counts()"
   ]
  },
  {
   "cell_type": "markdown",
   "metadata": {},
   "source": [
    "`UBICACION_CASILLA` - Identifica el tipo de casilla y toma los siguientes valores:\n",
    "* `1`: Urbana\n",
    "* `2`: No Urbana"
   ]
  },
  {
   "cell_type": "code",
   "execution_count": 450,
   "metadata": {},
   "outputs": [
    {
     "data": {
      "text/plain": [
       "1    104302\n",
       "2     52506\n",
       "0      1994\n",
       "Name: UBICACION_CASILLA, dtype: int64"
      ]
     },
     "execution_count": 450,
     "metadata": {},
     "output_type": "execute_result"
    }
   ],
   "source": [
    "df_copy.UBICACION_CASILLA.value_counts()"
   ]
  },
  {
   "cell_type": "markdown",
   "metadata": {},
   "source": [
    "`LISTA_NOMINAL` - Número de ciudadanos con derecho a votar que integran la lista nominal de las Actas PREP contabilizadas."
   ]
  },
  {
   "cell_type": "code",
   "execution_count": 451,
   "metadata": {},
   "outputs": [
    {
     "data": {
      "text/plain": [
       "-      1994\n",
       "0      1051\n",
       "677     625\n",
       "719     625\n",
       "721     605\n",
       "Name: LISTA_NOMINAL, dtype: int64"
      ]
     },
     "execution_count": 451,
     "metadata": {},
     "output_type": "execute_result"
    }
   ],
   "source": [
    "df_copy.LISTA_NOMINAL.value_counts().head()"
   ]
  },
  {
   "cell_type": "code",
   "execution_count": 452,
   "metadata": {},
   "outputs": [
    {
     "data": {
      "text/plain": [
       "-1     1994\n",
       "0      1051\n",
       "719     625\n",
       "677     625\n",
       "721     605\n",
       "Name: LISTA_NOMINAL, dtype: int64"
      ]
     },
     "execution_count": 452,
     "metadata": {},
     "output_type": "execute_result"
    }
   ],
   "source": [
    "df_copy.LISTA_NOMINAL.replace({'Sin dato': -1,\n",
    "                               'Ilegible': -1,\n",
    "                               '-':-1}, inplace=True)\n",
    "df_copy.LISTA_NOMINAL.value_counts().head()"
   ]
  },
  {
   "cell_type": "code",
   "execution_count": 453,
   "metadata": {},
   "outputs": [
    {
     "data": {
      "text/plain": [
       "568"
      ]
     },
     "execution_count": 453,
     "metadata": {},
     "output_type": "execute_result"
    }
   ],
   "source": [
    "# se encuentra el promedio de los valores mayores a -1\n",
    "df_copy.LISTA_NOMINAL = df_copy.LISTA_NOMINAL.astype('int64')\n",
    "LISTA_NOMINAL_mean = df_copy.LISTA_NOMINAL[df_copy.LISTA_NOMINAL > -1].mean()\n",
    "LISTA_NOMINAL_mean = round(LISTA_NOMINAL_mean)\n",
    "LISTA_NOMINAL_mean"
   ]
  },
  {
   "cell_type": "code",
   "execution_count": 454,
   "metadata": {},
   "outputs": [
    {
     "data": {
      "text/plain": [
       "568    2463\n",
       "0      1051\n",
       "677     625\n",
       "719     625\n",
       "721     605\n",
       "Name: LISTA_NOMINAL, dtype: int64"
      ]
     },
     "execution_count": 454,
     "metadata": {},
     "output_type": "execute_result"
    }
   ],
   "source": [
    "df_copy.LISTA_NOMINAL.replace({-1: LISTA_NOMINAL_mean}, inplace=True)\n",
    "df_copy.LISTA_NOMINAL = df_copy.LISTA_NOMINAL.astype('int64')\n",
    "df_copy.LISTA_NOMINAL.value_counts().head()"
   ]
  },
  {
   "cell_type": "code",
   "execution_count": 455,
   "metadata": {},
   "outputs": [
    {
     "data": {
      "text/plain": [
       "568    2463\n",
       "0      1051\n",
       "677     625\n",
       "719     625\n",
       "721     605\n",
       "Name: LISTA_NOMINAL, dtype: int64"
      ]
     },
     "execution_count": 455,
     "metadata": {},
     "output_type": "execute_result"
    }
   ],
   "source": [
    "df_copy.LISTA_NOMINAL.replace({-1: LISTA_NOMINAL_mean}, inplace=True)\n",
    "df_copy.LISTA_NOMINAL = df_copy.LISTA_NOMINAL.astype('int64')\n",
    "df_copy.LISTA_NOMINAL.value_counts().head()"
   ]
  },
  {
   "cell_type": "markdown",
   "metadata": {},
   "source": [
    "TOTAL_BOLETAS_SOBRANTES` - Total de boletas no usadas y canceladas."
   ]
  },
  {
   "cell_type": "code",
   "execution_count": 456,
   "metadata": {},
   "outputs": [
    {
     "data": {
      "text/plain": [
       "-           30285\n",
       "Sin dato     3603\n",
       "Ilegible     1819\n",
       "208           709\n",
       "206           678\n",
       "Name: TOTAL_BOLETAS_SOBRANTES, dtype: int64"
      ]
     },
     "execution_count": 456,
     "metadata": {},
     "output_type": "execute_result"
    }
   ],
   "source": [
    "df_copy.TOTAL_BOLETAS_SOBRANTES.value_counts().head()"
   ]
  },
  {
   "cell_type": "code",
   "execution_count": 457,
   "metadata": {},
   "outputs": [
    {
     "data": {
      "text/plain": [
       "-1     35707\n",
       "208      709\n",
       "206      678\n",
       "200      673\n",
       "203      663\n",
       "Name: TOTAL_BOLETAS_SOBRANTES, dtype: int64"
      ]
     },
     "execution_count": 457,
     "metadata": {},
     "output_type": "execute_result"
    }
   ],
   "source": [
    "df_copy.TOTAL_BOLETAS_SOBRANTES.replace({'Sin dato': -1,\n",
    "                                        'Ilegible': -1,\n",
    "                                        '-':-1}, inplace=True)\n",
    "df_copy.TOTAL_BOLETAS_SOBRANTES.value_counts().head()"
   ]
  },
  {
   "cell_type": "code",
   "execution_count": 458,
   "metadata": {},
   "outputs": [
    {
     "data": {
      "text/plain": [
       "230"
      ]
     },
     "execution_count": 458,
     "metadata": {},
     "output_type": "execute_result"
    }
   ],
   "source": [
    "# se encuentra el promedio de los valores mayores a -1\n",
    "df_copy.TOTAL_BOLETAS_SOBRANTES = df_copy.TOTAL_BOLETAS_SOBRANTES.astype('int64')\n",
    "TOTAL_BOLETAS_SOBRANTES_mean = df_copy.TOTAL_BOLETAS_SOBRANTES[df_copy.TOTAL_BOLETAS_SOBRANTES > -1].mean()\n",
    "TOTAL_BOLETAS_SOBRANTES_mean = round(TOTAL_BOLETAS_SOBRANTES_mean)\n",
    "TOTAL_BOLETAS_SOBRANTES_mean"
   ]
  },
  {
   "cell_type": "code",
   "execution_count": 459,
   "metadata": {},
   "outputs": [
    {
     "data": {
      "text/plain": [
       "230    36311\n",
       "208      709\n",
       "206      678\n",
       "200      673\n",
       "203      663\n",
       "Name: TOTAL_BOLETAS_SOBRANTES, dtype: int64"
      ]
     },
     "execution_count": 459,
     "metadata": {},
     "output_type": "execute_result"
    }
   ],
   "source": [
    "df_copy.TOTAL_BOLETAS_SOBRANTES.replace({-1: TOTAL_BOLETAS_SOBRANTES_mean}, inplace=True)\n",
    "df_copy.TOTAL_BOLETAS_SOBRANTES = df_copy.TOTAL_BOLETAS_SOBRANTES.astype('int64')\n",
    "df_copy.TOTAL_BOLETAS_SOBRANTES.value_counts().head()"
   ]
  },
  {
   "cell_type": "markdown",
   "metadata": {},
   "source": [
    "`TOTAL_VOTOS_SACADOS` - Tota de votos sacados de la urna"
   ]
  },
  {
   "cell_type": "code",
   "execution_count": 460,
   "metadata": {},
   "outputs": [
    {
     "data": {
      "text/plain": [
       "-           30285\n",
       "Sin dato     8334\n",
       "0            2747\n",
       "Ilegible     2036\n",
       "1             582\n",
       "Name: TOTAL_VOTOS_SACADOS, dtype: int64"
      ]
     },
     "execution_count": 460,
     "metadata": {},
     "output_type": "execute_result"
    }
   ],
   "source": [
    "df_copy.TOTAL_VOTOS_SACADOS.value_counts().head()"
   ]
  },
  {
   "cell_type": "code",
   "execution_count": 461,
   "metadata": {},
   "outputs": [
    {
     "data": {
      "text/plain": [
       "-1     40655\n",
       "0       2747\n",
       "1        582\n",
       "373      527\n",
       "396      522\n",
       "Name: TOTAL_VOTOS_SACADOS, dtype: int64"
      ]
     },
     "execution_count": 461,
     "metadata": {},
     "output_type": "execute_result"
    }
   ],
   "source": [
    "df_copy.TOTAL_VOTOS_SACADOS.replace({'Sin dato': -1,\n",
    "                                        'Ilegible': -1,\n",
    "                                        '-':-1}, inplace=True)\n",
    "df_copy.TOTAL_VOTOS_SACADOS.value_counts().head()"
   ]
  },
  {
   "cell_type": "code",
   "execution_count": 462,
   "metadata": {},
   "outputs": [
    {
     "data": {
      "text/plain": [
       "352"
      ]
     },
     "execution_count": 462,
     "metadata": {},
     "output_type": "execute_result"
    }
   ],
   "source": [
    "# se encuentra el promedio de los valores mayores a -1\n",
    "df_copy.TOTAL_VOTOS_SACADOS = df_copy.TOTAL_VOTOS_SACADOS.astype('int64')\n",
    "TOTAL_VOTOS_SACADOS_mean = df_copy.TOTAL_VOTOS_SACADOS[df_copy.TOTAL_VOTOS_SACADOS > -1].mean()\n",
    "TOTAL_VOTOS_SACADOS_mean = round(TOTAL_VOTOS_SACADOS_mean)\n",
    "TOTAL_VOTOS_SACADOS_mean"
   ]
  },
  {
   "cell_type": "code",
   "execution_count": 463,
   "metadata": {},
   "outputs": [
    {
     "data": {
      "text/plain": [
       "352    41103\n",
       "0       2747\n",
       "1        582\n",
       "373      527\n",
       "398      522\n",
       "Name: TOTAL_VOTOS_SACADOS, dtype: int64"
      ]
     },
     "execution_count": 463,
     "metadata": {},
     "output_type": "execute_result"
    }
   ],
   "source": [
    "df_copy.TOTAL_VOTOS_SACADOS.replace({-1: TOTAL_VOTOS_SACADOS_mean}, inplace=True)\n",
    "df_copy.TOTAL_VOTOS_SACADOS = df_copy.TOTAL_VOTOS_SACADOS.astype('int64')\n",
    "df_copy.TOTAL_VOTOS_SACADOS.value_counts().head()"
   ]
  },
  {
   "cell_type": "markdown",
   "metadata": {},
   "source": [
    "`TOTAL_PERSONAS_VOTARON` - Total de personas que votaron"
   ]
  },
  {
   "cell_type": "code",
   "execution_count": 464,
   "metadata": {},
   "outputs": [
    {
     "data": {
      "text/plain": [
       "-           30285\n",
       "Sin dato     3271\n",
       "Ilegible     2206\n",
       "0             856\n",
       "393           568\n",
       "Name: TOTAL_PERSONAS_VOTARON, dtype: int64"
      ]
     },
     "execution_count": 464,
     "metadata": {},
     "output_type": "execute_result"
    }
   ],
   "source": [
    "df_copy.TOTAL_PERSONAS_VOTARON.value_counts().head()"
   ]
  },
  {
   "cell_type": "code",
   "execution_count": 465,
   "metadata": {},
   "outputs": [
    {
     "data": {
      "text/plain": [
       "-1     35762\n",
       "0        856\n",
       "393      568\n",
       "375      562\n",
       "394      560\n",
       "Name: TOTAL_PERSONAS_VOTARON, dtype: int64"
      ]
     },
     "execution_count": 465,
     "metadata": {},
     "output_type": "execute_result"
    }
   ],
   "source": [
    "df_copy.TOTAL_PERSONAS_VOTARON.replace({'Sin dato': -1,\n",
    "                                        'Ilegible': -1,\n",
    "                                        '-':-1}, inplace=True)\n",
    "df_copy.TOTAL_PERSONAS_VOTARON.value_counts().head()"
   ]
  },
  {
   "cell_type": "code",
   "execution_count": 466,
   "metadata": {},
   "outputs": [
    {
     "data": {
      "text/plain": [
       "357"
      ]
     },
     "execution_count": 466,
     "metadata": {},
     "output_type": "execute_result"
    }
   ],
   "source": [
    "# se encuentra el promedio de los valores mayores a -1\n",
    "df_copy.TOTAL_PERSONAS_VOTARON = df_copy.TOTAL_PERSONAS_VOTARON.astype('int64')\n",
    "TOTAL_PERSONAS_VOTARON_mean = df_copy.TOTAL_PERSONAS_VOTARON[df_copy.TOTAL_PERSONAS_VOTARON > -1].mean()\n",
    "TOTAL_PERSONAS_VOTARON_mean = round(TOTAL_PERSONAS_VOTARON_mean)\n",
    "TOTAL_PERSONAS_VOTARON_mean"
   ]
  },
  {
   "cell_type": "code",
   "execution_count": 467,
   "metadata": {},
   "outputs": [
    {
     "data": {
      "text/plain": [
       "357    36278\n",
       "0        856\n",
       "393      568\n",
       "375      562\n",
       "350      560\n",
       "Name: TOTAL_PERSONAS_VOTARON, dtype: int64"
      ]
     },
     "execution_count": 467,
     "metadata": {},
     "output_type": "execute_result"
    }
   ],
   "source": [
    "df_copy.TOTAL_PERSONAS_VOTARON.replace({-1: TOTAL_PERSONAS_VOTARON_mean}, inplace=True)\n",
    "df_copy.TOTAL_PERSONAS_VOTARON = df_copy.TOTAL_PERSONAS_VOTARON.astype('int64')\n",
    "df_copy.TOTAL_PERSONAS_VOTARON.value_counts().head()"
   ]
  },
  {
   "cell_type": "markdown",
   "metadata": {},
   "source": [
    "`NO_REGISTRADOS` - Número de votos para candidatos no registrados"
   ]
  },
  {
   "cell_type": "code",
   "execution_count": 468,
   "metadata": {},
   "outputs": [
    {
     "data": {
      "text/plain": [
       "0           93020\n",
       "-           30285\n",
       "Sin dato    16154\n",
       "1           11094\n",
       "Ilegible     2706\n",
       "Name: NO_REGISTRADOS, dtype: int64"
      ]
     },
     "execution_count": 468,
     "metadata": {},
     "output_type": "execute_result"
    }
   ],
   "source": [
    "df_copy.NO_REGISTRADOS.value_counts().head()"
   ]
  },
  {
   "cell_type": "code",
   "execution_count": 469,
   "metadata": {},
   "outputs": [
    {
     "data": {
      "text/plain": [
       "0     93020\n",
       "-1    49145\n",
       "1     11094\n",
       "2      2364\n",
       "3       656\n",
       "Name: NO_REGISTRADOS, dtype: int64"
      ]
     },
     "execution_count": 469,
     "metadata": {},
     "output_type": "execute_result"
    }
   ],
   "source": [
    "df_copy.NO_REGISTRADOS.replace({'Sin dato': -1,\n",
    "                                        'Ilegible': -1,\n",
    "                                        '-':-1}, inplace=True)\n",
    "df_copy.NO_REGISTRADOS.value_counts().head()"
   ]
  },
  {
   "cell_type": "code",
   "execution_count": 470,
   "metadata": {},
   "outputs": [
    {
     "data": {
      "text/plain": [
       "1"
      ]
     },
     "execution_count": 470,
     "metadata": {},
     "output_type": "execute_result"
    }
   ],
   "source": [
    "# se encuentra el promedio de los valores mayores a -1\n",
    "df_copy.NO_REGISTRADOS = df_copy.NO_REGISTRADOS.astype('int64')\n",
    "NO_REGISTRADOS_mean = df_copy.NO_REGISTRADOS[df_copy.NO_REGISTRADOS > -1].mean()\n",
    "NO_REGISTRADOS_mean = round(NO_REGISTRADOS_mean)\n",
    "NO_REGISTRADOS_mean"
   ]
  },
  {
   "cell_type": "code",
   "execution_count": 471,
   "metadata": {},
   "outputs": [
    {
     "data": {
      "text/plain": [
       "0    93020\n",
       "1    60239\n",
       "2     2364\n",
       "3      656\n",
       "4      285\n",
       "Name: NO_REGISTRADOS, dtype: int64"
      ]
     },
     "execution_count": 471,
     "metadata": {},
     "output_type": "execute_result"
    }
   ],
   "source": [
    "df_copy.NO_REGISTRADOS.replace({-1: NO_REGISTRADOS_mean}, inplace=True)\n",
    "df_copy.NO_REGISTRADOS = df_copy.NO_REGISTRADOS.astype('int64')\n",
    "df_copy.NO_REGISTRADOS.value_counts().head()"
   ]
  },
  {
   "cell_type": "markdown",
   "metadata": {},
   "source": [
    "`NULOS` - Número de votos nulos"
   ]
  },
  {
   "cell_type": "code",
   "execution_count": 472,
   "metadata": {},
   "outputs": [
    {
     "data": {
      "text/plain": [
       "-    30285\n",
       "6    10107\n",
       "7    10070\n",
       "8     9971\n",
       "5     9292\n",
       "Name: NULOS, dtype: int64"
      ]
     },
     "execution_count": 472,
     "metadata": {},
     "output_type": "execute_result"
    }
   ],
   "source": [
    "df_copy.NULOS.value_counts().head()"
   ]
  },
  {
   "cell_type": "code",
   "execution_count": 473,
   "metadata": {},
   "outputs": [
    {
     "data": {
      "text/plain": [
       "-1    35304\n",
       "6     10107\n",
       "7     10070\n",
       "8      9971\n",
       "5      9292\n",
       "Name: NULOS, dtype: int64"
      ]
     },
     "execution_count": 473,
     "metadata": {},
     "output_type": "execute_result"
    }
   ],
   "source": [
    "df_copy.NULOS.replace({'Sin dato': -1,\n",
    "                                        'Ilegible': -1,\n",
    "                                        '-':-1}, inplace=True)\n",
    "df_copy.NULOS.value_counts().head()"
   ]
  },
  {
   "cell_type": "code",
   "execution_count": 474,
   "metadata": {},
   "outputs": [
    {
     "data": {
      "text/plain": [
       "11"
      ]
     },
     "execution_count": 474,
     "metadata": {},
     "output_type": "execute_result"
    }
   ],
   "source": [
    "# se encuentra el promedio de los valores mayores a -1\n",
    "df_copy.NULOS = df_copy.NULOS.astype('int64')\n",
    "NULOS_mean = df_copy.NULOS[df_copy.NULOS > -1].mean()\n",
    "NULOS_mean = round(NULOS_mean)\n",
    "NULOS_mean"
   ]
  },
  {
   "cell_type": "code",
   "execution_count": 475,
   "metadata": {},
   "outputs": [
    {
     "data": {
      "text/plain": [
       "11    42460\n",
       "6     10107\n",
       "7     10070\n",
       "8      9971\n",
       "5      9292\n",
       "Name: NULOS, dtype: int64"
      ]
     },
     "execution_count": 475,
     "metadata": {},
     "output_type": "execute_result"
    }
   ],
   "source": [
    "df_copy.NULOS.replace({-1: NULOS_mean}, inplace=True)\n",
    "df_copy.NULOS = df_copy.NULOS.astype('int64')\n",
    "df_copy.NULOS.value_counts().head()"
   ]
  },
  {
   "cell_type": "markdown",
   "metadata": {},
   "source": [
    "`TOTAL_VOTOS_ASENTADO` - Se refiere al total de votos asentado en el Acta PREP."
   ]
  },
  {
   "cell_type": "code",
   "execution_count": 476,
   "metadata": {},
   "outputs": [
    {
     "data": {
      "text/plain": [
       "-           30285\n",
       "Sin dato     4149\n",
       "Ilegible     2922\n",
       "374           558\n",
       "381           548\n",
       "Name: TOTAL_VOTOS_ASENTADO, dtype: int64"
      ]
     },
     "execution_count": 476,
     "metadata": {},
     "output_type": "execute_result"
    }
   ],
   "source": [
    "df_copy.TOTAL_VOTOS_ASENTADO.value_counts().head()"
   ]
  },
  {
   "cell_type": "code",
   "execution_count": 477,
   "metadata": {},
   "outputs": [
    {
     "data": {
      "text/plain": [
       "-1     37356\n",
       "374      558\n",
       "381      548\n",
       "398      547\n",
       "364      546\n",
       "Name: TOTAL_VOTOS_ASENTADO, dtype: int64"
      ]
     },
     "execution_count": 477,
     "metadata": {},
     "output_type": "execute_result"
    }
   ],
   "source": [
    "df_copy.TOTAL_VOTOS_ASENTADO.replace({'Sin dato': -1,\n",
    "                                        'Ilegible': -1,\n",
    "                                        '-':-1}, inplace=True)\n",
    "df_copy.TOTAL_VOTOS_ASENTADO.value_counts().head()"
   ]
  },
  {
   "cell_type": "code",
   "execution_count": 478,
   "metadata": {},
   "outputs": [
    {
     "data": {
      "text/plain": [
       "363"
      ]
     },
     "execution_count": 478,
     "metadata": {},
     "output_type": "execute_result"
    }
   ],
   "source": [
    "# se encuentra el promedio de los valores mayores a -1\n",
    "df_copy.TOTAL_VOTOS_ASENTADO = df_copy.TOTAL_VOTOS_ASENTADO.astype('int64')\n",
    "TOTAL_VOTOS_ASENTADO_mean = df_copy.TOTAL_VOTOS_ASENTADO[df_copy.TOTAL_VOTOS_ASENTADO > -1].mean()\n",
    "TOTAL_VOTOS_ASENTADO_mean = round(TOTAL_VOTOS_ASENTADO_mean)\n",
    "TOTAL_VOTOS_ASENTADO_mean"
   ]
  },
  {
   "cell_type": "code",
   "execution_count": 479,
   "metadata": {},
   "outputs": [
    {
     "data": {
      "text/plain": [
       "363    37829\n",
       "374      558\n",
       "381      548\n",
       "398      547\n",
       "364      546\n",
       "Name: TOTAL_VOTOS_ASENTADO, dtype: int64"
      ]
     },
     "execution_count": 479,
     "metadata": {},
     "output_type": "execute_result"
    }
   ],
   "source": [
    "df_copy.TOTAL_VOTOS_ASENTADO.replace({-1: TOTAL_VOTOS_ASENTADO_mean}, inplace=True)\n",
    "df_copy.TOTAL_VOTOS_ASENTADO = df_copy.TOTAL_VOTOS_ASENTADO.astype('int64')\n",
    "df_copy.TOTAL_VOTOS_ASENTADO.value_counts().head()"
   ]
  },
  {
   "cell_type": "markdown",
   "metadata": {},
   "source": [
    "`TOTAL_VOTOS_CALCULADO` - Suma de los votos asentados en las actas PREP, para: los partidos políticos, combinaciones de estos, candidatos independientes, votos para candidatos no registrados y votos nulos. El total de votos se calcula mediante la suma que realiza automáticamente el sistema informático del PREP."
   ]
  },
  {
   "cell_type": "code",
   "execution_count": 480,
   "metadata": {},
   "outputs": [
    {
     "data": {
      "text/plain": [
       "-      30285\n",
       "0       2188\n",
       "364      577\n",
       "386      576\n",
       "398      565\n",
       "Name: TOTAL_VOTOS_CALCULADO, dtype: int64"
      ]
     },
     "execution_count": 480,
     "metadata": {},
     "output_type": "execute_result"
    }
   ],
   "source": [
    "df_copy.TOTAL_VOTOS_CALCULADO.value_counts().head()"
   ]
  },
  {
   "cell_type": "code",
   "execution_count": 481,
   "metadata": {},
   "outputs": [
    {
     "data": {
      "text/plain": [
       "-1     30285\n",
       "0       2188\n",
       "364      577\n",
       "386      576\n",
       "398      565\n",
       "Name: TOTAL_VOTOS_CALCULADO, dtype: int64"
      ]
     },
     "execution_count": 481,
     "metadata": {},
     "output_type": "execute_result"
    }
   ],
   "source": [
    "df_copy.TOTAL_VOTOS_CALCULADO.replace({'Sin dato': -1,\n",
    "                                        'Ilegible': -1,\n",
    "                                        '-':-1}, inplace=True)\n",
    "df_copy.TOTAL_VOTOS_CALCULADO.value_counts().head()"
   ]
  },
  {
   "cell_type": "code",
   "execution_count": 482,
   "metadata": {},
   "outputs": [
    {
     "data": {
      "text/plain": [
       "357"
      ]
     },
     "execution_count": 482,
     "metadata": {},
     "output_type": "execute_result"
    }
   ],
   "source": [
    "# se encuentra el promedio de los valores mayores a -1\n",
    "df_copy.TOTAL_VOTOS_CALCULADO = df_copy.TOTAL_VOTOS_CALCULADO.astype('int64')\n",
    "TOTAL_VOTOS_CALCULADO_mean = df_copy.TOTAL_VOTOS_CALCULADO[df_copy.TOTAL_VOTOS_CALCULADO > -1].mean()\n",
    "TOTAL_VOTOS_CALCULADO_mean = round(TOTAL_VOTOS_CALCULADO_mean)\n",
    "TOTAL_VOTOS_CALCULADO_mean"
   ]
  },
  {
   "cell_type": "code",
   "execution_count": 483,
   "metadata": {},
   "outputs": [
    {
     "data": {
      "text/plain": [
       "357    30817\n",
       "0       2188\n",
       "364      577\n",
       "386      576\n",
       "398      565\n",
       "Name: TOTAL_VOTOS_CALCULADO, dtype: int64"
      ]
     },
     "execution_count": 483,
     "metadata": {},
     "output_type": "execute_result"
    }
   ],
   "source": [
    "df_copy.TOTAL_VOTOS_CALCULADO.replace({-1: TOTAL_VOTOS_CALCULADO_mean}, inplace=True)\n",
    "df_copy.TOTAL_VOTOS_CALCULADO = df_copy.TOTAL_VOTOS_CALCULADO.astype('int64')\n",
    "df_copy.TOTAL_VOTOS_CALCULADO.value_counts().head()"
   ]
  },
  {
   "cell_type": "markdown",
   "metadata": {},
   "source": [
    "## Número de votos por partido político\n",
    "* `PAN` - Número de votos para el Partido Acción Nacional\n",
    "* `PRI` - Número de votos para el Partido Revolucionario Institucional\n",
    "* `PRD` - Número de votos para el Partido de la Revolución Democrática\n",
    "* `PVEM` - Número de votos para el Partido Verde Ecologista de México\n",
    "* `PT` - Número de votos para el Partido del Trabajo\n",
    "* `MC` - Número de votos para Partido Movimiento Ciudadano\n",
    "* `PANAL` - Número de votos para Partido Nueva Alianza\n",
    "* `MORENA` - Número de votos para Partido Morena\n",
    "* `PES` - Número de votos para Partido Encuentro Social"
   ]
  },
  {
   "cell_type": "markdown",
   "metadata": {},
   "source": [
    "`PAN` - Número de votos para el Partido Acción Nacional"
   ]
  },
  {
   "cell_type": "code",
   "execution_count": 484,
   "metadata": {},
   "outputs": [
    {
     "data": {
      "text/plain": [
       "-           30285\n",
       "Ilegible     2102\n",
       "34           1527\n",
       "36           1514\n",
       "40           1513\n",
       "Name: PAN, dtype: int64"
      ]
     },
     "execution_count": 484,
     "metadata": {},
     "output_type": "execute_result"
    }
   ],
   "source": [
    "df_copy.PAN.value_counts().head()"
   ]
  },
  {
   "cell_type": "code",
   "execution_count": 485,
   "metadata": {},
   "outputs": [
    {
     "data": {
      "text/plain": [
       "-1    33104\n",
       "34     1527\n",
       "36     1514\n",
       "40     1513\n",
       "38     1501\n",
       "Name: PAN, dtype: int64"
      ]
     },
     "execution_count": 485,
     "metadata": {},
     "output_type": "execute_result"
    }
   ],
   "source": [
    "df_copy.PAN.replace({'Sin dato': -1,\n",
    "                     'Ilegible': -1,\n",
    "                     '-':-1}, inplace=True)\n",
    "df_copy.PAN.value_counts().head()"
   ]
  },
  {
   "cell_type": "code",
   "execution_count": 486,
   "metadata": {},
   "outputs": [
    {
     "data": {
      "text/plain": [
       "64"
      ]
     },
     "execution_count": 486,
     "metadata": {},
     "output_type": "execute_result"
    }
   ],
   "source": [
    "# se encuentra el promedio de los valores mayores a -1\n",
    "df_copy.PAN = df_copy.PAN.astype('int64')\n",
    "PAN_mean = df_copy.PAN[df_copy.PAN > -1].mean()\n",
    "PAN_mean = round(PAN_mean)\n",
    "PAN_mean"
   ]
  },
  {
   "cell_type": "code",
   "execution_count": 487,
   "metadata": {},
   "outputs": [
    {
     "data": {
      "text/plain": [
       "64    34122\n",
       "34     1527\n",
       "36     1514\n",
       "40     1513\n",
       "38     1501\n",
       "Name: PAN, dtype: int64"
      ]
     },
     "execution_count": 487,
     "metadata": {},
     "output_type": "execute_result"
    }
   ],
   "source": [
    "df_copy.PAN.replace({-1: PAN_mean}, inplace=True)\n",
    "df_copy.PAN = df_copy.PAN.astype('int64')\n",
    "df_copy.PAN.value_counts().head()"
   ]
  },
  {
   "cell_type": "markdown",
   "metadata": {},
   "source": [
    "`PRI` - Número de votos para el Partido Revolucionario Institucional"
   ]
  },
  {
   "cell_type": "code",
   "execution_count": 488,
   "metadata": {},
   "outputs": [
    {
     "data": {
      "text/plain": [
       "-     30285\n",
       "29     2401\n",
       "34     2392\n",
       "32     2375\n",
       "36     2361\n",
       "Name: PRI, dtype: int64"
      ]
     },
     "execution_count": 488,
     "metadata": {},
     "output_type": "execute_result"
    }
   ],
   "source": [
    "df_copy.PRI.value_counts().head()"
   ]
  },
  {
   "cell_type": "code",
   "execution_count": 489,
   "metadata": {},
   "outputs": [
    {
     "data": {
      "text/plain": [
       "-1    33012\n",
       "29     2401\n",
       "34     2392\n",
       "32     2375\n",
       "36     2361\n",
       "Name: PRI, dtype: int64"
      ]
     },
     "execution_count": 489,
     "metadata": {},
     "output_type": "execute_result"
    }
   ],
   "source": [
    "df_copy.PRI.replace({'Sin dato': -1,\n",
    "                     'Ilegible': -1,\n",
    "                     '-':-1}, inplace=True)\n",
    "df_copy.PRI.value_counts().head()"
   ]
  },
  {
   "cell_type": "code",
   "execution_count": 490,
   "metadata": {},
   "outputs": [
    {
     "data": {
      "text/plain": [
       "48"
      ]
     },
     "execution_count": 490,
     "metadata": {},
     "output_type": "execute_result"
    }
   ],
   "source": [
    "# se encuentra el promedio de los valores mayores a -1\n",
    "df_copy.PRI = df_copy.PRI.astype('int64')\n",
    "PRI_mean = df_copy.PRI[df_copy.PRI > -1].mean()\n",
    "PRI_mean = round(PRI_mean)\n",
    "PRI_mean"
   ]
  },
  {
   "cell_type": "code",
   "execution_count": 491,
   "metadata": {},
   "outputs": [
    {
     "data": {
      "text/plain": [
       "48    34761\n",
       "29     2401\n",
       "34     2392\n",
       "32     2375\n",
       "36     2361\n",
       "Name: PRI, dtype: int64"
      ]
     },
     "execution_count": 491,
     "metadata": {},
     "output_type": "execute_result"
    }
   ],
   "source": [
    "df_copy.PRI.replace({-1: PRI_mean}, inplace=True)\n",
    "df_copy.PRI = df_copy.PRI.astype('int64')\n",
    "df_copy.PRI.value_counts().head()"
   ]
  },
  {
   "cell_type": "markdown",
   "metadata": {},
   "source": [
    "`PRD` - Número de votos para el Partido de la Revolución Democrática"
   ]
  },
  {
   "cell_type": "code",
   "execution_count": 492,
   "metadata": {},
   "outputs": [
    {
     "data": {
      "text/plain": [
       "-    30285\n",
       "2    16921\n",
       "1    16749\n",
       "3    14008\n",
       "0    10660\n",
       "Name: PRD, dtype: int64"
      ]
     },
     "execution_count": 492,
     "metadata": {},
     "output_type": "execute_result"
    }
   ],
   "source": [
    "df_copy.PRD.value_counts().head()"
   ]
  },
  {
   "cell_type": "code",
   "execution_count": 493,
   "metadata": {},
   "outputs": [
    {
     "data": {
      "text/plain": [
       "-1    34451\n",
       "2     16921\n",
       "1     16749\n",
       "3     14008\n",
       "0     10660\n",
       "Name: PRD, dtype: int64"
      ]
     },
     "execution_count": 493,
     "metadata": {},
     "output_type": "execute_result"
    }
   ],
   "source": [
    "df_copy.PRD.replace({'Sin dato': -1,\n",
    "                     'Ilegible': -1,\n",
    "                     '-':-1}, inplace=True)\n",
    "df_copy.PRD.value_counts().head()"
   ]
  },
  {
   "cell_type": "code",
   "execution_count": 494,
   "metadata": {},
   "outputs": [
    {
     "data": {
      "text/plain": [
       "10"
      ]
     },
     "execution_count": 494,
     "metadata": {},
     "output_type": "execute_result"
    }
   ],
   "source": [
    "# se encuentra el promedio de los valores mayores a -1\n",
    "df_copy.PRD = df_copy.PRD.astype('int64')\n",
    "PRD_mean = df_copy.PRD[df_copy.PRD > -1].mean()\n",
    "PRD_mean = round(PRD_mean)\n",
    "PRD_mean"
   ]
  },
  {
   "cell_type": "code",
   "execution_count": 495,
   "metadata": {},
   "outputs": [
    {
     "data": {
      "text/plain": [
       "10    36898\n",
       "2     16921\n",
       "1     16749\n",
       "3     14008\n",
       "0     10660\n",
       "Name: PRD, dtype: int64"
      ]
     },
     "execution_count": 495,
     "metadata": {},
     "output_type": "execute_result"
    }
   ],
   "source": [
    "df_copy.PRD.replace({-1: PRD_mean}, inplace=True)\n",
    "df_copy.PRD = df_copy.PRD.astype('int64')\n",
    "df_copy.PRD.value_counts().head()"
   ]
  },
  {
   "cell_type": "markdown",
   "metadata": {},
   "source": [
    "`PVEM` - Número de votos para el Partido Verde Ecologista de México"
   ]
  },
  {
   "cell_type": "code",
   "execution_count": 496,
   "metadata": {},
   "outputs": [
    {
     "data": {
      "text/plain": [
       "-    30285\n",
       "1    23295\n",
       "2    21728\n",
       "3    16730\n",
       "0    15941\n",
       "Name: PVEM, dtype: int64"
      ]
     },
     "execution_count": 496,
     "metadata": {},
     "output_type": "execute_result"
    }
   ],
   "source": [
    "df_copy.PVEM.value_counts().head()"
   ]
  },
  {
   "cell_type": "code",
   "execution_count": 497,
   "metadata": {},
   "outputs": [
    {
     "data": {
      "text/plain": [
       "-1    34789\n",
       "1     23295\n",
       "2     21728\n",
       "3     16730\n",
       "0     15941\n",
       "Name: PVEM, dtype: int64"
      ]
     },
     "execution_count": 497,
     "metadata": {},
     "output_type": "execute_result"
    }
   ],
   "source": [
    "df_copy.PVEM.replace({'Sin dato': -1,\n",
    "                      'Ilegible': -1,\n",
    "                      '-':-1}, inplace=True)\n",
    "df_copy.PVEM.value_counts().head()"
   ]
  },
  {
   "cell_type": "code",
   "execution_count": 498,
   "metadata": {},
   "outputs": [
    {
     "data": {
      "text/plain": [
       "6"
      ]
     },
     "execution_count": 498,
     "metadata": {},
     "output_type": "execute_result"
    }
   ],
   "source": [
    "# se encuentra el promedio de los valores mayores a -1\n",
    "df_copy.PVEM = df_copy.PVEM.astype('int64')\n",
    "PVEM_mean = df_copy.PVEM[df_copy.PVEM > -1].mean()\n",
    "PVEM_mean = round(PVEM_mean)\n",
    "PVEM_mean"
   ]
  },
  {
   "cell_type": "code",
   "execution_count": 499,
   "metadata": {},
   "outputs": [
    {
     "data": {
      "text/plain": [
       "6    39741\n",
       "1    23295\n",
       "2    21728\n",
       "3    16730\n",
       "0    15941\n",
       "Name: PVEM, dtype: int64"
      ]
     },
     "execution_count": 499,
     "metadata": {},
     "output_type": "execute_result"
    }
   ],
   "source": [
    "df_copy.PVEM.replace({-1: PVEM_mean}, inplace=True)\n",
    "df_copy.PVEM = df_copy.PVEM.astype('int64')\n",
    "df_copy.PVEM.value_counts().head()"
   ]
  },
  {
   "cell_type": "markdown",
   "metadata": {},
   "source": [
    "`PT` - Número de votos para el Partido del Trabajo"
   ]
  },
  {
   "cell_type": "code",
   "execution_count": 500,
   "metadata": {},
   "outputs": [
    {
     "data": {
      "text/plain": [
       "-     30285\n",
       "12     6048\n",
       "13     6014\n",
       "14     5895\n",
       "11     5848\n",
       "Name: PT, dtype: int64"
      ]
     },
     "execution_count": 500,
     "metadata": {},
     "output_type": "execute_result"
    }
   ],
   "source": [
    "df_copy.PT.value_counts().head()"
   ]
  },
  {
   "cell_type": "code",
   "execution_count": 501,
   "metadata": {},
   "outputs": [
    {
     "data": {
      "text/plain": [
       "-1    33764\n",
       "12     6048\n",
       "13     6014\n",
       "14     5895\n",
       "11     5848\n",
       "Name: PT, dtype: int64"
      ]
     },
     "execution_count": 501,
     "metadata": {},
     "output_type": "execute_result"
    }
   ],
   "source": [
    "df_copy.PT.replace({'Sin dato': -1,\n",
    "                    'Ilegible': -1,\n",
    "                    '-':-1}, inplace=True)\n",
    "df_copy.PT.value_counts().head()"
   ]
  },
  {
   "cell_type": "code",
   "execution_count": 502,
   "metadata": {},
   "outputs": [
    {
     "data": {
      "text/plain": [
       "18"
      ]
     },
     "execution_count": 502,
     "metadata": {},
     "output_type": "execute_result"
    }
   ],
   "source": [
    "# se encuentra el promedio de los valores mayores a -1\n",
    "df_copy.PT = df_copy.PT.astype('int64')\n",
    "PT_mean = df_copy.PT[df_copy.PT > -1].mean()\n",
    "PT_mean = round(PT_mean)\n",
    "PT_mean"
   ]
  },
  {
   "cell_type": "code",
   "execution_count": 503,
   "metadata": {},
   "outputs": [
    {
     "data": {
      "text/plain": [
       "18    38516\n",
       "12     6048\n",
       "13     6014\n",
       "14     5895\n",
       "11     5848\n",
       "Name: PT, dtype: int64"
      ]
     },
     "execution_count": 503,
     "metadata": {},
     "output_type": "execute_result"
    }
   ],
   "source": [
    "df_copy.PT.replace({-1: PT_mean}, inplace=True)\n",
    "df_copy.PT = df_copy.PT.astype('int64')\n",
    "df_copy.PT.value_counts().head()"
   ]
  },
  {
   "cell_type": "markdown",
   "metadata": {},
   "source": [
    "`MC` - Número de votos para Partido Movimiento Ciudadano"
   ]
  },
  {
   "cell_type": "code",
   "execution_count": 504,
   "metadata": {},
   "outputs": [
    {
     "data": {
      "text/plain": [
       "-    30285\n",
       "2    22780\n",
       "1    21733\n",
       "3    18467\n",
       "0    13138\n",
       "Name: MC, dtype: int64"
      ]
     },
     "execution_count": 504,
     "metadata": {},
     "output_type": "execute_result"
    }
   ],
   "source": [
    "df_copy.MC.value_counts().head()"
   ]
  },
  {
   "cell_type": "code",
   "execution_count": 505,
   "metadata": {},
   "outputs": [
    {
     "data": {
      "text/plain": [
       "-1    34671\n",
       "2     22780\n",
       "1     21733\n",
       "3     18467\n",
       "0     13138\n",
       "Name: MC, dtype: int64"
      ]
     },
     "execution_count": 505,
     "metadata": {},
     "output_type": "execute_result"
    }
   ],
   "source": [
    "df_copy.MC.replace({'Sin dato': -1,\n",
    "                    'Ilegible': -1,\n",
    "                    '-':-1}, inplace=True)\n",
    "df_copy.MC.value_counts().head()"
   ]
  },
  {
   "cell_type": "code",
   "execution_count": 506,
   "metadata": {},
   "outputs": [
    {
     "data": {
      "text/plain": [
       "6"
      ]
     },
     "execution_count": 506,
     "metadata": {},
     "output_type": "execute_result"
    }
   ],
   "source": [
    "# se encuentra el promedio de los valores mayores a -1\n",
    "df_copy.MC = df_copy.MC.astype('int64')\n",
    "MC_mean = df_copy.MC[df_copy.MC > -1].mean()\n",
    "MC_mean = round(MC_mean)\n",
    "MC_mean"
   ]
  },
  {
   "cell_type": "code",
   "execution_count": 507,
   "metadata": {},
   "outputs": [
    {
     "data": {
      "text/plain": [
       "6    39988\n",
       "2    22780\n",
       "1    21733\n",
       "3    18467\n",
       "0    13138\n",
       "Name: MC, dtype: int64"
      ]
     },
     "execution_count": 507,
     "metadata": {},
     "output_type": "execute_result"
    }
   ],
   "source": [
    "df_copy.MC.replace({-1: MC_mean}, inplace=True)\n",
    "df_copy.MC = df_copy.MC.astype('int64')\n",
    "df_copy.MC.value_counts().head()"
   ]
  },
  {
   "cell_type": "markdown",
   "metadata": {},
   "source": [
    "`PANAL` - Número de votos para Partido Nueva Alianza"
   ]
  },
  {
   "cell_type": "code",
   "execution_count": 508,
   "metadata": {},
   "outputs": [
    {
     "data": {
      "text/plain": [
       "1    31098\n",
       "-    30285\n",
       "2    24635\n",
       "0    23485\n",
       "3    15964\n",
       "Name: PANAL, dtype: int64"
      ]
     },
     "execution_count": 508,
     "metadata": {},
     "output_type": "execute_result"
    }
   ],
   "source": [
    "df_copy.PANAL.value_counts().head()"
   ]
  },
  {
   "cell_type": "code",
   "execution_count": 509,
   "metadata": {},
   "outputs": [
    {
     "data": {
      "text/plain": [
       "-1    35321\n",
       "1     31098\n",
       "2     24635\n",
       "0     23485\n",
       "3     15964\n",
       "Name: PANAL, dtype: int64"
      ]
     },
     "execution_count": 509,
     "metadata": {},
     "output_type": "execute_result"
    }
   ],
   "source": [
    "df_copy.PANAL.replace({'Sin dato': -1,\n",
    "                       'Ilegible': -1,\n",
    "                       '-':-1}, inplace=True)\n",
    "df_copy.PANAL.value_counts().head()"
   ]
  },
  {
   "cell_type": "code",
   "execution_count": 510,
   "metadata": {},
   "outputs": [
    {
     "data": {
      "text/plain": [
       "4"
      ]
     },
     "execution_count": 510,
     "metadata": {},
     "output_type": "execute_result"
    }
   ],
   "source": [
    "# se encuentra el promedio de los valores mayores a -1\n",
    "df_copy.PANAL = df_copy.PANAL.astype('int64')\n",
    "PANAL_mean = df_copy.PANAL[df_copy.PANAL > -1].mean()\n",
    "PANAL_mean = round(PANAL_mean)\n",
    "PANAL_mean"
   ]
  },
  {
   "cell_type": "code",
   "execution_count": 511,
   "metadata": {},
   "outputs": [
    {
     "data": {
      "text/plain": [
       "4    44619\n",
       "1    31098\n",
       "2    24635\n",
       "0    23485\n",
       "3    15964\n",
       "Name: PANAL, dtype: int64"
      ]
     },
     "execution_count": 511,
     "metadata": {},
     "output_type": "execute_result"
    }
   ],
   "source": [
    "df_copy.PANAL.replace({-1: PANAL_mean}, inplace=True)\n",
    "df_copy.PANAL = df_copy.PANAL.astype('int64')\n",
    "df_copy.PANAL.value_counts().head()"
   ]
  },
  {
   "cell_type": "markdown",
   "metadata": {},
   "source": [
    "`MORENA` - Número de votos para Partido Morena"
   ]
  },
  {
   "cell_type": "code",
   "execution_count": 512,
   "metadata": {},
   "outputs": [
    {
     "data": {
      "text/plain": [
       "-           30285\n",
       "Ilegible     2275\n",
       "Sin dato      708\n",
       "148           647\n",
       "152           641\n",
       "Name: MORENA, dtype: int64"
      ]
     },
     "execution_count": 512,
     "metadata": {},
     "output_type": "execute_result"
    }
   ],
   "source": [
    "df_copy.MORENA.value_counts().head()"
   ]
  },
  {
   "cell_type": "code",
   "execution_count": 513,
   "metadata": {},
   "outputs": [
    {
     "data": {
      "text/plain": [
       "-1     33268\n",
       "148      647\n",
       "152      641\n",
       "193      636\n",
       "149      636\n",
       "Name: MORENA, dtype: int64"
      ]
     },
     "execution_count": 513,
     "metadata": {},
     "output_type": "execute_result"
    }
   ],
   "source": [
    "df_copy.MORENA.replace({'Sin dato': -1,\n",
    "                        'Ilegible': -1,\n",
    "                        '-':-1}, inplace=True)\n",
    "df_copy.MORENA.value_counts().head()"
   ]
  },
  {
   "cell_type": "code",
   "execution_count": 514,
   "metadata": {},
   "outputs": [
    {
     "data": {
      "text/plain": [
       "157"
      ]
     },
     "execution_count": 514,
     "metadata": {},
     "output_type": "execute_result"
    }
   ],
   "source": [
    "# se encuentra el promedio de los valores mayores a -1\n",
    "df_copy.MORENA = df_copy.MORENA.astype('int64')\n",
    "MORENA_mean = df_copy.MORENA[df_copy.MORENA > -1].mean()\n",
    "MORENA_mean = round(MORENA_mean)\n",
    "MORENA_mean"
   ]
  },
  {
   "cell_type": "code",
   "execution_count": 515,
   "metadata": {},
   "outputs": [
    {
     "data": {
      "text/plain": [
       "157    33860\n",
       "148      647\n",
       "152      641\n",
       "149      636\n",
       "193      636\n",
       "Name: MORENA, dtype: int64"
      ]
     },
     "execution_count": 515,
     "metadata": {},
     "output_type": "execute_result"
    }
   ],
   "source": [
    "df_copy.MORENA.replace({-1: MORENA_mean}, inplace=True)\n",
    "df_copy.MORENA = df_copy.MORENA.astype('int64')\n",
    "df_copy.MORENA.value_counts().head()"
   ]
  },
  {
   "cell_type": "markdown",
   "metadata": {},
   "source": [
    "`PES` - Número de votos para Partido Encuentro Social"
   ]
  },
  {
   "cell_type": "code",
   "execution_count": 516,
   "metadata": {},
   "outputs": [
    {
     "data": {
      "text/plain": [
       "157    33860\n",
       "148      647\n",
       "152      641\n",
       "149      636\n",
       "193      636\n",
       "Name: MORENA, dtype: int64"
      ]
     },
     "execution_count": 516,
     "metadata": {},
     "output_type": "execute_result"
    }
   ],
   "source": [
    "df_copy.MORENA.value_counts().head()"
   ]
  },
  {
   "cell_type": "code",
   "execution_count": 517,
   "metadata": {},
   "outputs": [],
   "source": [
    "list_selec_00 = ['ESTADO', 'DISTRITO_FEDERAL', 'TIPO_CASILLA', 'UBICACION_CASILLA']\n",
    "list_selec_01 = ['LISTA_NOMINAL', 'TOTAL_BOLETAS_SOBRANTES', 'TOTAL_VOTOS_SACADOS', 'TOTAL_PERSONAS_VOTARON', 'NO_REGISTRADOS', 'NULOS', 'TOTAL_VOTOS_ASENTADO', 'TOTAL_VOTOS_CALCULADO']\n",
    "list_select_02 = ['PAN', 'PRI', 'PRD', 'PVEM', 'PT', 'MC', 'PANAL', 'MORENA', 'PES','TOTAL_PERSONAS_VOTARON', 'TOTAL_VOTOS_ASENTADO', 'TOTAL_VOTOS_CALCULADO']"
   ]
  },
  {
   "cell_type": "code",
   "execution_count": 518,
   "metadata": {},
   "outputs": [
    {
     "data": {
      "text/html": [
       "<div>\n",
       "<style scoped>\n",
       "    .dataframe tbody tr th:only-of-type {\n",
       "        vertical-align: middle;\n",
       "    }\n",
       "\n",
       "    .dataframe tbody tr th {\n",
       "        vertical-align: top;\n",
       "    }\n",
       "\n",
       "    .dataframe thead th {\n",
       "        text-align: right;\n",
       "    }\n",
       "</style>\n",
       "<table border=\"1\" class=\"dataframe\">\n",
       "  <thead>\n",
       "    <tr style=\"text-align: right;\">\n",
       "      <th></th>\n",
       "      <th></th>\n",
       "      <th>PAN</th>\n",
       "      <th>PRI</th>\n",
       "      <th>PRD</th>\n",
       "      <th>PVEM</th>\n",
       "      <th>PT</th>\n",
       "      <th>MC</th>\n",
       "      <th>PANAL</th>\n",
       "      <th>MORENA</th>\n",
       "      <th>TOTAL_PERSONAS_VOTARON</th>\n",
       "      <th>TOTAL_VOTOS_ASENTADO</th>\n",
       "      <th>TOTAL_VOTOS_CALCULADO</th>\n",
       "    </tr>\n",
       "    <tr>\n",
       "      <th>ESTADO</th>\n",
       "      <th>DISTRITO_FEDERAL</th>\n",
       "      <th></th>\n",
       "      <th></th>\n",
       "      <th></th>\n",
       "      <th></th>\n",
       "      <th></th>\n",
       "      <th></th>\n",
       "      <th></th>\n",
       "      <th></th>\n",
       "      <th></th>\n",
       "      <th></th>\n",
       "      <th></th>\n",
       "    </tr>\n",
       "  </thead>\n",
       "  <tbody>\n",
       "    <tr>\n",
       "      <th rowspan=\"2\" valign=\"top\">AGUASCALIENTES</th>\n",
       "      <th>Aguascalientes</th>\n",
       "      <td>96</td>\n",
       "      <td>51</td>\n",
       "      <td>4</td>\n",
       "      <td>3</td>\n",
       "      <td>13</td>\n",
       "      <td>3</td>\n",
       "      <td>3</td>\n",
       "      <td>117</td>\n",
       "      <td>340</td>\n",
       "      <td>348</td>\n",
       "      <td>334</td>\n",
       "    </tr>\n",
       "    <tr>\n",
       "      <th>Jesús María</th>\n",
       "      <td>96</td>\n",
       "      <td>62</td>\n",
       "      <td>7</td>\n",
       "      <td>6</td>\n",
       "      <td>18</td>\n",
       "      <td>3</td>\n",
       "      <td>6</td>\n",
       "      <td>115</td>\n",
       "      <td>360</td>\n",
       "      <td>365</td>\n",
       "      <td>361</td>\n",
       "    </tr>\n",
       "    <tr>\n",
       "      <th rowspan=\"3\" valign=\"top\">BAJA CALIFORNIA</th>\n",
       "      <th>Ensenada</th>\n",
       "      <td>51</td>\n",
       "      <td>27</td>\n",
       "      <td>5</td>\n",
       "      <td>2</td>\n",
       "      <td>20</td>\n",
       "      <td>2</td>\n",
       "      <td>2</td>\n",
       "      <td>159</td>\n",
       "      <td>322</td>\n",
       "      <td>326</td>\n",
       "      <td>323</td>\n",
       "    </tr>\n",
       "    <tr>\n",
       "      <th>Mexicali</th>\n",
       "      <td>60</td>\n",
       "      <td>31</td>\n",
       "      <td>4</td>\n",
       "      <td>3</td>\n",
       "      <td>14</td>\n",
       "      <td>3</td>\n",
       "      <td>2</td>\n",
       "      <td>153</td>\n",
       "      <td>320</td>\n",
       "      <td>325</td>\n",
       "      <td>319</td>\n",
       "    </tr>\n",
       "    <tr>\n",
       "      <th>Tijuana</th>\n",
       "      <td>52</td>\n",
       "      <td>28</td>\n",
       "      <td>4</td>\n",
       "      <td>3</td>\n",
       "      <td>15</td>\n",
       "      <td>3</td>\n",
       "      <td>2</td>\n",
       "      <td>167</td>\n",
       "      <td>318</td>\n",
       "      <td>324</td>\n",
       "      <td>316</td>\n",
       "    </tr>\n",
       "    <tr>\n",
       "      <th rowspan=\"2\" valign=\"top\">BAJA CALIFORNIA SUR</th>\n",
       "      <th>La Paz</th>\n",
       "      <td>57</td>\n",
       "      <td>36</td>\n",
       "      <td>4</td>\n",
       "      <td>4</td>\n",
       "      <td>15</td>\n",
       "      <td>3</td>\n",
       "      <td>2</td>\n",
       "      <td>157</td>\n",
       "      <td>327</td>\n",
       "      <td>334</td>\n",
       "      <td>327</td>\n",
       "    </tr>\n",
       "    <tr>\n",
       "      <th>San José del Cabo</th>\n",
       "      <td>54</td>\n",
       "      <td>21</td>\n",
       "      <td>3</td>\n",
       "      <td>4</td>\n",
       "      <td>32</td>\n",
       "      <td>2</td>\n",
       "      <td>2</td>\n",
       "      <td>150</td>\n",
       "      <td>311</td>\n",
       "      <td>319</td>\n",
       "      <td>304</td>\n",
       "    </tr>\n",
       "    <tr>\n",
       "      <th rowspan=\"2\" valign=\"top\">CAMPECHE</th>\n",
       "      <th>Ciudad del Carmen</th>\n",
       "      <td>47</td>\n",
       "      <td>54</td>\n",
       "      <td>7</td>\n",
       "      <td>3</td>\n",
       "      <td>19</td>\n",
       "      <td>4</td>\n",
       "      <td>4</td>\n",
       "      <td>180</td>\n",
       "      <td>363</td>\n",
       "      <td>368</td>\n",
       "      <td>366</td>\n",
       "    </tr>\n",
       "    <tr>\n",
       "      <th>San Francisco de Campeche</th>\n",
       "      <td>48</td>\n",
       "      <td>69</td>\n",
       "      <td>5</td>\n",
       "      <td>4</td>\n",
       "      <td>25</td>\n",
       "      <td>4</td>\n",
       "      <td>4</td>\n",
       "      <td>174</td>\n",
       "      <td>382</td>\n",
       "      <td>387</td>\n",
       "      <td>384</td>\n",
       "    </tr>\n",
       "    <tr>\n",
       "      <th rowspan=\"12\" valign=\"top\">CHIAPAS</th>\n",
       "      <th>Bochil</th>\n",
       "      <td>35</td>\n",
       "      <td>70</td>\n",
       "      <td>12</td>\n",
       "      <td>40</td>\n",
       "      <td>25</td>\n",
       "      <td>7</td>\n",
       "      <td>5</td>\n",
       "      <td>143</td>\n",
       "      <td>387</td>\n",
       "      <td>393</td>\n",
       "      <td>385</td>\n",
       "    </tr>\n",
       "    <tr>\n",
       "      <th>Comitán de Domínguez</th>\n",
       "      <td>27</td>\n",
       "      <td>51</td>\n",
       "      <td>6</td>\n",
       "      <td>33</td>\n",
       "      <td>28</td>\n",
       "      <td>5</td>\n",
       "      <td>7</td>\n",
       "      <td>178</td>\n",
       "      <td>393</td>\n",
       "      <td>397</td>\n",
       "      <td>393</td>\n",
       "    </tr>\n",
       "    <tr>\n",
       "      <th>Huehuetán</th>\n",
       "      <td>27</td>\n",
       "      <td>49</td>\n",
       "      <td>10</td>\n",
       "      <td>23</td>\n",
       "      <td>36</td>\n",
       "      <td>5</td>\n",
       "      <td>7</td>\n",
       "      <td>151</td>\n",
       "      <td>359</td>\n",
       "      <td>366</td>\n",
       "      <td>366</td>\n",
       "    </tr>\n",
       "    <tr>\n",
       "      <th>Las Margaritas</th>\n",
       "      <td>18</td>\n",
       "      <td>47</td>\n",
       "      <td>40</td>\n",
       "      <td>72</td>\n",
       "      <td>23</td>\n",
       "      <td>4</td>\n",
       "      <td>4</td>\n",
       "      <td>110</td>\n",
       "      <td>364</td>\n",
       "      <td>368</td>\n",
       "      <td>370</td>\n",
       "    </tr>\n",
       "    <tr>\n",
       "      <th>Ocosingo</th>\n",
       "      <td>25</td>\n",
       "      <td>37</td>\n",
       "      <td>5</td>\n",
       "      <td>48</td>\n",
       "      <td>20</td>\n",
       "      <td>8</td>\n",
       "      <td>10</td>\n",
       "      <td>158</td>\n",
       "      <td>358</td>\n",
       "      <td>363</td>\n",
       "      <td>363</td>\n",
       "    </tr>\n",
       "    <tr>\n",
       "      <th>Palenque</th>\n",
       "      <td>29</td>\n",
       "      <td>36</td>\n",
       "      <td>6</td>\n",
       "      <td>42</td>\n",
       "      <td>26</td>\n",
       "      <td>7</td>\n",
       "      <td>7</td>\n",
       "      <td>185</td>\n",
       "      <td>399</td>\n",
       "      <td>401</td>\n",
       "      <td>403</td>\n",
       "    </tr>\n",
       "    <tr>\n",
       "      <th>Pichucalco</th>\n",
       "      <td>36</td>\n",
       "      <td>41</td>\n",
       "      <td>7</td>\n",
       "      <td>22</td>\n",
       "      <td>23</td>\n",
       "      <td>6</td>\n",
       "      <td>5</td>\n",
       "      <td>190</td>\n",
       "      <td>379</td>\n",
       "      <td>388</td>\n",
       "      <td>377</td>\n",
       "    </tr>\n",
       "    <tr>\n",
       "      <th>San Cristóbal de las Casas</th>\n",
       "      <td>25</td>\n",
       "      <td>74</td>\n",
       "      <td>8</td>\n",
       "      <td>21</td>\n",
       "      <td>21</td>\n",
       "      <td>5</td>\n",
       "      <td>4</td>\n",
       "      <td>191</td>\n",
       "      <td>391</td>\n",
       "      <td>399</td>\n",
       "      <td>399</td>\n",
       "    </tr>\n",
       "    <tr>\n",
       "      <th>Tapachula</th>\n",
       "      <td>31</td>\n",
       "      <td>36</td>\n",
       "      <td>4</td>\n",
       "      <td>12</td>\n",
       "      <td>18</td>\n",
       "      <td>3</td>\n",
       "      <td>3</td>\n",
       "      <td>203</td>\n",
       "      <td>357</td>\n",
       "      <td>362</td>\n",
       "      <td>363</td>\n",
       "    </tr>\n",
       "    <tr>\n",
       "      <th>Tonalá</th>\n",
       "      <td>35</td>\n",
       "      <td>37</td>\n",
       "      <td>6</td>\n",
       "      <td>17</td>\n",
       "      <td>23</td>\n",
       "      <td>4</td>\n",
       "      <td>5</td>\n",
       "      <td>183</td>\n",
       "      <td>354</td>\n",
       "      <td>361</td>\n",
       "      <td>360</td>\n",
       "    </tr>\n",
       "    <tr>\n",
       "      <th>Tuxtla Gutiérrez</th>\n",
       "      <td>30</td>\n",
       "      <td>28</td>\n",
       "      <td>6</td>\n",
       "      <td>9</td>\n",
       "      <td>20</td>\n",
       "      <td>5</td>\n",
       "      <td>3</td>\n",
       "      <td>225</td>\n",
       "      <td>375</td>\n",
       "      <td>384</td>\n",
       "      <td>380</td>\n",
       "    </tr>\n",
       "    <tr>\n",
       "      <th>Villaflores</th>\n",
       "      <td>30</td>\n",
       "      <td>41</td>\n",
       "      <td>5</td>\n",
       "      <td>33</td>\n",
       "      <td>25</td>\n",
       "      <td>6</td>\n",
       "      <td>7</td>\n",
       "      <td>180</td>\n",
       "      <td>380</td>\n",
       "      <td>384</td>\n",
       "      <td>383</td>\n",
       "    </tr>\n",
       "    <tr>\n",
       "      <th rowspan=\"5\" valign=\"top\">CHIHUAHUA</th>\n",
       "      <th>Chihuahua</th>\n",
       "      <td>106</td>\n",
       "      <td>39</td>\n",
       "      <td>4</td>\n",
       "      <td>3</td>\n",
       "      <td>13</td>\n",
       "      <td>3</td>\n",
       "      <td>2</td>\n",
       "      <td>110</td>\n",
       "      <td>336</td>\n",
       "      <td>340</td>\n",
       "      <td>330</td>\n",
       "    </tr>\n",
       "    <tr>\n",
       "      <th>Cuauhtémoc</th>\n",
       "      <td>57</td>\n",
       "      <td>42</td>\n",
       "      <td>5</td>\n",
       "      <td>4</td>\n",
       "      <td>15</td>\n",
       "      <td>6</td>\n",
       "      <td>3</td>\n",
       "      <td>115</td>\n",
       "      <td>292</td>\n",
       "      <td>299</td>\n",
       "      <td>282</td>\n",
       "    </tr>\n",
       "    <tr>\n",
       "      <th>Delicias</th>\n",
       "      <td>76</td>\n",
       "      <td>45</td>\n",
       "      <td>5</td>\n",
       "      <td>3</td>\n",
       "      <td>19</td>\n",
       "      <td>3</td>\n",
       "      <td>6</td>\n",
       "      <td>112</td>\n",
       "      <td>315</td>\n",
       "      <td>322</td>\n",
       "      <td>305</td>\n",
       "    </tr>\n",
       "    <tr>\n",
       "      <th>Hidalgo del Parral</th>\n",
       "      <td>68</td>\n",
       "      <td>62</td>\n",
       "      <td>6</td>\n",
       "      <td>5</td>\n",
       "      <td>15</td>\n",
       "      <td>4</td>\n",
       "      <td>3</td>\n",
       "      <td>100</td>\n",
       "      <td>314</td>\n",
       "      <td>320</td>\n",
       "      <td>335</td>\n",
       "    </tr>\n",
       "    <tr>\n",
       "      <th>Juárez</th>\n",
       "      <td>53</td>\n",
       "      <td>36</td>\n",
       "      <td>5</td>\n",
       "      <td>4</td>\n",
       "      <td>16</td>\n",
       "      <td>4</td>\n",
       "      <td>3</td>\n",
       "      <td>123</td>\n",
       "      <td>297</td>\n",
       "      <td>302</td>\n",
       "      <td>292</td>\n",
       "    </tr>\n",
       "    <tr>\n",
       "      <th rowspan=\"4\" valign=\"top\">CIUDAD DE MÉXICO</th>\n",
       "      <th>Azcapotzalco</th>\n",
       "      <td>72</td>\n",
       "      <td>42</td>\n",
       "      <td>9</td>\n",
       "      <td>2</td>\n",
       "      <td>13</td>\n",
       "      <td>3</td>\n",
       "      <td>2</td>\n",
       "      <td>188</td>\n",
       "      <td>387</td>\n",
       "      <td>392</td>\n",
       "      <td>386</td>\n",
       "    </tr>\n",
       "    <tr>\n",
       "      <th>Benito Juárez</th>\n",
       "      <td>152</td>\n",
       "      <td>62</td>\n",
       "      <td>3</td>\n",
       "      <td>2</td>\n",
       "      <td>8</td>\n",
       "      <td>2</td>\n",
       "      <td>2</td>\n",
       "      <td>156</td>\n",
       "      <td>431</td>\n",
       "      <td>438</td>\n",
       "      <td>431</td>\n",
       "    </tr>\n",
       "    <tr>\n",
       "      <th>Coyoacán</th>\n",
       "      <td>83</td>\n",
       "      <td>47</td>\n",
       "      <td>23</td>\n",
       "      <td>2</td>\n",
       "      <td>13</td>\n",
       "      <td>2</td>\n",
       "      <td>2</td>\n",
       "      <td>194</td>\n",
       "      <td>421</td>\n",
       "      <td>423</td>\n",
       "      <td>415</td>\n",
       "    </tr>\n",
       "    <tr>\n",
       "      <th>Cuajimalpa de Morelos</th>\n",
       "      <td>101</td>\n",
       "      <td>54</td>\n",
       "      <td>16</td>\n",
       "      <td>2</td>\n",
       "      <td>15</td>\n",
       "      <td>3</td>\n",
       "      <td>1</td>\n",
       "      <td>183</td>\n",
       "      <td>432</td>\n",
       "      <td>436</td>\n",
       "      <td>433</td>\n",
       "    </tr>\n",
       "    <tr>\n",
       "      <th>...</th>\n",
       "      <th>...</th>\n",
       "      <td>...</td>\n",
       "      <td>...</td>\n",
       "      <td>...</td>\n",
       "      <td>...</td>\n",
       "      <td>...</td>\n",
       "      <td>...</td>\n",
       "      <td>...</td>\n",
       "      <td>...</td>\n",
       "      <td>...</td>\n",
       "      <td>...</td>\n",
       "      <td>...</td>\n",
       "    </tr>\n",
       "    <tr>\n",
       "      <th>TAMAULIPAS</th>\n",
       "      <th>Tampico</th>\n",
       "      <td>93</td>\n",
       "      <td>39</td>\n",
       "      <td>4</td>\n",
       "      <td>3</td>\n",
       "      <td>16</td>\n",
       "      <td>2</td>\n",
       "      <td>2</td>\n",
       "      <td>158</td>\n",
       "      <td>368</td>\n",
       "      <td>375</td>\n",
       "      <td>370</td>\n",
       "    </tr>\n",
       "    <tr>\n",
       "      <th rowspan=\"3\" valign=\"top\">TLAXCALA</th>\n",
       "      <th>Apizaco</th>\n",
       "      <td>42</td>\n",
       "      <td>48</td>\n",
       "      <td>4</td>\n",
       "      <td>3</td>\n",
       "      <td>26</td>\n",
       "      <td>3</td>\n",
       "      <td>2</td>\n",
       "      <td>188</td>\n",
       "      <td>367</td>\n",
       "      <td>375</td>\n",
       "      <td>372</td>\n",
       "    </tr>\n",
       "    <tr>\n",
       "      <th>Tlaxcala de Xicohténcatl</th>\n",
       "      <td>40</td>\n",
       "      <td>44</td>\n",
       "      <td>6</td>\n",
       "      <td>3</td>\n",
       "      <td>23</td>\n",
       "      <td>3</td>\n",
       "      <td>3</td>\n",
       "      <td>229</td>\n",
       "      <td>398</td>\n",
       "      <td>408</td>\n",
       "      <td>405</td>\n",
       "    </tr>\n",
       "    <tr>\n",
       "      <th>Zacatelco</th>\n",
       "      <td>33</td>\n",
       "      <td>37</td>\n",
       "      <td>5</td>\n",
       "      <td>2</td>\n",
       "      <td>25</td>\n",
       "      <td>3</td>\n",
       "      <td>3</td>\n",
       "      <td>220</td>\n",
       "      <td>381</td>\n",
       "      <td>384</td>\n",
       "      <td>379</td>\n",
       "    </tr>\n",
       "    <tr>\n",
       "      <th rowspan=\"18\" valign=\"top\">VERACRUZ</th>\n",
       "      <th>Coatepec</th>\n",
       "      <td>95</td>\n",
       "      <td>51</td>\n",
       "      <td>12</td>\n",
       "      <td>2</td>\n",
       "      <td>11</td>\n",
       "      <td>3</td>\n",
       "      <td>2</td>\n",
       "      <td>163</td>\n",
       "      <td>379</td>\n",
       "      <td>384</td>\n",
       "      <td>385</td>\n",
       "    </tr>\n",
       "    <tr>\n",
       "      <th>Coatzacoalcos</th>\n",
       "      <td>41</td>\n",
       "      <td>29</td>\n",
       "      <td>4</td>\n",
       "      <td>1</td>\n",
       "      <td>8</td>\n",
       "      <td>2</td>\n",
       "      <td>3</td>\n",
       "      <td>223</td>\n",
       "      <td>343</td>\n",
       "      <td>353</td>\n",
       "      <td>346</td>\n",
       "    </tr>\n",
       "    <tr>\n",
       "      <th>Cosamaloapan</th>\n",
       "      <td>75</td>\n",
       "      <td>34</td>\n",
       "      <td>11</td>\n",
       "      <td>2</td>\n",
       "      <td>12</td>\n",
       "      <td>3</td>\n",
       "      <td>2</td>\n",
       "      <td>160</td>\n",
       "      <td>335</td>\n",
       "      <td>339</td>\n",
       "      <td>338</td>\n",
       "    </tr>\n",
       "    <tr>\n",
       "      <th>Cosoleacaque</th>\n",
       "      <td>51</td>\n",
       "      <td>42</td>\n",
       "      <td>11</td>\n",
       "      <td>2</td>\n",
       "      <td>11</td>\n",
       "      <td>4</td>\n",
       "      <td>2</td>\n",
       "      <td>199</td>\n",
       "      <td>354</td>\n",
       "      <td>358</td>\n",
       "      <td>361</td>\n",
       "    </tr>\n",
       "    <tr>\n",
       "      <th>Córdoba</th>\n",
       "      <td>73</td>\n",
       "      <td>41</td>\n",
       "      <td>5</td>\n",
       "      <td>2</td>\n",
       "      <td>11</td>\n",
       "      <td>3</td>\n",
       "      <td>2</td>\n",
       "      <td>198</td>\n",
       "      <td>377</td>\n",
       "      <td>383</td>\n",
       "      <td>378</td>\n",
       "    </tr>\n",
       "    <tr>\n",
       "      <th>Huatusco</th>\n",
       "      <td>88</td>\n",
       "      <td>42</td>\n",
       "      <td>7</td>\n",
       "      <td>4</td>\n",
       "      <td>11</td>\n",
       "      <td>3</td>\n",
       "      <td>2</td>\n",
       "      <td>157</td>\n",
       "      <td>349</td>\n",
       "      <td>355</td>\n",
       "      <td>354</td>\n",
       "    </tr>\n",
       "    <tr>\n",
       "      <th>Martínez de la Torre</th>\n",
       "      <td>65</td>\n",
       "      <td>38</td>\n",
       "      <td>7</td>\n",
       "      <td>4</td>\n",
       "      <td>10</td>\n",
       "      <td>7</td>\n",
       "      <td>2</td>\n",
       "      <td>160</td>\n",
       "      <td>328</td>\n",
       "      <td>335</td>\n",
       "      <td>332</td>\n",
       "    </tr>\n",
       "    <tr>\n",
       "      <th>Minatitlán</th>\n",
       "      <td>54</td>\n",
       "      <td>31</td>\n",
       "      <td>8</td>\n",
       "      <td>2</td>\n",
       "      <td>12</td>\n",
       "      <td>3</td>\n",
       "      <td>2</td>\n",
       "      <td>179</td>\n",
       "      <td>324</td>\n",
       "      <td>330</td>\n",
       "      <td>330</td>\n",
       "    </tr>\n",
       "    <tr>\n",
       "      <th>Orizaba</th>\n",
       "      <td>72</td>\n",
       "      <td>37</td>\n",
       "      <td>12</td>\n",
       "      <td>4</td>\n",
       "      <td>11</td>\n",
       "      <td>4</td>\n",
       "      <td>1</td>\n",
       "      <td>184</td>\n",
       "      <td>371</td>\n",
       "      <td>376</td>\n",
       "      <td>376</td>\n",
       "    </tr>\n",
       "    <tr>\n",
       "      <th>Papantla de Olarte</th>\n",
       "      <td>68</td>\n",
       "      <td>42</td>\n",
       "      <td>19</td>\n",
       "      <td>6</td>\n",
       "      <td>12</td>\n",
       "      <td>9</td>\n",
       "      <td>3</td>\n",
       "      <td>155</td>\n",
       "      <td>346</td>\n",
       "      <td>352</td>\n",
       "      <td>352</td>\n",
       "    </tr>\n",
       "    <tr>\n",
       "      <th>Poza Rica de Hidalgo</th>\n",
       "      <td>53</td>\n",
       "      <td>35</td>\n",
       "      <td>21</td>\n",
       "      <td>2</td>\n",
       "      <td>11</td>\n",
       "      <td>2</td>\n",
       "      <td>2</td>\n",
       "      <td>195</td>\n",
       "      <td>369</td>\n",
       "      <td>374</td>\n",
       "      <td>367</td>\n",
       "    </tr>\n",
       "    <tr>\n",
       "      <th>Pánuco</th>\n",
       "      <td>83</td>\n",
       "      <td>41</td>\n",
       "      <td>6</td>\n",
       "      <td>5</td>\n",
       "      <td>12</td>\n",
       "      <td>4</td>\n",
       "      <td>3</td>\n",
       "      <td>134</td>\n",
       "      <td>329</td>\n",
       "      <td>333</td>\n",
       "      <td>317</td>\n",
       "    </tr>\n",
       "    <tr>\n",
       "      <th>San Andrés Tuxtla</th>\n",
       "      <td>76</td>\n",
       "      <td>31</td>\n",
       "      <td>17</td>\n",
       "      <td>7</td>\n",
       "      <td>10</td>\n",
       "      <td>4</td>\n",
       "      <td>3</td>\n",
       "      <td>156</td>\n",
       "      <td>343</td>\n",
       "      <td>348</td>\n",
       "      <td>344</td>\n",
       "    </tr>\n",
       "    <tr>\n",
       "      <th>Tantoyuca</th>\n",
       "      <td>98</td>\n",
       "      <td>48</td>\n",
       "      <td>21</td>\n",
       "      <td>13</td>\n",
       "      <td>14</td>\n",
       "      <td>7</td>\n",
       "      <td>3</td>\n",
       "      <td>127</td>\n",
       "      <td>362</td>\n",
       "      <td>368</td>\n",
       "      <td>364</td>\n",
       "    </tr>\n",
       "    <tr>\n",
       "      <th>Tuxpam de Rodríguez Cano</th>\n",
       "      <td>84</td>\n",
       "      <td>42</td>\n",
       "      <td>5</td>\n",
       "      <td>4</td>\n",
       "      <td>10</td>\n",
       "      <td>3</td>\n",
       "      <td>2</td>\n",
       "      <td>169</td>\n",
       "      <td>356</td>\n",
       "      <td>359</td>\n",
       "      <td>349</td>\n",
       "    </tr>\n",
       "    <tr>\n",
       "      <th>Veracruz</th>\n",
       "      <td>110</td>\n",
       "      <td>29</td>\n",
       "      <td>4</td>\n",
       "      <td>3</td>\n",
       "      <td>10</td>\n",
       "      <td>2</td>\n",
       "      <td>2</td>\n",
       "      <td>147</td>\n",
       "      <td>350</td>\n",
       "      <td>357</td>\n",
       "      <td>352</td>\n",
       "    </tr>\n",
       "    <tr>\n",
       "      <th>Xalapa</th>\n",
       "      <td>84</td>\n",
       "      <td>38</td>\n",
       "      <td>8</td>\n",
       "      <td>3</td>\n",
       "      <td>10</td>\n",
       "      <td>3</td>\n",
       "      <td>2</td>\n",
       "      <td>179</td>\n",
       "      <td>368</td>\n",
       "      <td>375</td>\n",
       "      <td>368</td>\n",
       "    </tr>\n",
       "    <tr>\n",
       "      <th>Zongolica</th>\n",
       "      <td>71</td>\n",
       "      <td>49</td>\n",
       "      <td>18</td>\n",
       "      <td>5</td>\n",
       "      <td>16</td>\n",
       "      <td>8</td>\n",
       "      <td>3</td>\n",
       "      <td>164</td>\n",
       "      <td>376</td>\n",
       "      <td>384</td>\n",
       "      <td>381</td>\n",
       "    </tr>\n",
       "    <tr>\n",
       "      <th rowspan=\"4\" valign=\"top\">YUCATÁN</th>\n",
       "      <th>Mérida</th>\n",
       "      <td>100</td>\n",
       "      <td>72</td>\n",
       "      <td>3</td>\n",
       "      <td>2</td>\n",
       "      <td>14</td>\n",
       "      <td>2</td>\n",
       "      <td>2</td>\n",
       "      <td>152</td>\n",
       "      <td>393</td>\n",
       "      <td>399</td>\n",
       "      <td>390</td>\n",
       "    </tr>\n",
       "    <tr>\n",
       "      <th>Progreso</th>\n",
       "      <td>89</td>\n",
       "      <td>90</td>\n",
       "      <td>8</td>\n",
       "      <td>12</td>\n",
       "      <td>17</td>\n",
       "      <td>5</td>\n",
       "      <td>6</td>\n",
       "      <td>146</td>\n",
       "      <td>412</td>\n",
       "      <td>414</td>\n",
       "      <td>415</td>\n",
       "    </tr>\n",
       "    <tr>\n",
       "      <th>Ticul</th>\n",
       "      <td>87</td>\n",
       "      <td>98</td>\n",
       "      <td>15</td>\n",
       "      <td>8</td>\n",
       "      <td>21</td>\n",
       "      <td>8</td>\n",
       "      <td>9</td>\n",
       "      <td>144</td>\n",
       "      <td>417</td>\n",
       "      <td>422</td>\n",
       "      <td>429</td>\n",
       "    </tr>\n",
       "    <tr>\n",
       "      <th>Valladolid</th>\n",
       "      <td>92</td>\n",
       "      <td>109</td>\n",
       "      <td>6</td>\n",
       "      <td>9</td>\n",
       "      <td>13</td>\n",
       "      <td>5</td>\n",
       "      <td>5</td>\n",
       "      <td>147</td>\n",
       "      <td>415</td>\n",
       "      <td>421</td>\n",
       "      <td>425</td>\n",
       "    </tr>\n",
       "    <tr>\n",
       "      <th rowspan=\"4\" valign=\"top\">ZACATECAS</th>\n",
       "      <th>Fresnillo</th>\n",
       "      <td>48</td>\n",
       "      <td>49</td>\n",
       "      <td>9</td>\n",
       "      <td>5</td>\n",
       "      <td>24</td>\n",
       "      <td>3</td>\n",
       "      <td>3</td>\n",
       "      <td>120</td>\n",
       "      <td>307</td>\n",
       "      <td>314</td>\n",
       "      <td>308</td>\n",
       "    </tr>\n",
       "    <tr>\n",
       "      <th>Guadalupe</th>\n",
       "      <td>46</td>\n",
       "      <td>68</td>\n",
       "      <td>13</td>\n",
       "      <td>5</td>\n",
       "      <td>24</td>\n",
       "      <td>5</td>\n",
       "      <td>3</td>\n",
       "      <td>145</td>\n",
       "      <td>349</td>\n",
       "      <td>357</td>\n",
       "      <td>355</td>\n",
       "    </tr>\n",
       "    <tr>\n",
       "      <th>Jeréz de García Salinas</th>\n",
       "      <td>52</td>\n",
       "      <td>47</td>\n",
       "      <td>12</td>\n",
       "      <td>11</td>\n",
       "      <td>19</td>\n",
       "      <td>4</td>\n",
       "      <td>3</td>\n",
       "      <td>82</td>\n",
       "      <td>266</td>\n",
       "      <td>274</td>\n",
       "      <td>267</td>\n",
       "    </tr>\n",
       "    <tr>\n",
       "      <th>Zacatecas</th>\n",
       "      <td>45</td>\n",
       "      <td>54</td>\n",
       "      <td>7</td>\n",
       "      <td>8</td>\n",
       "      <td>23</td>\n",
       "      <td>3</td>\n",
       "      <td>10</td>\n",
       "      <td>128</td>\n",
       "      <td>321</td>\n",
       "      <td>325</td>\n",
       "      <td>316</td>\n",
       "    </tr>\n",
       "  </tbody>\n",
       "</table>\n",
       "<p>237 rows × 11 columns</p>\n",
       "</div>"
      ],
      "text/plain": [
       "                                                PAN  PRI  PRD  PVEM  PT  MC  \\\n",
       "ESTADO              DISTRITO_FEDERAL                                          \n",
       "AGUASCALIENTES      Aguascalientes               96   51    4     3  13   3   \n",
       "                    Jesús María                  96   62    7     6  18   3   \n",
       "BAJA CALIFORNIA     Ensenada                     51   27    5     2  20   2   \n",
       "                    Mexicali                     60   31    4     3  14   3   \n",
       "                    Tijuana                      52   28    4     3  15   3   \n",
       "BAJA CALIFORNIA SUR La Paz                       57   36    4     4  15   3   \n",
       "                    San José del Cabo            54   21    3     4  32   2   \n",
       "CAMPECHE            Ciudad del Carmen            47   54    7     3  19   4   \n",
       "                    San Francisco de Campeche    48   69    5     4  25   4   \n",
       "CHIAPAS             Bochil                       35   70   12    40  25   7   \n",
       "                    Comitán de Domínguez         27   51    6    33  28   5   \n",
       "                    Huehuetán                    27   49   10    23  36   5   \n",
       "                    Las Margaritas               18   47   40    72  23   4   \n",
       "                    Ocosingo                     25   37    5    48  20   8   \n",
       "                    Palenque                     29   36    6    42  26   7   \n",
       "                    Pichucalco                   36   41    7    22  23   6   \n",
       "                    San Cristóbal de las Casas   25   74    8    21  21   5   \n",
       "                    Tapachula                    31   36    4    12  18   3   \n",
       "                    Tonalá                       35   37    6    17  23   4   \n",
       "                    Tuxtla Gutiérrez             30   28    6     9  20   5   \n",
       "                    Villaflores                  30   41    5    33  25   6   \n",
       "CHIHUAHUA           Chihuahua                   106   39    4     3  13   3   \n",
       "                    Cuauhtémoc                   57   42    5     4  15   6   \n",
       "                    Delicias                     76   45    5     3  19   3   \n",
       "                    Hidalgo del Parral           68   62    6     5  15   4   \n",
       "                    Juárez                       53   36    5     4  16   4   \n",
       "CIUDAD DE MÉXICO    Azcapotzalco                 72   42    9     2  13   3   \n",
       "                    Benito Juárez               152   62    3     2   8   2   \n",
       "                    Coyoacán                     83   47   23     2  13   2   \n",
       "                    Cuajimalpa de Morelos       101   54   16     2  15   3   \n",
       "...                                             ...  ...  ...   ...  ..  ..   \n",
       "TAMAULIPAS          Tampico                      93   39    4     3  16   2   \n",
       "TLAXCALA            Apizaco                      42   48    4     3  26   3   \n",
       "                    Tlaxcala de Xicohténcatl     40   44    6     3  23   3   \n",
       "                    Zacatelco                    33   37    5     2  25   3   \n",
       "VERACRUZ            Coatepec                     95   51   12     2  11   3   \n",
       "                    Coatzacoalcos                41   29    4     1   8   2   \n",
       "                    Cosamaloapan                 75   34   11     2  12   3   \n",
       "                    Cosoleacaque                 51   42   11     2  11   4   \n",
       "                    Córdoba                      73   41    5     2  11   3   \n",
       "                    Huatusco                     88   42    7     4  11   3   \n",
       "                    Martínez de la Torre         65   38    7     4  10   7   \n",
       "                    Minatitlán                   54   31    8     2  12   3   \n",
       "                    Orizaba                      72   37   12     4  11   4   \n",
       "                    Papantla de Olarte           68   42   19     6  12   9   \n",
       "                    Poza Rica de Hidalgo         53   35   21     2  11   2   \n",
       "                    Pánuco                       83   41    6     5  12   4   \n",
       "                    San Andrés Tuxtla            76   31   17     7  10   4   \n",
       "                    Tantoyuca                    98   48   21    13  14   7   \n",
       "                    Tuxpam de Rodríguez Cano     84   42    5     4  10   3   \n",
       "                    Veracruz                    110   29    4     3  10   2   \n",
       "                    Xalapa                       84   38    8     3  10   3   \n",
       "                    Zongolica                    71   49   18     5  16   8   \n",
       "YUCATÁN             Mérida                      100   72    3     2  14   2   \n",
       "                    Progreso                     89   90    8    12  17   5   \n",
       "                    Ticul                        87   98   15     8  21   8   \n",
       "                    Valladolid                   92  109    6     9  13   5   \n",
       "ZACATECAS           Fresnillo                    48   49    9     5  24   3   \n",
       "                    Guadalupe                    46   68   13     5  24   5   \n",
       "                    Jeréz de García Salinas      52   47   12    11  19   4   \n",
       "                    Zacatecas                    45   54    7     8  23   3   \n",
       "\n",
       "                                                PANAL  MORENA  \\\n",
       "ESTADO              DISTRITO_FEDERAL                            \n",
       "AGUASCALIENTES      Aguascalientes                  3     117   \n",
       "                    Jesús María                     6     115   \n",
       "BAJA CALIFORNIA     Ensenada                        2     159   \n",
       "                    Mexicali                        2     153   \n",
       "                    Tijuana                         2     167   \n",
       "BAJA CALIFORNIA SUR La Paz                          2     157   \n",
       "                    San José del Cabo               2     150   \n",
       "CAMPECHE            Ciudad del Carmen               4     180   \n",
       "                    San Francisco de Campeche       4     174   \n",
       "CHIAPAS             Bochil                          5     143   \n",
       "                    Comitán de Domínguez            7     178   \n",
       "                    Huehuetán                       7     151   \n",
       "                    Las Margaritas                  4     110   \n",
       "                    Ocosingo                       10     158   \n",
       "                    Palenque                        7     185   \n",
       "                    Pichucalco                      5     190   \n",
       "                    San Cristóbal de las Casas      4     191   \n",
       "                    Tapachula                       3     203   \n",
       "                    Tonalá                          5     183   \n",
       "                    Tuxtla Gutiérrez                3     225   \n",
       "                    Villaflores                     7     180   \n",
       "CHIHUAHUA           Chihuahua                       2     110   \n",
       "                    Cuauhtémoc                      3     115   \n",
       "                    Delicias                        6     112   \n",
       "                    Hidalgo del Parral              3     100   \n",
       "                    Juárez                          3     123   \n",
       "CIUDAD DE MÉXICO    Azcapotzalco                    2     188   \n",
       "                    Benito Juárez                   2     156   \n",
       "                    Coyoacán                        2     194   \n",
       "                    Cuajimalpa de Morelos           1     183   \n",
       "...                                               ...     ...   \n",
       "TAMAULIPAS          Tampico                         2     158   \n",
       "TLAXCALA            Apizaco                         2     188   \n",
       "                    Tlaxcala de Xicohténcatl        3     229   \n",
       "                    Zacatelco                       3     220   \n",
       "VERACRUZ            Coatepec                        2     163   \n",
       "                    Coatzacoalcos                   3     223   \n",
       "                    Cosamaloapan                    2     160   \n",
       "                    Cosoleacaque                    2     199   \n",
       "                    Córdoba                         2     198   \n",
       "                    Huatusco                        2     157   \n",
       "                    Martínez de la Torre            2     160   \n",
       "                    Minatitlán                      2     179   \n",
       "                    Orizaba                         1     184   \n",
       "                    Papantla de Olarte              3     155   \n",
       "                    Poza Rica de Hidalgo            2     195   \n",
       "                    Pánuco                          3     134   \n",
       "                    San Andrés Tuxtla               3     156   \n",
       "                    Tantoyuca                       3     127   \n",
       "                    Tuxpam de Rodríguez Cano        2     169   \n",
       "                    Veracruz                        2     147   \n",
       "                    Xalapa                          2     179   \n",
       "                    Zongolica                       3     164   \n",
       "YUCATÁN             Mérida                          2     152   \n",
       "                    Progreso                        6     146   \n",
       "                    Ticul                           9     144   \n",
       "                    Valladolid                      5     147   \n",
       "ZACATECAS           Fresnillo                       3     120   \n",
       "                    Guadalupe                       3     145   \n",
       "                    Jeréz de García Salinas         3      82   \n",
       "                    Zacatecas                      10     128   \n",
       "\n",
       "                                                TOTAL_PERSONAS_VOTARON  \\\n",
       "ESTADO              DISTRITO_FEDERAL                                     \n",
       "AGUASCALIENTES      Aguascalientes                                 340   \n",
       "                    Jesús María                                    360   \n",
       "BAJA CALIFORNIA     Ensenada                                       322   \n",
       "                    Mexicali                                       320   \n",
       "                    Tijuana                                        318   \n",
       "BAJA CALIFORNIA SUR La Paz                                         327   \n",
       "                    San José del Cabo                              311   \n",
       "CAMPECHE            Ciudad del Carmen                              363   \n",
       "                    San Francisco de Campeche                      382   \n",
       "CHIAPAS             Bochil                                         387   \n",
       "                    Comitán de Domínguez                           393   \n",
       "                    Huehuetán                                      359   \n",
       "                    Las Margaritas                                 364   \n",
       "                    Ocosingo                                       358   \n",
       "                    Palenque                                       399   \n",
       "                    Pichucalco                                     379   \n",
       "                    San Cristóbal de las Casas                     391   \n",
       "                    Tapachula                                      357   \n",
       "                    Tonalá                                         354   \n",
       "                    Tuxtla Gutiérrez                               375   \n",
       "                    Villaflores                                    380   \n",
       "CHIHUAHUA           Chihuahua                                      336   \n",
       "                    Cuauhtémoc                                     292   \n",
       "                    Delicias                                       315   \n",
       "                    Hidalgo del Parral                             314   \n",
       "                    Juárez                                         297   \n",
       "CIUDAD DE MÉXICO    Azcapotzalco                                   387   \n",
       "                    Benito Juárez                                  431   \n",
       "                    Coyoacán                                       421   \n",
       "                    Cuajimalpa de Morelos                          432   \n",
       "...                                                                ...   \n",
       "TAMAULIPAS          Tampico                                        368   \n",
       "TLAXCALA            Apizaco                                        367   \n",
       "                    Tlaxcala de Xicohténcatl                       398   \n",
       "                    Zacatelco                                      381   \n",
       "VERACRUZ            Coatepec                                       379   \n",
       "                    Coatzacoalcos                                  343   \n",
       "                    Cosamaloapan                                   335   \n",
       "                    Cosoleacaque                                   354   \n",
       "                    Córdoba                                        377   \n",
       "                    Huatusco                                       349   \n",
       "                    Martínez de la Torre                           328   \n",
       "                    Minatitlán                                     324   \n",
       "                    Orizaba                                        371   \n",
       "                    Papantla de Olarte                             346   \n",
       "                    Poza Rica de Hidalgo                           369   \n",
       "                    Pánuco                                         329   \n",
       "                    San Andrés Tuxtla                              343   \n",
       "                    Tantoyuca                                      362   \n",
       "                    Tuxpam de Rodríguez Cano                       356   \n",
       "                    Veracruz                                       350   \n",
       "                    Xalapa                                         368   \n",
       "                    Zongolica                                      376   \n",
       "YUCATÁN             Mérida                                         393   \n",
       "                    Progreso                                       412   \n",
       "                    Ticul                                          417   \n",
       "                    Valladolid                                     415   \n",
       "ZACATECAS           Fresnillo                                      307   \n",
       "                    Guadalupe                                      349   \n",
       "                    Jeréz de García Salinas                        266   \n",
       "                    Zacatecas                                      321   \n",
       "\n",
       "                                                TOTAL_VOTOS_ASENTADO  \\\n",
       "ESTADO              DISTRITO_FEDERAL                                   \n",
       "AGUASCALIENTES      Aguascalientes                               348   \n",
       "                    Jesús María                                  365   \n",
       "BAJA CALIFORNIA     Ensenada                                     326   \n",
       "                    Mexicali                                     325   \n",
       "                    Tijuana                                      324   \n",
       "BAJA CALIFORNIA SUR La Paz                                       334   \n",
       "                    San José del Cabo                            319   \n",
       "CAMPECHE            Ciudad del Carmen                            368   \n",
       "                    San Francisco de Campeche                    387   \n",
       "CHIAPAS             Bochil                                       393   \n",
       "                    Comitán de Domínguez                         397   \n",
       "                    Huehuetán                                    366   \n",
       "                    Las Margaritas                               368   \n",
       "                    Ocosingo                                     363   \n",
       "                    Palenque                                     401   \n",
       "                    Pichucalco                                   388   \n",
       "                    San Cristóbal de las Casas                   399   \n",
       "                    Tapachula                                    362   \n",
       "                    Tonalá                                       361   \n",
       "                    Tuxtla Gutiérrez                             384   \n",
       "                    Villaflores                                  384   \n",
       "CHIHUAHUA           Chihuahua                                    340   \n",
       "                    Cuauhtémoc                                   299   \n",
       "                    Delicias                                     322   \n",
       "                    Hidalgo del Parral                           320   \n",
       "                    Juárez                                       302   \n",
       "CIUDAD DE MÉXICO    Azcapotzalco                                 392   \n",
       "                    Benito Juárez                                438   \n",
       "                    Coyoacán                                     423   \n",
       "                    Cuajimalpa de Morelos                        436   \n",
       "...                                                              ...   \n",
       "TAMAULIPAS          Tampico                                      375   \n",
       "TLAXCALA            Apizaco                                      375   \n",
       "                    Tlaxcala de Xicohténcatl                     408   \n",
       "                    Zacatelco                                    384   \n",
       "VERACRUZ            Coatepec                                     384   \n",
       "                    Coatzacoalcos                                353   \n",
       "                    Cosamaloapan                                 339   \n",
       "                    Cosoleacaque                                 358   \n",
       "                    Córdoba                                      383   \n",
       "                    Huatusco                                     355   \n",
       "                    Martínez de la Torre                         335   \n",
       "                    Minatitlán                                   330   \n",
       "                    Orizaba                                      376   \n",
       "                    Papantla de Olarte                           352   \n",
       "                    Poza Rica de Hidalgo                         374   \n",
       "                    Pánuco                                       333   \n",
       "                    San Andrés Tuxtla                            348   \n",
       "                    Tantoyuca                                    368   \n",
       "                    Tuxpam de Rodríguez Cano                     359   \n",
       "                    Veracruz                                     357   \n",
       "                    Xalapa                                       375   \n",
       "                    Zongolica                                    384   \n",
       "YUCATÁN             Mérida                                       399   \n",
       "                    Progreso                                     414   \n",
       "                    Ticul                                        422   \n",
       "                    Valladolid                                   421   \n",
       "ZACATECAS           Fresnillo                                    314   \n",
       "                    Guadalupe                                    357   \n",
       "                    Jeréz de García Salinas                      274   \n",
       "                    Zacatecas                                    325   \n",
       "\n",
       "                                                TOTAL_VOTOS_CALCULADO  \n",
       "ESTADO              DISTRITO_FEDERAL                                   \n",
       "AGUASCALIENTES      Aguascalientes                                334  \n",
       "                    Jesús María                                   361  \n",
       "BAJA CALIFORNIA     Ensenada                                      323  \n",
       "                    Mexicali                                      319  \n",
       "                    Tijuana                                       316  \n",
       "BAJA CALIFORNIA SUR La Paz                                        327  \n",
       "                    San José del Cabo                             304  \n",
       "CAMPECHE            Ciudad del Carmen                             366  \n",
       "                    San Francisco de Campeche                     384  \n",
       "CHIAPAS             Bochil                                        385  \n",
       "                    Comitán de Domínguez                          393  \n",
       "                    Huehuetán                                     366  \n",
       "                    Las Margaritas                                370  \n",
       "                    Ocosingo                                      363  \n",
       "                    Palenque                                      403  \n",
       "                    Pichucalco                                    377  \n",
       "                    San Cristóbal de las Casas                    399  \n",
       "                    Tapachula                                     363  \n",
       "                    Tonalá                                        360  \n",
       "                    Tuxtla Gutiérrez                              380  \n",
       "                    Villaflores                                   383  \n",
       "CHIHUAHUA           Chihuahua                                     330  \n",
       "                    Cuauhtémoc                                    282  \n",
       "                    Delicias                                      305  \n",
       "                    Hidalgo del Parral                            335  \n",
       "                    Juárez                                        292  \n",
       "CIUDAD DE MÉXICO    Azcapotzalco                                  386  \n",
       "                    Benito Juárez                                 431  \n",
       "                    Coyoacán                                      415  \n",
       "                    Cuajimalpa de Morelos                         433  \n",
       "...                                                               ...  \n",
       "TAMAULIPAS          Tampico                                       370  \n",
       "TLAXCALA            Apizaco                                       372  \n",
       "                    Tlaxcala de Xicohténcatl                      405  \n",
       "                    Zacatelco                                     379  \n",
       "VERACRUZ            Coatepec                                      385  \n",
       "                    Coatzacoalcos                                 346  \n",
       "                    Cosamaloapan                                  338  \n",
       "                    Cosoleacaque                                  361  \n",
       "                    Córdoba                                       378  \n",
       "                    Huatusco                                      354  \n",
       "                    Martínez de la Torre                          332  \n",
       "                    Minatitlán                                    330  \n",
       "                    Orizaba                                       376  \n",
       "                    Papantla de Olarte                            352  \n",
       "                    Poza Rica de Hidalgo                          367  \n",
       "                    Pánuco                                        317  \n",
       "                    San Andrés Tuxtla                             344  \n",
       "                    Tantoyuca                                     364  \n",
       "                    Tuxpam de Rodríguez Cano                      349  \n",
       "                    Veracruz                                      352  \n",
       "                    Xalapa                                        368  \n",
       "                    Zongolica                                     381  \n",
       "YUCATÁN             Mérida                                        390  \n",
       "                    Progreso                                      415  \n",
       "                    Ticul                                         429  \n",
       "                    Valladolid                                    425  \n",
       "ZACATECAS           Fresnillo                                     308  \n",
       "                    Guadalupe                                     355  \n",
       "                    Jeréz de García Salinas                       267  \n",
       "                    Zacatecas                                     316  \n",
       "\n",
       "[237 rows x 11 columns]"
      ]
     },
     "execution_count": 518,
     "metadata": {},
     "output_type": "execute_result"
    }
   ],
   "source": [
    "df_votos = df_copy.groupby(['ESTADO', 'DISTRITO_FEDERAL'])[list_select_02].mean()\n",
    "df_votos = df_votos.astype('int64')\n",
    "df_votos"
   ]
  },
  {
   "cell_type": "code",
   "execution_count": null,
   "metadata": {},
   "outputs": [],
   "source": []
  }
 ],
 "metadata": {
  "kernelspec": {
   "display_name": "Python 3",
   "language": "python",
   "name": "python3"
  },
  "language_info": {
   "codemirror_mode": {
    "name": "ipython",
    "version": 3
   },
   "file_extension": ".py",
   "mimetype": "text/x-python",
   "name": "python",
   "nbconvert_exporter": "python",
   "pygments_lexer": "ipython3",
   "version": "3.6.4"
  }
 },
 "nbformat": 4,
 "nbformat_minor": 2
}
