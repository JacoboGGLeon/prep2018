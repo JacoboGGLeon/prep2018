{
 "cells": [
  {
   "cell_type": "code",
   "execution_count": 1,
   "metadata": {},
   "outputs": [],
   "source": [
    "import pandas as pd"
   ]
  },
  {
   "cell_type": "code",
   "execution_count": 13,
   "metadata": {},
   "outputs": [],
   "source": [
    "path = 'presidencia.csv'"
   ]
  },
  {
   "cell_type": "code",
   "execution_count": 17,
   "metadata": {},
   "outputs": [
    {
     "data": {
      "text/html": [
       "<div>\n",
       "<style scoped>\n",
       "    .dataframe tbody tr th:only-of-type {\n",
       "        vertical-align: middle;\n",
       "    }\n",
       "\n",
       "    .dataframe tbody tr th {\n",
       "        vertical-align: top;\n",
       "    }\n",
       "\n",
       "    .dataframe thead th {\n",
       "        text-align: right;\n",
       "    }\n",
       "</style>\n",
       "<table border=\"1\" class=\"dataframe\">\n",
       "  <thead>\n",
       "    <tr style=\"text-align: right;\">\n",
       "      <th></th>\n",
       "      <th>CLAVE_CASILLA</th>\n",
       "      <th>CLAVE_ACTA</th>\n",
       "      <th>ID_ESTADO</th>\n",
       "      <th>ESTADO</th>\n",
       "      <th>ID_DISTRITO_FEDERAL</th>\n",
       "      <th>DISTRITO_FEDERAL</th>\n",
       "      <th>SECCION</th>\n",
       "      <th>ID_CASILLA</th>\n",
       "      <th>TIPO_CASILLA</th>\n",
       "      <th>EXT_CONTIGUA</th>\n",
       "      <th>...</th>\n",
       "      <th>CONTABILIZADA</th>\n",
       "      <th>MECANISMOS_TRASLADO</th>\n",
       "      <th>SHA</th>\n",
       "      <th>FECHA_HORA_ACOPIO</th>\n",
       "      <th>FECHA_HORA_CAPTURA</th>\n",
       "      <th>FECHA_HORA_VERIFICACION</th>\n",
       "      <th>ORIGEN</th>\n",
       "      <th>DIGITALIZACION</th>\n",
       "      <th>TIPO_DOCUMENTO</th>\n",
       "      <th>COTEJADA</th>\n",
       "    </tr>\n",
       "  </thead>\n",
       "  <tbody>\n",
       "    <tr>\n",
       "      <th>0</th>\n",
       "      <td>'010000M0100'</td>\n",
       "      <td>'010000M010001'</td>\n",
       "      <td>1</td>\n",
       "      <td>AGUASCALIENTES</td>\n",
       "      <td>0</td>\n",
       "      <td></td>\n",
       "      <td></td>\n",
       "      <td>1</td>\n",
       "      <td>M</td>\n",
       "      <td>0</td>\n",
       "      <td>...</td>\n",
       "      <td>1</td>\n",
       "      <td>-</td>\n",
       "      <td>a17d856a260b001c68b498781c1ca71ef9e0bfbc7cb98e...</td>\n",
       "      <td>7/1/18 07:25</td>\n",
       "      <td>7/2/18 07:46</td>\n",
       "      <td>7/2/18 07:46</td>\n",
       "      <td>CATD</td>\n",
       "      <td>ESCÁNER</td>\n",
       "      <td>-</td>\n",
       "      <td>1</td>\n",
       "    </tr>\n",
       "    <tr>\n",
       "      <th>1</th>\n",
       "      <td>'010338B0100'</td>\n",
       "      <td>'010338B010002'</td>\n",
       "      <td>1</td>\n",
       "      <td>AGUASCALIENTES</td>\n",
       "      <td>1</td>\n",
       "      <td>Jesús María</td>\n",
       "      <td>338</td>\n",
       "      <td>1</td>\n",
       "      <td>B</td>\n",
       "      <td>0</td>\n",
       "      <td>...</td>\n",
       "      <td>1</td>\n",
       "      <td>F</td>\n",
       "      <td>25af5bfa78cd2bf74f9377e4a266605eea6e478fe27ae8...</td>\n",
       "      <td>7/2/18 07:11</td>\n",
       "      <td>7/2/18 11:33</td>\n",
       "      <td>7/2/18 11:34</td>\n",
       "      <td>CATD</td>\n",
       "      <td>ESCÁNER</td>\n",
       "      <td>Acta PREP</td>\n",
       "      <td>1</td>\n",
       "    </tr>\n",
       "    <tr>\n",
       "      <th>2</th>\n",
       "      <td>'010338C0100'</td>\n",
       "      <td>'010338C010002'</td>\n",
       "      <td>1</td>\n",
       "      <td>AGUASCALIENTES</td>\n",
       "      <td>1</td>\n",
       "      <td>Jesús María</td>\n",
       "      <td>338</td>\n",
       "      <td>1</td>\n",
       "      <td>C</td>\n",
       "      <td>0</td>\n",
       "      <td>...</td>\n",
       "      <td>1</td>\n",
       "      <td>F</td>\n",
       "      <td>b8f3fb89dda14167b6cb4f2f4d24a8b205446ac9035311...</td>\n",
       "      <td>7/2/18 07:08</td>\n",
       "      <td>7/2/18 11:23</td>\n",
       "      <td>7/2/18 11:26</td>\n",
       "      <td>CATD</td>\n",
       "      <td>ESCÁNER</td>\n",
       "      <td>Acta PREP</td>\n",
       "      <td>1</td>\n",
       "    </tr>\n",
       "    <tr>\n",
       "      <th>3</th>\n",
       "      <td>'010338C0200'</td>\n",
       "      <td>'010338C020002'</td>\n",
       "      <td>1</td>\n",
       "      <td>AGUASCALIENTES</td>\n",
       "      <td>1</td>\n",
       "      <td>Jesús María</td>\n",
       "      <td>338</td>\n",
       "      <td>2</td>\n",
       "      <td>C</td>\n",
       "      <td>0</td>\n",
       "      <td>...</td>\n",
       "      <td>1</td>\n",
       "      <td>F</td>\n",
       "      <td>75562582dc5be7bf9177dfc1458df9a60b9aba746e2225...</td>\n",
       "      <td>7/2/18 06:55</td>\n",
       "      <td>7/2/18 10:43</td>\n",
       "      <td>7/2/18 10:44</td>\n",
       "      <td>CATD</td>\n",
       "      <td>ESCÁNER</td>\n",
       "      <td>Acta PREP</td>\n",
       "      <td>1</td>\n",
       "    </tr>\n",
       "    <tr>\n",
       "      <th>4</th>\n",
       "      <td>'010339B0100'</td>\n",
       "      <td>'010339B010002'</td>\n",
       "      <td>1</td>\n",
       "      <td>AGUASCALIENTES</td>\n",
       "      <td>1</td>\n",
       "      <td>Jesús María</td>\n",
       "      <td>339</td>\n",
       "      <td>1</td>\n",
       "      <td>B</td>\n",
       "      <td>0</td>\n",
       "      <td>...</td>\n",
       "      <td>1</td>\n",
       "      <td>F-D</td>\n",
       "      <td>15fd04a75d46e0027204d72f0e8486262e09ff7f7b34b6...</td>\n",
       "      <td>7/2/18 07:12</td>\n",
       "      <td>7/2/18 11:09</td>\n",
       "      <td>7/2/18 11:10</td>\n",
       "      <td>CATD</td>\n",
       "      <td>ESCÁNER</td>\n",
       "      <td>Acta PREP</td>\n",
       "      <td>1</td>\n",
       "    </tr>\n",
       "  </tbody>\n",
       "</table>\n",
       "<p>5 rows × 56 columns</p>\n",
       "</div>"
      ],
      "text/plain": [
       "   CLAVE_CASILLA       CLAVE_ACTA  ID_ESTADO          ESTADO  \\\n",
       "0  '010000M0100'  '010000M010001'          1  AGUASCALIENTES   \n",
       "1  '010338B0100'  '010338B010002'          1  AGUASCALIENTES   \n",
       "2  '010338C0100'  '010338C010002'          1  AGUASCALIENTES   \n",
       "3  '010338C0200'  '010338C020002'          1  AGUASCALIENTES   \n",
       "4  '010339B0100'  '010339B010002'          1  AGUASCALIENTES   \n",
       "\n",
       "   ID_DISTRITO_FEDERAL DISTRITO_FEDERAL SECCION  ID_CASILLA TIPO_CASILLA  \\\n",
       "0                    0                                    1            M   \n",
       "1                    1      Jesús María     338           1            B   \n",
       "2                    1      Jesús María     338           1            C   \n",
       "3                    1      Jesús María     338           2            C   \n",
       "4                    1      Jesús María     339           1            B   \n",
       "\n",
       "   EXT_CONTIGUA   ...     CONTABILIZADA  MECANISMOS_TRASLADO  \\\n",
       "0             0   ...                 1                    -   \n",
       "1             0   ...                 1                    F   \n",
       "2             0   ...                 1                    F   \n",
       "3             0   ...                 1                    F   \n",
       "4             0   ...                 1                  F-D   \n",
       "\n",
       "                                                 SHA FECHA_HORA_ACOPIO  \\\n",
       "0  a17d856a260b001c68b498781c1ca71ef9e0bfbc7cb98e...      7/1/18 07:25   \n",
       "1  25af5bfa78cd2bf74f9377e4a266605eea6e478fe27ae8...      7/2/18 07:11   \n",
       "2  b8f3fb89dda14167b6cb4f2f4d24a8b205446ac9035311...      7/2/18 07:08   \n",
       "3  75562582dc5be7bf9177dfc1458df9a60b9aba746e2225...      7/2/18 06:55   \n",
       "4  15fd04a75d46e0027204d72f0e8486262e09ff7f7b34b6...      7/2/18 07:12   \n",
       "\n",
       "  FECHA_HORA_CAPTURA FECHA_HORA_VERIFICACION ORIGEN DIGITALIZACION  \\\n",
       "0       7/2/18 07:46            7/2/18 07:46   CATD        ESCÁNER   \n",
       "1       7/2/18 11:33            7/2/18 11:34   CATD        ESCÁNER   \n",
       "2       7/2/18 11:23            7/2/18 11:26   CATD        ESCÁNER   \n",
       "3       7/2/18 10:43            7/2/18 10:44   CATD        ESCÁNER   \n",
       "4       7/2/18 11:09            7/2/18 11:10   CATD        ESCÁNER   \n",
       "\n",
       "  TIPO_DOCUMENTO COTEJADA  \n",
       "0              -        1  \n",
       "1      Acta PREP        1  \n",
       "2      Acta PREP        1  \n",
       "3      Acta PREP        1  \n",
       "4      Acta PREP        1  \n",
       "\n",
       "[5 rows x 56 columns]"
      ]
     },
     "execution_count": 17,
     "metadata": {},
     "output_type": "execute_result"
    }
   ],
   "source": [
    "df = pd.read_csv(path, encoding='latin1')\n",
    "df.head()"
   ]
  },
  {
   "cell_type": "code",
   "execution_count": 41,
   "metadata": {},
   "outputs": [
    {
     "data": {
      "text/plain": [
       "(156034, 56)"
      ]
     },
     "execution_count": 41,
     "metadata": {},
     "output_type": "execute_result"
    }
   ],
   "source": [
    "df.shape"
   ]
  },
  {
   "cell_type": "code",
   "execution_count": 18,
   "metadata": {},
   "outputs": [
    {
     "name": "stdout",
     "output_type": "stream",
     "text": [
      "<class 'pandas.core.frame.DataFrame'>\n",
      "RangeIndex: 156034 entries, 0 to 156033\n",
      "Data columns (total 56 columns):\n",
      "CLAVE_CASILLA                   156034 non-null object\n",
      "CLAVE_ACTA                      156034 non-null object\n",
      "ID_ESTADO                       156034 non-null int64\n",
      "ESTADO                          156034 non-null object\n",
      "ID_DISTRITO_FEDERAL             156034 non-null int64\n",
      "DISTRITO_FEDERAL                156034 non-null object\n",
      "SECCION                         156034 non-null object\n",
      "ID_CASILLA                      156034 non-null int64\n",
      "TIPO_CASILLA                    156034 non-null object\n",
      "EXT_CONTIGUA                    156034 non-null int64\n",
      "UBICACION_CASILLA               156034 non-null int64\n",
      "TIPO_ACTA                       156034 non-null int64\n",
      "TOTAL_BOLETAS_SOBRANTES         156034 non-null object\n",
      "TOTAL_PERSONAS_VOTARON          156034 non-null object\n",
      "TOTAL_REP_PARTIDO_CI_VOTARON    156034 non-null object\n",
      "TOTAL_VOTOS_SACADOS             156034 non-null object\n",
      "PAN                             156034 non-null object\n",
      "PRI                             156034 non-null object\n",
      "PRD                             156034 non-null object\n",
      "PVEM                            156034 non-null object\n",
      "PT                              156034 non-null object\n",
      "MC                              156034 non-null object\n",
      "PANAL                           156034 non-null object\n",
      "MORENA                          156034 non-null object\n",
      "PES                             156034 non-null object\n",
      "C_PAN_PRD_MC                    156034 non-null object\n",
      "C_PAN_PRD                       156034 non-null object\n",
      "C_PAN_MC                        156034 non-null object\n",
      "C_PRD_MC                        156034 non-null object\n",
      "C_PRI_PVEM_PANAL                156034 non-null object\n",
      "C_PRI_PVEM                      156034 non-null object\n",
      "C_PRI_PANAL                     156034 non-null object\n",
      "C_PVEM_PANAL                    156034 non-null object\n",
      "C_PT_MORENA_PES                 156034 non-null object\n",
      "C_PT_MORENA                     156034 non-null object\n",
      "C_PT_PES                        156034 non-null object\n",
      "C_MORENA_PES                    156034 non-null object\n",
      "CAND_IND_01                     156034 non-null object\n",
      "CAND_IND_02                     156034 non-null object\n",
      "NO_REGISTRADOS                  156034 non-null object\n",
      "NULOS                           156034 non-null object\n",
      "TOTAL_VOTOS_ASENTADO            156034 non-null object\n",
      "TOTAL_VOTOS_CALCULADO           156034 non-null object\n",
      "LISTA_NOMINAL                   156033 non-null float64\n",
      "REPRESENTANTES_PP_CI            156033 non-null float64\n",
      "OBSERVACIONES                   156033 non-null object\n",
      "CONTABILIZADA                   156033 non-null object\n",
      "MECANISMOS_TRASLADO             156033 non-null object\n",
      "SHA                             156033 non-null object\n",
      "FECHA_HORA_ACOPIO               156033 non-null object\n",
      "FECHA_HORA_CAPTURA              156033 non-null object\n",
      "FECHA_HORA_VERIFICACION         156033 non-null object\n",
      "ORIGEN                          156033 non-null object\n",
      "DIGITALIZACION                  156033 non-null object\n",
      "TIPO_DOCUMENTO                  156033 non-null object\n",
      "COTEJADA                        156033 non-null object\n",
      "dtypes: float64(2), int64(6), object(48)\n",
      "memory usage: 66.7+ MB\n"
     ]
    }
   ],
   "source": [
    "df.info()"
   ]
  },
  {
   "cell_type": "code",
   "execution_count": 19,
   "metadata": {},
   "outputs": [],
   "source": [
    "df_copy = df.copy()"
   ]
  },
  {
   "cell_type": "code",
   "execution_count": 34,
   "metadata": {},
   "outputs": [
    {
     "data": {
      "text/plain": [
       "True"
      ]
     },
     "execution_count": 34,
     "metadata": {},
     "output_type": "execute_result"
    }
   ],
   "source": [
    "df_copy.isnull().any().any()"
   ]
  },
  {
   "cell_type": "code",
   "execution_count": 36,
   "metadata": {},
   "outputs": [
    {
     "data": {
      "text/plain": [
       "['LISTA_NOMINAL',\n",
       " 'REPRESENTANTES_PP_CI',\n",
       " 'OBSERVACIONES',\n",
       " 'CONTABILIZADA',\n",
       " 'MECANISMOS_TRASLADO',\n",
       " 'SHA',\n",
       " 'FECHA_HORA_ACOPIO',\n",
       " 'FECHA_HORA_CAPTURA',\n",
       " 'FECHA_HORA_VERIFICACION',\n",
       " 'ORIGEN',\n",
       " 'DIGITALIZACION',\n",
       " 'TIPO_DOCUMENTO',\n",
       " 'COTEJADA']"
      ]
     },
     "execution_count": 36,
     "metadata": {},
     "output_type": "execute_result"
    }
   ],
   "source": [
    "df_copy.columns[df.isnull().any()].tolist()"
   ]
  },
  {
   "cell_type": "code",
   "execution_count": 37,
   "metadata": {},
   "outputs": [
    {
     "data": {
      "text/plain": [
       "1"
      ]
     },
     "execution_count": 37,
     "metadata": {},
     "output_type": "execute_result"
    }
   ],
   "source": [
    "len(pd.isnull(df_copy).any(1).nonzero()[0].tolist())"
   ]
  },
  {
   "cell_type": "code",
   "execution_count": 38,
   "metadata": {},
   "outputs": [
    {
     "data": {
      "text/plain": [
       "[156033]"
      ]
     },
     "execution_count": 38,
     "metadata": {},
     "output_type": "execute_result"
    }
   ],
   "source": [
    "pd.isnull(df_copy).any(1).nonzero()[0].tolist()"
   ]
  },
  {
   "cell_type": "code",
   "execution_count": 39,
   "metadata": {},
   "outputs": [],
   "source": [
    "df_copy.dropna(axis=0, inplace=True)"
   ]
  },
  {
   "cell_type": "code",
   "execution_count": 43,
   "metadata": {},
   "outputs": [
    {
     "data": {
      "text/plain": [
       "(156033, 56)"
      ]
     },
     "execution_count": 43,
     "metadata": {},
     "output_type": "execute_result"
    }
   ],
   "source": [
    "df_copy.shape"
   ]
  },
  {
   "cell_type": "code",
   "execution_count": 44,
   "metadata": {},
   "outputs": [
    {
     "data": {
      "text/plain": [
       "False"
      ]
     },
     "execution_count": 44,
     "metadata": {},
     "output_type": "execute_result"
    }
   ],
   "source": [
    "df_copy.isnull().any().any()"
   ]
  },
  {
   "cell_type": "markdown",
   "metadata": {},
   "source": [
    "`ESTADO` - Indica el nombre de la Entidad Federativa a la que corresponde el Acta."
   ]
  },
  {
   "cell_type": "code",
   "execution_count": 23,
   "metadata": {},
   "outputs": [
    {
     "data": {
      "text/plain": [
       "array(['AGUASCALIENTES', 'BAJA CALIFORNIA', 'BAJA CALIFORNIA SUR',\n",
       "       'CAMPECHE', 'COAHUILA', 'COLIMA', 'CHIAPAS', 'CHIHUAHUA',\n",
       "       'CIUDAD DE MÉXICO', 'DURANGO', 'GUANAJUATO', 'GUERRERO', 'HIDALGO',\n",
       "       'JALISCO', 'MÉXICO', 'MICHOACÁN', 'MORELOS', 'NAYARIT',\n",
       "       'NUEVO LEÓN', 'OAXACA', 'PUEBLA', 'QUERÉTARO', 'QUINTANA ROO',\n",
       "       'SAN LUIS POTOSÍ', 'SINALOA', 'SONORA', 'TABASCO', 'TAMAULIPAS',\n",
       "       'TLAXCALA', 'VERACRUZ', 'YUCATÁN', 'ZACATECAS'], dtype=object)"
      ]
     },
     "execution_count": 23,
     "metadata": {},
     "output_type": "execute_result"
    }
   ],
   "source": [
    "df_copy.ESTADO.unique()"
   ]
  },
  {
   "cell_type": "markdown",
   "metadata": {},
   "source": [
    "`DISTRITO_FEDERAL` - Nombre del distrito electoral de la entidad acorde al tipo de elección."
   ]
  },
  {
   "cell_type": "code",
   "execution_count": 27,
   "metadata": {},
   "outputs": [
    {
     "data": {
      "text/plain": [
       "Iztapalapa                       2453\n",
       "Tijuana                          2410\n",
       "Juárez                           2265\n",
       "Ecatepec de Morelos              2206\n",
       "Guadalajara                      2182\n",
       "Heroica Puebla de Zaragoza       2101\n",
       "Gustavo A. Madero                1837\n",
       "León                             1836\n",
       "Mexicali                         1716\n",
       "Cuauhtémoc                       1656\n",
       "Monterrey                        1601\n",
       "Cd. Nezahualcóyotl               1511\n",
       "Zapopan                          1407\n",
       "Tonalá                           1310\n",
       "Mazatlán                         1289\n",
       "Culiacán de Rosales              1253\n",
       "Chihuahua                        1243\n",
       "Victoria de Durango              1211\n",
       "Santiago de Querétaro            1184\n",
       "Coyoacán                         1177\n",
       "Benito Juárez                    1174\n",
       "Mérida                           1169\n",
       "Naucalpan de Juárez              1159\n",
       "Veracruz                         1150\n",
       "Xalapa                           1145\n",
       "Aguascalientes                   1110\n",
       "Saltillo                         1079\n",
       "Guadalupe                        1039\n",
       "San Luis Potosí                  1022\n",
       "Cancún                           1022\n",
       "                                 ... \n",
       "Coacalco de Berriozábal           460\n",
       "Tepeaca                           458\n",
       "Tuxpam de Rodríguez Cano          456\n",
       "Apatzingán de la Constitución     456\n",
       "Macuspana                         453\n",
       "Lagos de Moreno                   452\n",
       "Texcoco de Mora                   447\n",
       "Manzanillo                        446\n",
       "Jiutepec                          446\n",
       "Ciudad Valles                     445\n",
       "Teotihuacán de Arista             444\n",
       "Jocotepec                         443\n",
       "Nicolás Romero                    443\n",
       "Ocosingo                          440\n",
       "Las Margaritas                    439\n",
       "Poza Rica de Hidalgo              438\n",
       "Palenque                          437\n",
       "Cuautitlán                        435\n",
       "Ixtapaluca                        431\n",
       "San José del Cabo                 427\n",
       "Amecameca de Juárez               423\n",
       "Santa Maria Tultepec              418\n",
       "Comalcalco                        413\n",
       "Los Reyes Acaquilpan              409\n",
       "Valle de Chalco Solidaridad       404\n",
       "Uruapan del Progreso              402\n",
       "Tultitlán de Mariano Escobedo     399\n",
       "Chalco de Díaz Covarrubias        389\n",
       "Zacatecas                         376\n",
       "                                   32\n",
       "Name: DISTRITO_FEDERAL, Length: 234, dtype: int64"
      ]
     },
     "execution_count": 27,
     "metadata": {},
     "output_type": "execute_result"
    }
   ],
   "source": [
    "df_copy.DISTRITO_FEDERAL.value_counts()"
   ]
  },
  {
   "cell_type": "markdown",
   "metadata": {},
   "source": [
    "`TIPO_CASILLA` - Se refiere al tipo de casilla; \n",
    "* `B`: Básica\n",
    "* `C`: Contigua\n",
    "* `E`: Extraordinaria\n",
    "* `S`: Especial\n",
    "* `M`: Mesa de escrutinio, contiene información de voto en el extranjero."
   ]
  },
  {
   "cell_type": "code",
   "execution_count": 30,
   "metadata": {},
   "outputs": [
    {
     "data": {
      "text/plain": [
       "C    79005\n",
       "B    67163\n",
       "E     8790\n",
       "S     1044\n",
       "M       32\n",
       "Name: TIPO_CASILLA, dtype: int64"
      ]
     },
     "execution_count": 30,
     "metadata": {},
     "output_type": "execute_result"
    }
   ],
   "source": [
    "df_copy.TIPO_CASILLA.value_counts()"
   ]
  },
  {
   "cell_type": "markdown",
   "metadata": {},
   "source": [
    "`UBICACION_CASILLA` - Identifica el tipo de casilla y toma los siguientes valores:\n",
    "* `1`: Urbana\n",
    "* `2`: No Urbana"
   ]
  },
  {
   "cell_type": "code",
   "execution_count": 31,
   "metadata": {},
   "outputs": [
    {
     "data": {
      "text/plain": [
       "1    103943\n",
       "2     52091\n",
       "Name: UBICACION_CASILLA, dtype: int64"
      ]
     },
     "execution_count": 31,
     "metadata": {},
     "output_type": "execute_result"
    }
   ],
   "source": [
    "df_copy.UBICACION_CASILLA.value_counts()"
   ]
  },
  {
   "cell_type": "markdown",
   "metadata": {},
   "source": [
    "*  `LISTA_NOMINAL` - Número de ciudadanos con derecho a votar que integran la lista nominal de las Actas PREP contabilizadas.\n",
    "* `TOTAL_BOLETAS_SOBRANTES` - Total de boletas no usadas y canceladas.\n",
    "* `TOTAL_VOTOS_SACADOS` - Tota de votos sacados de la urna\n",
    "* `TOTAL_PERSONAS_VOTARON` - Total de personas que votaron\n",
    "* `NO_REGISTRADOS` - Número de votos para candidatos no registrados\n",
    "* `NULOS` - Número de votos nulos\n",
    "* `TOTAL_VOTOS_ASENTADO` - Se refiere al total de votos asentado en el Acta PREP.\n",
    "* `TOTAL_VOTOS_CALCULADO` - Suma de los votos asentados en las actas PREP, para: los partidos políticos, combinaciones de estos, candidatos independientes, votos para candidatos no registrados y votos nulos. El total de votos se calcula mediante la suma que realiza automáticamente el sistema informático del PREP."
   ]
  },
  {
   "cell_type": "code",
   "execution_count": 55,
   "metadata": {},
   "outputs": [
    {
     "data": {
      "text/plain": [
       "0      1044\n",
       "719     624\n",
       "677     624\n",
       "721     604\n",
       "722     600\n",
       "Name: LISTA_NOMINAL, dtype: int64"
      ]
     },
     "execution_count": 55,
     "metadata": {},
     "output_type": "execute_result"
    }
   ],
   "source": [
    "df_copy.LISTA_NOMINAL = df_copy.LISTA_NOMINAL.astype('int64')\n",
    "df_copy.LISTA_NOMINAL.value_counts().head()"
   ]
  },
  {
   "cell_type": "code",
   "execution_count": 56,
   "metadata": {},
   "outputs": [
    {
     "data": {
      "text/plain": [
       "-           28108\n",
       "Sin dato     3590\n",
       "Ilegible     1817\n",
       "208           705\n",
       "206           673\n",
       "Name: TOTAL_BOLETAS_SOBRANTES, dtype: int64"
      ]
     },
     "execution_count": 56,
     "metadata": {},
     "output_type": "execute_result"
    }
   ],
   "source": [
    "df_copy.TOTAL_BOLETAS_SOBRANTES.value_counts().head()"
   ]
  },
  {
   "cell_type": "code",
   "execution_count": 57,
   "metadata": {},
   "outputs": [
    {
     "data": {
      "text/plain": [
       "-           28108\n",
       "Sin dato     8288\n",
       "0            2741\n",
       "Ilegible     2034\n",
       "1             581\n",
       "Name: TOTAL_VOTOS_SACADOS, dtype: int64"
      ]
     },
     "execution_count": 57,
     "metadata": {},
     "output_type": "execute_result"
    }
   ],
   "source": [
    "df_copy.TOTAL_VOTOS_SACADOS.value_counts().head()"
   ]
  },
  {
   "cell_type": "code",
   "execution_count": 58,
   "metadata": {},
   "outputs": [
    {
     "data": {
      "text/plain": [
       "-           28108\n",
       "Sin dato     3255\n",
       "Ilegible     2203\n",
       "0             852\n",
       "393           564\n",
       "Name: TOTAL_PERSONAS_VOTARON, dtype: int64"
      ]
     },
     "execution_count": 58,
     "metadata": {},
     "output_type": "execute_result"
    }
   ],
   "source": [
    "df_copy.TOTAL_PERSONAS_VOTARON.value_counts().head()"
   ]
  },
  {
   "cell_type": "code",
   "execution_count": 59,
   "metadata": {},
   "outputs": [
    {
     "data": {
      "text/plain": [
       "0           92582\n",
       "-           28076\n",
       "Sin dato    16087\n",
       "1           11046\n",
       "Ilegible     2701\n",
       "Name: NO_REGISTRADOS, dtype: int64"
      ]
     },
     "execution_count": 59,
     "metadata": {},
     "output_type": "execute_result"
    }
   ],
   "source": [
    "df_copy.NO_REGISTRADOS.value_counts().head()"
   ]
  },
  {
   "cell_type": "code",
   "execution_count": 60,
   "metadata": {},
   "outputs": [
    {
     "data": {
      "text/plain": [
       "-    28076\n",
       "6    10055\n",
       "7    10026\n",
       "8     9927\n",
       "5     9252\n",
       "Name: NULOS, dtype: int64"
      ]
     },
     "execution_count": 60,
     "metadata": {},
     "output_type": "execute_result"
    }
   ],
   "source": [
    "df_copy.NULOS.value_counts().head()"
   ]
  },
  {
   "cell_type": "code",
   "execution_count": 61,
   "metadata": {},
   "outputs": [
    {
     "data": {
      "text/plain": [
       "-           28076\n",
       "Sin dato     4135\n",
       "Ilegible     2916\n",
       "374           556\n",
       "398           547\n",
       "Name: TOTAL_VOTOS_ASENTADO, dtype: int64"
      ]
     },
     "execution_count": 61,
     "metadata": {},
     "output_type": "execute_result"
    }
   ],
   "source": [
    "df_copy.TOTAL_VOTOS_ASENTADO.value_counts().head()"
   ]
  },
  {
   "cell_type": "code",
   "execution_count": 62,
   "metadata": {},
   "outputs": [
    {
     "data": {
      "text/plain": [
       "-      28076\n",
       "0       2183\n",
       "364      574\n",
       "386      572\n",
       "398      562\n",
       "Name: TOTAL_VOTOS_CALCULADO, dtype: int64"
      ]
     },
     "execution_count": 62,
     "metadata": {},
     "output_type": "execute_result"
    }
   ],
   "source": [
    "df_copy.TOTAL_VOTOS_CALCULADO.value_counts().head()"
   ]
  },
  {
   "cell_type": "markdown",
   "metadata": {},
   "source": [
    "* `PAN` - Número de votos para el Partido Acción Nacional\n",
    "* `PRI` - Número de votos para el Partido Revolucionario Institucional\n",
    "* `PRD` - Número de votos para el Partido de la Revolución Democrática\n",
    "* `PVEM` - Número de votos para el Partido Verde Ecologista de México\n",
    "* `PT` - Número de votos para el Partido del Trabajo\n",
    "* `MC` - Número de votos para Partido Movimiento Ciudadano\n",
    "* `PANAL` - Número de votos para Partido Nueva Alianza\n",
    "* `MORENA` - Número de votos para Partido Morena\n",
    "* `PES` - Número de votos para Partido Encuentro Social"
   ]
  },
  {
   "cell_type": "code",
   "execution_count": 63,
   "metadata": {},
   "outputs": [
    {
     "data": {
      "text/plain": [
       "-           28076\n",
       "Ilegible     2098\n",
       "34           1514\n",
       "36           1504\n",
       "40           1504\n",
       "Name: PAN, dtype: int64"
      ]
     },
     "execution_count": 63,
     "metadata": {},
     "output_type": "execute_result"
    }
   ],
   "source": [
    "df_copy.PAN.value_counts().head()"
   ]
  },
  {
   "cell_type": "code",
   "execution_count": 64,
   "metadata": {},
   "outputs": [
    {
     "data": {
      "text/plain": [
       "-     28076\n",
       "29     2389\n",
       "34     2378\n",
       "32     2364\n",
       "36     2356\n",
       "Name: PRI, dtype: int64"
      ]
     },
     "execution_count": 64,
     "metadata": {},
     "output_type": "execute_result"
    }
   ],
   "source": [
    "df_copy.PRI.value_counts().head()"
   ]
  },
  {
   "cell_type": "code",
   "execution_count": 65,
   "metadata": {},
   "outputs": [
    {
     "data": {
      "text/plain": [
       "-    28076\n",
       "2    16851\n",
       "1    16705\n",
       "3    13941\n",
       "0    10632\n",
       "Name: PRD, dtype: int64"
      ]
     },
     "execution_count": 65,
     "metadata": {},
     "output_type": "execute_result"
    }
   ],
   "source": [
    "df_copy.PRD.value_counts().head()"
   ]
  },
  {
   "cell_type": "code",
   "execution_count": 66,
   "metadata": {},
   "outputs": [
    {
     "data": {
      "text/plain": [
       "-    28076\n",
       "1    23231\n",
       "2    21661\n",
       "3    16674\n",
       "0    15908\n",
       "Name: PVEM, dtype: int64"
      ]
     },
     "execution_count": 66,
     "metadata": {},
     "output_type": "execute_result"
    }
   ],
   "source": [
    "df_copy.PVEM.value_counts().head()"
   ]
  },
  {
   "cell_type": "code",
   "execution_count": 67,
   "metadata": {},
   "outputs": [
    {
     "data": {
      "text/plain": [
       "-     28076\n",
       "12     6027\n",
       "13     5996\n",
       "14     5872\n",
       "11     5830\n",
       "Name: PT, dtype: int64"
      ]
     },
     "execution_count": 67,
     "metadata": {},
     "output_type": "execute_result"
    }
   ],
   "source": [
    "df_copy.PT.value_counts().head()"
   ]
  },
  {
   "cell_type": "code",
   "execution_count": 68,
   "metadata": {},
   "outputs": [
    {
     "data": {
      "text/plain": [
       "-    28076\n",
       "2    22691\n",
       "1    21634\n",
       "3    18379\n",
       "0    13090\n",
       "Name: MC, dtype: int64"
      ]
     },
     "execution_count": 68,
     "metadata": {},
     "output_type": "execute_result"
    }
   ],
   "source": [
    "df_copy.MC.value_counts().head()"
   ]
  },
  {
   "cell_type": "code",
   "execution_count": 69,
   "metadata": {},
   "outputs": [
    {
     "data": {
      "text/plain": [
       "1    30977\n",
       "-    28076\n",
       "2    24500\n",
       "0    23407\n",
       "3    15885\n",
       "Name: PANAL, dtype: int64"
      ]
     },
     "execution_count": 69,
     "metadata": {},
     "output_type": "execute_result"
    }
   ],
   "source": [
    "df_copy.PANAL.value_counts().head()"
   ]
  },
  {
   "cell_type": "code",
   "execution_count": 70,
   "metadata": {},
   "outputs": [
    {
     "data": {
      "text/plain": [
       "-           28076\n",
       "Ilegible     2271\n",
       "Sin dato      705\n",
       "148           642\n",
       "152           638\n",
       "Name: MORENA, dtype: int64"
      ]
     },
     "execution_count": 70,
     "metadata": {},
     "output_type": "execute_result"
    }
   ],
   "source": [
    "df_copy.MORENA.value_counts().head()"
   ]
  },
  {
   "cell_type": "code",
   "execution_count": 71,
   "metadata": {},
   "outputs": [
    {
     "data": {
      "text/plain": [
       "-    28076\n",
       "4    13985\n",
       "5    13421\n",
       "3    13158\n",
       "6    12136\n",
       "Name: PES, dtype: int64"
      ]
     },
     "execution_count": 71,
     "metadata": {},
     "output_type": "execute_result"
    }
   ],
   "source": [
    "df_copy.PES.value_counts().head()"
   ]
  },
  {
   "cell_type": "code",
   "execution_count": null,
   "metadata": {},
   "outputs": [],
   "source": []
  },
  {
   "cell_type": "code",
   "execution_count": null,
   "metadata": {},
   "outputs": [],
   "source": []
  },
  {
   "cell_type": "code",
   "execution_count": null,
   "metadata": {},
   "outputs": [],
   "source": []
  }
 ],
 "metadata": {
  "kernelspec": {
   "display_name": "Python 3",
   "language": "python",
   "name": "python3"
  },
  "language_info": {
   "codemirror_mode": {
    "name": "ipython",
    "version": 3
   },
   "file_extension": ".py",
   "mimetype": "text/x-python",
   "name": "python",
   "nbconvert_exporter": "python",
   "pygments_lexer": "ipython3",
   "version": "3.6.4"
  }
 },
 "nbformat": 4,
 "nbformat_minor": 2
}
